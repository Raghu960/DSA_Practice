{
 "cells": [
  {
   "cell_type": "markdown",
   "metadata": {},
   "source": [
    "# Sorting Part 1"
   ]
  },
  {
   "cell_type": "markdown",
   "metadata": {},
   "source": [
    "### Selection sort\n",
    "\n",
    "This takes the minimum to the first and then keeps sorting that way"
   ]
  },
  {
   "cell_type": "code",
   "execution_count": 3,
   "metadata": {},
   "outputs": [],
   "source": [
    "def selection_sort1(lst):\n",
    "    for ix in range(0,len(lst)-1):\n",
    "        #assign a min_val index as 1st element\n",
    "        minm = ix\n",
    "        for j in range(ix,len(lst)):\n",
    "            if lst[j] < lst[minm]:\n",
    "                minm = j\n",
    "        # swap\n",
    "        temp = lst[minm] #temp 7\n",
    "        lst[minm] = lst[ix] #lst[ix] = 2\n",
    "        lst[ix] = temp # lst[var] = 7\n",
    "        print(lst)\n",
    "    return lst\n",
    "\n",
    "#Time complexity: O(n**2)\n",
    "# Space complexity: O(1)"
   ]
  },
  {
   "cell_type": "code",
   "execution_count": 5,
   "metadata": {},
   "outputs": [
    {
     "name": "stdout",
     "output_type": "stream",
     "text": [
      "[1, 7, 4, 0, 2, 8, 4, 6, 8, 1]\n",
      "[0, 7, 4, 1, 2, 8, 4, 6, 8, 1]\n",
      "[0, 1, 4, 7, 2, 8, 4, 6, 8, 1]\n",
      "[0, 1, 1, 7, 2, 8, 4, 6, 8, 4]\n",
      "[0, 1, 1, 2, 7, 8, 4, 6, 8, 4]\n",
      "[0, 1, 1, 2, 4, 8, 7, 6, 8, 4]\n",
      "[0, 1, 1, 2, 4, 4, 7, 6, 8, 8]\n",
      "[0, 1, 1, 2, 4, 4, 6, 7, 8, 8]\n",
      "[0, 1, 1, 2, 4, 4, 6, 7, 8, 8]\n",
      "[0, 1, 1, 2, 4, 4, 6, 7, 8, 8]\n"
     ]
    },
    {
     "data": {
      "text/plain": [
       "[0, 1, 1, 2, 4, 4, 6, 7, 8, 8]"
      ]
     },
     "execution_count": 5,
     "metadata": {},
     "output_type": "execute_result"
    }
   ],
   "source": [
    "l = [1,7,4,0,2,8,4,6,8,1]\n",
    "#l = [13,46,24,52,20,9]\n",
    "print(l)\n",
    "selection_sort1(l)"
   ]
  },
  {
   "cell_type": "raw",
   "metadata": {},
   "source": [
    "l = [13,46,24,52,20,9]\n",
    "7\n",
    "7 len\n",
    "if 4 < 7\n",
    "    min_val = 4\n",
    "if 4 < 4\n",
    "if 2 < 4\n",
    "    min_val = 2\n",
    "if 8 < 2\n",
    "if 4 < 2\n",
    "if 6 < 2\n",
    "if 8 < 2\n",
    "\n",
    "var = lst.index(min_val)\n",
    "### swap\n",
    "temp = lst[ix] #temp 7\n",
    "lst[ix] = lst[var] #lst[ix] = 2\n",
    "lst[var] = temp # lst[var] = 7"
   ]
  },
  {
   "cell_type": "markdown",
   "metadata": {},
   "source": [
    "###### Selection Sort Test"
   ]
  },
  {
   "cell_type": "code",
   "execution_count": 24,
   "metadata": {},
   "outputs": [],
   "source": [
    "def selection_sort_test(lst):\n",
    "    \n",
    "    for i in range(len(lst)-1):\n",
    "        min_index = i\n",
    "        for j in range(i,len(lst)):\n",
    "            if lst[min_index] > lst[j]:\n",
    "                min_index = j\n",
    "                \n",
    "        #swap\n",
    "        temp = lst[min_index]\n",
    "        lst[min_index] = lst[i]\n",
    "        lst[i] = temp\n",
    "        print(lst)\n",
    "    print(lst)"
   ]
  },
  {
   "cell_type": "code",
   "execution_count": 25,
   "metadata": {},
   "outputs": [
    {
     "name": "stdout",
     "output_type": "stream",
     "text": [
      "[0, 7, 4, 1, 2, 8, 4, 6, 8, 1]\n",
      "[0, 1, 4, 7, 2, 8, 4, 6, 8, 1]\n",
      "[0, 1, 1, 7, 2, 8, 4, 6, 8, 4]\n",
      "[0, 1, 1, 2, 7, 8, 4, 6, 8, 4]\n",
      "[0, 1, 1, 2, 4, 8, 7, 6, 8, 4]\n",
      "[0, 1, 1, 2, 4, 4, 7, 6, 8, 8]\n",
      "[0, 1, 1, 2, 4, 4, 6, 7, 8, 8]\n",
      "[0, 1, 1, 2, 4, 4, 6, 7, 8, 8]\n",
      "[0, 1, 1, 2, 4, 4, 6, 7, 8, 8]\n",
      "[0, 1, 1, 2, 4, 4, 6, 7, 8, 8]\n"
     ]
    }
   ],
   "source": [
    "l = [1,7,4,0,2,8,4,6,8,1]\n",
    "selection_sort_test(l)"
   ]
  },
  {
   "cell_type": "code",
   "execution_count": null,
   "metadata": {},
   "outputs": [],
   "source": []
  },
  {
   "cell_type": "markdown",
   "metadata": {},
   "source": [
    "###### find minimum"
   ]
  },
  {
   "cell_type": "code",
   "execution_count": 17,
   "metadata": {},
   "outputs": [],
   "source": [
    "l = [0,7,4,2,8,4,1,6,8]"
   ]
  },
  {
   "cell_type": "code",
   "execution_count": 19,
   "metadata": {},
   "outputs": [
    {
     "name": "stdout",
     "output_type": "stream",
     "text": [
      "0\n"
     ]
    }
   ],
   "source": [
    "for index in range(len(l)-1):\n",
    "    if l[index] < l[index+1]:\n",
    "        #swap\n",
    "        temp = l[index]\n",
    "        l[index] = l[index+1]\n",
    "        l[index+1] = temp\n",
    "n = len(l)        \n",
    "print(l[n-1])"
   ]
  },
  {
   "cell_type": "code",
   "execution_count": 20,
   "metadata": {},
   "outputs": [
    {
     "data": {
      "text/plain": [
       "0"
      ]
     },
     "execution_count": 20,
     "metadata": {},
     "output_type": "execute_result"
    }
   ],
   "source": [
    "def find_min_value(lst):\n",
    "    min_value = lst[0]\n",
    "    for value in lst:\n",
    "        if value < min_value:\n",
    "            min_value = value\n",
    "    return min_value\n",
    "find_min_value(l)"
   ]
  },
  {
   "cell_type": "markdown",
   "metadata": {},
   "source": [
    "### Bubble sort\n",
    "\n",
    "This takes the maximum to the end and then keeps sorting in reverse order"
   ]
  },
  {
   "cell_type": "code",
   "execution_count": 26,
   "metadata": {},
   "outputs": [],
   "source": [
    "def Bubble_sort(lst):\n",
    "    for i in range(len(lst)-1,0,-1):\n",
    "        for j in range(0,i):\n",
    "            if lst[j] > lst[j+1]:\n",
    "                #swap adjacent\n",
    "                temp = lst[j]\n",
    "                lst[j] = lst[j+1]\n",
    "                lst[j+1] = temp\n",
    "        print(lst)\n",
    "    print(lst)\n",
    "    return lst\n",
    " \n",
    "#Time complexity: O(n**2) avg and worst\n",
    "# Space complexity: O(1)\n",
    "\n",
    "\n",
    "def Bubble_sort_optimized(lst):\n",
    "    for i in range(len(lst)-1,0,-1):\n",
    "        swap = 0\n",
    "        for j in range(0,i):\n",
    "            if lst[j] > lst[j+1]:\n",
    "                #swap adjacent\n",
    "                temp = lst[j]\n",
    "                lst[j] = lst[j+1]\n",
    "                lst[j+1] = temp\n",
    "                swap = 1\n",
    "        if swap == 0:\n",
    "            break\n",
    "        print(lst)\n",
    "    return lst\n",
    "\n",
    "#Time complexity: O(n) Best case\n",
    "# Space complexity: O(1)"
   ]
  },
  {
   "cell_type": "code",
   "execution_count": 44,
   "metadata": {},
   "outputs": [
    {
     "name": "stdout",
     "output_type": "stream",
     "text": [
      "[3, 4, 8, 1, 9]\n",
      "[3, 4, 1, 8, 9]\n",
      "[3, 1, 4, 8, 9]\n",
      "[1, 3, 4, 8, 9]\n",
      "[1, 3, 4, 8, 9]\n"
     ]
    },
    {
     "data": {
      "text/plain": [
       "[1, 3, 4, 8, 9]"
      ]
     },
     "execution_count": 44,
     "metadata": {},
     "output_type": "execute_result"
    }
   ],
   "source": [
    "#lst = [0,7,4,2,8,4,1,6,8,5]\n",
    "lst = [4,3,9,8,1]\n",
    "#lst = [9, 13, 20, 24, 46, 52]\n",
    "#lst = [13,46,24,52,20,9]\n",
    "#Bubble_sort_optimized(lst)\n",
    "Bubble_sort(lst)"
   ]
  },
  {
   "cell_type": "markdown",
   "metadata": {},
   "source": [
    "###### Bubble sort Test"
   ]
  },
  {
   "cell_type": "code",
   "execution_count": 43,
   "metadata": {},
   "outputs": [
    {
     "name": "stdout",
     "output_type": "stream",
     "text": [
      "[0, 7, 4, 2, 8, 4, 1, 6, 8]\n",
      "[0, 7, 4, 2, 8, 6, 1, 4, 8]\n",
      "[0, 7, 4, 2, 8, 1, 6, 4, 8]\n",
      "[0, 7, 1, 2, 8, 4, 6, 4, 8]\n",
      "[0, 7, 1, 2, 8, 4, 6, 4, 8]\n",
      "[0, 7, 2, 1, 8, 4, 6, 4, 8]\n",
      "[2, 7, 0, 1, 8, 4, 6, 4, 8]\n",
      "[7, 2, 0, 1, 8, 4, 6, 4, 8]\n",
      "[7, 2, 0, 1, 8, 4, 6, 4, 8]\n"
     ]
    }
   ],
   "source": [
    "lst = [0,7,4,2,8,4,1,6,8]\n",
    "#lst = [9, 13, 20, 24, 46, 52]\n",
    "#lst = [13,46,24,52,20,9]\n",
    "bubble_sort_test(lst)"
   ]
  },
  {
   "cell_type": "code",
   "execution_count": 42,
   "metadata": {},
   "outputs": [],
   "source": [
    "def bubble_sort_test(lst):\n",
    "    for i in range(len(lst)-1,0,-1):\n",
    "        max_index = i\n",
    "        for j in range(0,i):\n",
    "            if lst[j-1] > lst[max_index]:\n",
    "                max_index = j\n",
    "        #swap\n",
    "        temp = lst[i]\n",
    "        lst[i] = lst[max_index]\n",
    "        lst[max_index] = temp\n",
    "        print(lst)\n",
    "    print(lst)"
   ]
  },
  {
   "cell_type": "markdown",
   "metadata": {},
   "source": [
    "### Insertion sort\n",
    "\n",
    "1. Select an element in each iteration from the unsorted array(using a loop).\n",
    "2. Place it in its corresponding position in the sorted part and shift the remaining elements accordingly (using an inner loop and swapping).\n",
    "3. The “inner while loop” basically shifts the elements using swapping."
   ]
  },
  {
   "cell_type": "code",
   "execution_count": 70,
   "metadata": {},
   "outputs": [],
   "source": [
    " def insertion_sort(lst):\n",
    "        for i in range(0,len(lst)):\n",
    "            j = i\n",
    "            while (j > 0 and lst[j-1]>lst[j]):\n",
    "                #swap\n",
    "                temp = lst[j-1]\n",
    "                lst[j-1] = lst[j]\n",
    "                lst[j] = temp\n",
    "                j -= 1\n",
    "            print(lst)\n",
    "        return lst\n",
    "    "
   ]
  },
  {
   "cell_type": "code",
   "execution_count": 71,
   "metadata": {},
   "outputs": [
    {
     "name": "stdout",
     "output_type": "stream",
     "text": [
      "[13, 46, 24, 52, 20, 9]\n",
      "[13, 46, 24, 52, 20, 9]\n",
      "[13, 24, 46, 52, 20, 9]\n",
      "[13, 24, 46, 52, 20, 9]\n",
      "[13, 20, 24, 46, 52, 9]\n",
      "[9, 13, 20, 24, 46, 52]\n"
     ]
    },
    {
     "data": {
      "text/plain": [
       "[9, 13, 20, 24, 46, 52]"
      ]
     },
     "execution_count": 71,
     "metadata": {},
     "output_type": "execute_result"
    }
   ],
   "source": [
    "#lst = [0,7,4,2,8,4,1,6,8]\n",
    "#lst = [9, 13, 20, 24, 46, 52]\n",
    "lst = [13,46,24,52,20,9]\n",
    "insertion_sort(lst)"
   ]
  },
  {
   "cell_type": "markdown",
   "metadata": {},
   "source": [
    "###### Merge Sort Rough"
   ]
  },
  {
   "cell_type": "code",
   "execution_count": 112,
   "metadata": {},
   "outputs": [],
   "source": [
    "def mergesort(arr,low,high):\n",
    "    if len(arr) > 1:\n",
    "        \n",
    "        mid = len(arr) // 2\n",
    "        #print(arr,\"--\",low,mid,high,\"----\")\n",
    "        mergesort(arr,low,mid)\n",
    "        mergesort(arr,mid+1,high)   \n",
    "        print(arr,'before sort',low,mid,high)\n",
    "        \n",
    "        sarr = merge(arr,low,mid,high)\n",
    "        print(sarr,'after sort')\n",
    "        #print(sarr,\">>>>\")\n",
    "    \n",
    "def merge(arr,low,mid,high):\n",
    "    left = low\n",
    "    right = mid + 1\n",
    "    sorted_arr = []\n",
    "    index = 0\n",
    "    while ((left <= mid) and (right <= high)):\n",
    "        if (arr[left] <= arr[right]):\n",
    "            sorted_arr.append(arr[left])\n",
    "            left += 1\n",
    "        else:\n",
    "            sorted_arr.append(arr[right])\n",
    "            right += 1\n",
    "#         index += 1\n",
    "    while(left <= mid):\n",
    "        sorted_arr.append(arr[left])\n",
    "        left += 1\n",
    "#         index += 1\n",
    "    while (right <= high):\n",
    "        sorted_arr.append(arr[right])\n",
    "        right += 1\n",
    "#         index += 1\n",
    "    #print(sorted_arr,\"****\")\n",
    "    return sorted_arr"
   ]
  },
  {
   "cell_type": "code",
   "execution_count": 113,
   "metadata": {},
   "outputs": [
    {
     "name": "stdout",
     "output_type": "stream",
     "text": [
      "[0, 7, 4, 2, 8, 4, 1, 6, 8] before sort 0 0 1\n",
      "[0, 7] after sort\n",
      "[0, 7, 4, 2, 8, 4, 1, 6, 8] before sort 0 1 2\n",
      "[0, 4, 7] after sort\n",
      "[0, 7, 4, 2, 8, 4, 1, 6, 8] before sort 3 3 4\n",
      "[2, 8] after sort\n",
      "[0, 7, 4, 2, 8, 4, 1, 6, 8] before sort 0 2 4\n",
      "[0, 2, 7, 4, 8] after sort\n",
      "[0, 7, 4, 2, 8, 4, 1, 6, 8] before sort 5 5 6\n",
      "[1, 4] after sort\n",
      "[0, 7, 4, 2, 8, 4, 1, 6, 8] before sort 7 7 8\n",
      "[6, 8] after sort\n",
      "[0, 7, 4, 2, 8, 4, 1, 6, 8] before sort 5 6 8\n",
      "[4, 1, 6, 8] after sort\n",
      "[0, 7, 4, 2, 8, 4, 1, 6, 8] before sort 0 4 8\n",
      "[0, 4, 1, 6, 7, 4, 2, 8, 8] after sort\n"
     ]
    }
   ],
   "source": [
    "\n",
    "lst = [0,7,4,2,8,4,1,6,8]\n",
    "#lst = [9, 13, 20, 24, 46, 52]\n",
    "#lst = [13,46,24,52,20,9]\n",
    "#high = int(len(lst)-1)\n",
    "mergesort(lst,0,len(lst)-1)"
   ]
  },
  {
   "cell_type": "code",
   "execution_count": null,
   "metadata": {},
   "outputs": [],
   "source": []
  },
  {
   "cell_type": "code",
   "execution_count": null,
   "metadata": {},
   "outputs": [],
   "source": []
  },
  {
   "cell_type": "code",
   "execution_count": 148,
   "metadata": {},
   "outputs": [
    {
     "name": "stdout",
     "output_type": "stream",
     "text": [
      "0 4 8\n",
      "[0, 7, 4, 2] 4\n",
      "[8, 4, 1, 6] 4\n"
     ]
    }
   ],
   "source": [
    "lst = [0,7,4,2,8,4,1,6,8]\n",
    "\n",
    "mid = len(lst) // 2\n",
    "low = 0\n",
    "high = len(lst) - 1\n",
    "print(low,mid,high)\n",
    "left_half = lst[low:mid]\n",
    "right_half = lst[mid:high]\n",
    "print(left_half,len(left_half))\n",
    "print(right_half,len(right_half))"
   ]
  },
  {
   "cell_type": "code",
   "execution_count": 55,
   "metadata": {},
   "outputs": [
    {
     "data": {
      "text/plain": [
       "[2]"
      ]
     },
     "execution_count": 55,
     "metadata": {},
     "output_type": "execute_result"
    }
   ],
   "source": [
    "ls"
   ]
  },
  {
   "cell_type": "code",
   "execution_count": 158,
   "metadata": {},
   "outputs": [],
   "source": [
    "lst = [0,7,4,2,8,4,1,6,8]"
   ]
  },
  {
   "cell_type": "code",
   "execution_count": 211,
   "metadata": {},
   "outputs": [],
   "source": [
    "def merge_sort(arr,low,high):\n",
    "    if len(arr) > 1:\n",
    "        mid = len(arr) // 2\n",
    "        \n",
    "        \n",
    "        \n",
    "        left_half = arr[low:mid]\n",
    "        right_half = arr[mid:high]\n",
    "\n",
    "        # Recursive calls to merge_sort() for the left and right halves\n",
    "        merge_sort(left_half,low,mid)\n",
    "        merge_sort(right_half,mid+1,high)\n",
    "        print(mid,high,\"vars\")\n",
    "        print(len(left_half),len(right_half),\"arr_len\")\n",
    "        # Merge the sorted left and right halves\n",
    "        left_index, right_index, result_index = 0, 0, 0\n",
    "        while left_index <= len(left_half) and right_index <= len(right_half):\n",
    "            if left_half[left_index] <= right_half[right_index]:\n",
    "                arr[result_index] = left_half[left_index]\n",
    "                left_index += 1\n",
    "            else:\n",
    "                arr[result_index] = right_half[right_index]\n",
    "                right_index += 1\n",
    "            result_index += 1\n",
    "\n",
    "        # Copy the remaining elements from the left or right half\n",
    "        while left_index < len(left_half):\n",
    "            arr[result_index] = left_half[left_index]\n",
    "            left_index += 1\n",
    "            result_index += 1\n",
    "\n",
    "        while right_index < len(right_half):\n",
    "            arr[result_index] = right_half[right_index]\n",
    "            right_index += 1\n",
    "            result_index += 1\n",
    "\n",
    "    return arr\n"
   ]
  },
  {
   "cell_type": "code",
   "execution_count": 212,
   "metadata": {},
   "outputs": [
    {
     "name": "stdout",
     "output_type": "stream",
     "text": [
      "1 2 vars\n",
      "1 1 arr_len\n"
     ]
    },
    {
     "ename": "IndexError",
     "evalue": "list index out of range",
     "output_type": "error",
     "traceback": [
      "\u001b[1;31m---------------------------------------------------------------------------\u001b[0m",
      "\u001b[1;31mIndexError\u001b[0m                                Traceback (most recent call last)",
      "\u001b[1;32m<ipython-input-212-cf3fd1a1bfaf>\u001b[0m in \u001b[0;36m<module>\u001b[1;34m\u001b[0m\n\u001b[0;32m      1\u001b[0m \u001b[0mlow\u001b[0m\u001b[1;33m=\u001b[0m\u001b[1;36m0\u001b[0m\u001b[1;33m\u001b[0m\u001b[1;33m\u001b[0m\u001b[0m\n\u001b[0;32m      2\u001b[0m \u001b[0mhigh\u001b[0m\u001b[1;33m=\u001b[0m\u001b[0mlen\u001b[0m\u001b[1;33m(\u001b[0m\u001b[0mlst\u001b[0m\u001b[1;33m)\u001b[0m\u001b[1;33m-\u001b[0m\u001b[1;36m1\u001b[0m\u001b[1;33m\u001b[0m\u001b[1;33m\u001b[0m\u001b[0m\n\u001b[1;32m----> 3\u001b[1;33m \u001b[0mprint\u001b[0m\u001b[1;33m(\u001b[0m\u001b[0mmerge_sort\u001b[0m\u001b[1;33m(\u001b[0m\u001b[0mlst\u001b[0m\u001b[1;33m,\u001b[0m\u001b[0mlow\u001b[0m\u001b[1;33m,\u001b[0m\u001b[0mhigh\u001b[0m\u001b[1;33m)\u001b[0m\u001b[1;33m)\u001b[0m\u001b[1;33m\u001b[0m\u001b[1;33m\u001b[0m\u001b[0m\n\u001b[0m",
      "\u001b[1;32m<ipython-input-211-1649f88d9160>\u001b[0m in \u001b[0;36mmerge_sort\u001b[1;34m(arr, low, high)\u001b[0m\n\u001b[0;32m      9\u001b[0m \u001b[1;33m\u001b[0m\u001b[0m\n\u001b[0;32m     10\u001b[0m         \u001b[1;31m# Recursive calls to merge_sort() for the left and right halves\u001b[0m\u001b[1;33m\u001b[0m\u001b[1;33m\u001b[0m\u001b[1;33m\u001b[0m\u001b[0m\n\u001b[1;32m---> 11\u001b[1;33m         \u001b[0mmerge_sort\u001b[0m\u001b[1;33m(\u001b[0m\u001b[0mleft_half\u001b[0m\u001b[1;33m,\u001b[0m\u001b[0mlow\u001b[0m\u001b[1;33m,\u001b[0m\u001b[0mmid\u001b[0m\u001b[1;33m)\u001b[0m\u001b[1;33m\u001b[0m\u001b[1;33m\u001b[0m\u001b[0m\n\u001b[0m\u001b[0;32m     12\u001b[0m         \u001b[0mmerge_sort\u001b[0m\u001b[1;33m(\u001b[0m\u001b[0mright_half\u001b[0m\u001b[1;33m,\u001b[0m\u001b[0mmid\u001b[0m\u001b[1;33m+\u001b[0m\u001b[1;36m1\u001b[0m\u001b[1;33m,\u001b[0m\u001b[0mhigh\u001b[0m\u001b[1;33m)\u001b[0m\u001b[1;33m\u001b[0m\u001b[1;33m\u001b[0m\u001b[0m\n\u001b[0;32m     13\u001b[0m         \u001b[0mprint\u001b[0m\u001b[1;33m(\u001b[0m\u001b[0mmid\u001b[0m\u001b[1;33m,\u001b[0m\u001b[0mhigh\u001b[0m\u001b[1;33m,\u001b[0m\u001b[1;34m\"vars\"\u001b[0m\u001b[1;33m)\u001b[0m\u001b[1;33m\u001b[0m\u001b[1;33m\u001b[0m\u001b[0m\n",
      "\u001b[1;32m<ipython-input-211-1649f88d9160>\u001b[0m in \u001b[0;36mmerge_sort\u001b[1;34m(arr, low, high)\u001b[0m\n\u001b[0;32m      9\u001b[0m \u001b[1;33m\u001b[0m\u001b[0m\n\u001b[0;32m     10\u001b[0m         \u001b[1;31m# Recursive calls to merge_sort() for the left and right halves\u001b[0m\u001b[1;33m\u001b[0m\u001b[1;33m\u001b[0m\u001b[1;33m\u001b[0m\u001b[0m\n\u001b[1;32m---> 11\u001b[1;33m         \u001b[0mmerge_sort\u001b[0m\u001b[1;33m(\u001b[0m\u001b[0mleft_half\u001b[0m\u001b[1;33m,\u001b[0m\u001b[0mlow\u001b[0m\u001b[1;33m,\u001b[0m\u001b[0mmid\u001b[0m\u001b[1;33m)\u001b[0m\u001b[1;33m\u001b[0m\u001b[1;33m\u001b[0m\u001b[0m\n\u001b[0m\u001b[0;32m     12\u001b[0m         \u001b[0mmerge_sort\u001b[0m\u001b[1;33m(\u001b[0m\u001b[0mright_half\u001b[0m\u001b[1;33m,\u001b[0m\u001b[0mmid\u001b[0m\u001b[1;33m+\u001b[0m\u001b[1;36m1\u001b[0m\u001b[1;33m,\u001b[0m\u001b[0mhigh\u001b[0m\u001b[1;33m)\u001b[0m\u001b[1;33m\u001b[0m\u001b[1;33m\u001b[0m\u001b[0m\n\u001b[0;32m     13\u001b[0m         \u001b[0mprint\u001b[0m\u001b[1;33m(\u001b[0m\u001b[0mmid\u001b[0m\u001b[1;33m,\u001b[0m\u001b[0mhigh\u001b[0m\u001b[1;33m,\u001b[0m\u001b[1;34m\"vars\"\u001b[0m\u001b[1;33m)\u001b[0m\u001b[1;33m\u001b[0m\u001b[1;33m\u001b[0m\u001b[0m\n",
      "\u001b[1;32m<ipython-input-211-1649f88d9160>\u001b[0m in \u001b[0;36mmerge_sort\u001b[1;34m(arr, low, high)\u001b[0m\n\u001b[0;32m     16\u001b[0m         \u001b[0mleft_index\u001b[0m\u001b[1;33m,\u001b[0m \u001b[0mright_index\u001b[0m\u001b[1;33m,\u001b[0m \u001b[0mresult_index\u001b[0m \u001b[1;33m=\u001b[0m \u001b[1;36m0\u001b[0m\u001b[1;33m,\u001b[0m \u001b[1;36m0\u001b[0m\u001b[1;33m,\u001b[0m \u001b[1;36m0\u001b[0m\u001b[1;33m\u001b[0m\u001b[1;33m\u001b[0m\u001b[0m\n\u001b[0;32m     17\u001b[0m         \u001b[1;32mwhile\u001b[0m \u001b[0mleft_index\u001b[0m \u001b[1;33m<=\u001b[0m \u001b[0mlen\u001b[0m\u001b[1;33m(\u001b[0m\u001b[0mleft_half\u001b[0m\u001b[1;33m)\u001b[0m \u001b[1;32mand\u001b[0m \u001b[0mright_index\u001b[0m \u001b[1;33m<=\u001b[0m \u001b[0mlen\u001b[0m\u001b[1;33m(\u001b[0m\u001b[0mright_half\u001b[0m\u001b[1;33m)\u001b[0m\u001b[1;33m:\u001b[0m\u001b[1;33m\u001b[0m\u001b[1;33m\u001b[0m\u001b[0m\n\u001b[1;32m---> 18\u001b[1;33m             \u001b[1;32mif\u001b[0m \u001b[0mleft_half\u001b[0m\u001b[1;33m[\u001b[0m\u001b[0mleft_index\u001b[0m\u001b[1;33m]\u001b[0m \u001b[1;33m<=\u001b[0m \u001b[0mright_half\u001b[0m\u001b[1;33m[\u001b[0m\u001b[0mright_index\u001b[0m\u001b[1;33m]\u001b[0m\u001b[1;33m:\u001b[0m\u001b[1;33m\u001b[0m\u001b[1;33m\u001b[0m\u001b[0m\n\u001b[0m\u001b[0;32m     19\u001b[0m                 \u001b[0marr\u001b[0m\u001b[1;33m[\u001b[0m\u001b[0mresult_index\u001b[0m\u001b[1;33m]\u001b[0m \u001b[1;33m=\u001b[0m \u001b[0mleft_half\u001b[0m\u001b[1;33m[\u001b[0m\u001b[0mleft_index\u001b[0m\u001b[1;33m]\u001b[0m\u001b[1;33m\u001b[0m\u001b[1;33m\u001b[0m\u001b[0m\n\u001b[0;32m     20\u001b[0m                 \u001b[0mleft_index\u001b[0m \u001b[1;33m+=\u001b[0m \u001b[1;36m1\u001b[0m\u001b[1;33m\u001b[0m\u001b[1;33m\u001b[0m\u001b[0m\n",
      "\u001b[1;31mIndexError\u001b[0m: list index out of range"
     ]
    }
   ],
   "source": [
    "low=0\n",
    "high=len(lst)-1\n",
    "print(merge_sort(lst,low,high))"
   ]
  },
  {
   "cell_type": "code",
   "execution_count": 207,
   "metadata": {},
   "outputs": [],
   "source": [
    "def merge_sort1(arr,low,high):\n",
    "    if len(arr) > 1:\n",
    "        mid = len(arr) // 2\n",
    "        left_half = arr[low:mid]\n",
    "        right_half = arr[mid:high]\n",
    "\n",
    "        # Recursive calls to merge_sort() for the left and right halves\n",
    "        merge_sort1(left_half,low,mid)\n",
    "        merge_sort1(right_half,mid+1,high)\n",
    "        print(left_half,'LH')\n",
    "        print(right_half,'RH')\n",
    "        # Merge the sorted left and right halves\n",
    "        left_index, right_index, result_index = 0, 0, 0\n",
    "        while left_index < len(left_half) and right_index < len(right_half):\n",
    "            if left_half[left_index] <= right_half[right_index]:\n",
    "                arr[result_index] = left_half[left_index]\n",
    "                left_index += 1\n",
    "            else:\n",
    "                arr[result_index] = right_half[right_index]\n",
    "                right_index += 1\n",
    "            result_index += 1\n",
    "\n",
    "        # Copy the remaining elements from the left or right half\n",
    "        while left_index < len(left_half):\n",
    "            arr[result_index] = left_half[left_index]\n",
    "            left_index += 1\n",
    "            result_index += 1\n",
    "\n",
    "        while right_index < len(right_half):\n",
    "            arr[result_index] = right_half[right_index]\n",
    "            right_index += 1\n",
    "            result_index += 1\n",
    "\n",
    "    return arr\n"
   ]
  },
  {
   "cell_type": "code",
   "execution_count": 209,
   "metadata": {},
   "outputs": [],
   "source": [
    "lst = [0,7,4,2,8,4,1,6,8]"
   ]
  },
  {
   "cell_type": "code",
   "execution_count": 210,
   "metadata": {},
   "outputs": [
    {
     "name": "stdout",
     "output_type": "stream",
     "text": [
      "[0] LH\n",
      "[7] RH\n",
      "[] LH\n",
      "[2] RH\n",
      "[0, 7] LH\n",
      "[2, 2] RH\n",
      "[] LH\n",
      "[8] RH\n",
      "[] LH\n",
      "[8, 8] RH\n",
      "[] LH\n",
      "[8, 8, 8] RH\n",
      "[0, 2, 2, 7] LH\n",
      "[8, 8, 8, 6, 8] RH\n",
      "[0, 2, 2, 7, 8, 8, 8, 6, 8]\n"
     ]
    }
   ],
   "source": [
    "low=0\n",
    "high=len(lst)\n",
    "print(merge_sort1(lst,low,high))"
   ]
  },
  {
   "cell_type": "code",
   "execution_count": null,
   "metadata": {},
   "outputs": [],
   "source": [
    "def mergesort(arr,low,high):\n",
    "    if len(arr) > 1:\n",
    "        \n",
    "        mid = len(arr) // 2\n",
    "        #print(arr,\"--\",low,mid,high,\"----\")\n",
    "        mergesort(arr,low,mid)\n",
    "        mergesort(arr,mid+1,high)   \n",
    "        print(arr,'before sort',low,mid,high)\n",
    "        \n",
    "        sarr = merge(arr,low,mid,high)\n",
    "        print(sarr,'after sort')\n",
    "        #print(sarr,\">>>>\")\n",
    "    \n",
    "def merge(arr,low,mid,high):\n",
    "    left = low\n",
    "    right = mid + 1\n",
    "    sorted_arr = []\n",
    "    index = 0\n",
    "    while ((left <= mid) and (right <= high)):\n",
    "        if (arr[left] <= arr[right]):\n",
    "            sorted_arr.append(arr[left])\n",
    "            left += 1\n",
    "        else:\n",
    "            sorted_arr.append(arr[right])\n",
    "            right += 1\n",
    "#         index += 1\n",
    "    while(left <= mid):\n",
    "        sorted_arr.append(arr[left])\n",
    "        left += 1\n",
    "#         index += 1\n",
    "    while (right <= high):\n",
    "        sorted_arr.append(arr[right])\n",
    "        right += 1\n",
    "#         index += 1\n",
    "    #print(sorted_arr,\"****\")\n",
    "    return sorted_arr"
   ]
  },
  {
   "cell_type": "code",
   "execution_count": null,
   "metadata": {},
   "outputs": [],
   "source": []
  },
  {
   "cell_type": "code",
   "execution_count": null,
   "metadata": {},
   "outputs": [],
   "source": []
  },
  {
   "cell_type": "code",
   "execution_count": null,
   "metadata": {},
   "outputs": [],
   "source": []
  },
  {
   "cell_type": "code",
   "execution_count": 206,
   "metadata": {},
   "outputs": [
    {
     "name": "stdout",
     "output_type": "stream",
     "text": [
      "[3, 2, 1] 0 1 2 -- [3, 2, 1]\n",
      "[3, 2, 1] 0 0 1 -- [3, 2]\n",
      "[3, 2, 1] bS\n",
      "### 0 1 0 1\n",
      "[2, 3] sorted_arr\n",
      "[3, 2, 1] bS\n",
      "### 0 2 1 2\n",
      "[1, 3, 2] sorted_arr\n",
      "None\n"
     ]
    }
   ],
   "source": [
    "#arr = [3,1,2,4,1,5,2,6,4]\n",
    "arr = [3,2,1]\n",
    "low = 0\n",
    "high = len(arr) - 1\n",
    "print(Ms(arr,low,high))"
   ]
  },
  {
   "cell_type": "code",
   "execution_count": 205,
   "metadata": {},
   "outputs": [],
   "source": [
    "def Ms(arr,low,high):\n",
    "    if low == high:\n",
    "        return\n",
    "    #print(arr,low,high,\"--\",arr[low:high+1])\n",
    "    mid = (low + high) // 2\n",
    "    print(arr,low,mid,high,\"--\",arr[low:high+1])\n",
    "    Ms(arr,low,mid)\n",
    "    Ms(arr,mid+1,high)\n",
    "    print(arr,\"bS\")\n",
    "    print(merge(arr,low,mid,high),\"sorted_arr\")\n",
    "def merge(arr,low,mid,high):\n",
    "    sorted_arr = []\n",
    "    left = low;\n",
    "    right = mid + 1\n",
    "    print(\"###\",left,right,mid,high)\n",
    "    while ((left <= mid) and (right <= high)) :\n",
    "        if(arr[left] <= arr[right]):\n",
    "            sorted_arr.append(arr[left])\n",
    "            left += 1\n",
    "        else:\n",
    "            sorted_arr.append(arr[right])\n",
    "            right += 1\n",
    "    while(left <= mid):\n",
    "        sorted_arr.append(arr[left])\n",
    "        left += 1\n",
    "    while(right <= high):\n",
    "        sorted_arr.append(arr[right])\n",
    "        right += 1\n",
    "    return sorted_arr\n",
    "    '''for i in range(low,high+1):\n",
    "        arr[i] = sorted_arr[i-low]'''"
   ]
  },
  {
   "cell_type": "code",
   "execution_count": 182,
   "metadata": {},
   "outputs": [],
   "source": [
    "array = []\n"
   ]
  },
  {
   "cell_type": "code",
   "execution_count": 186,
   "metadata": {},
   "outputs": [
    {
     "data": {
      "text/plain": [
       "[0, 1, 3, 5]"
      ]
     },
     "execution_count": 186,
     "metadata": {},
     "output_type": "execute_result"
    }
   ],
   "source": [
    "array.append(5)\n",
    "array"
   ]
  },
  {
   "cell_type": "markdown",
   "metadata": {},
   "source": [
    "### Final Merge sort"
   ]
  },
  {
   "cell_type": "code",
   "execution_count": 216,
   "metadata": {},
   "outputs": [],
   "source": [
    "def merge_sort123(arr):\n",
    "    if len(arr) > 1:\n",
    "        mid = len(arr) // 2\n",
    "        left_half = arr[:mid]\n",
    "        right_half = arr[mid:]\n",
    "\n",
    "        # Recursive calls to merge_sort() for the left and right halves\n",
    "        merge_sort123(left_half)\n",
    "        merge_sort123(right_half)\n",
    "\n",
    "        # Merge the sorted left and right halves\n",
    "        left_index, right_index, result_index = 0, 0, 0\n",
    "        while left_index < len(left_half) and right_index < len(right_half):\n",
    "            if left_half[left_index] <= right_half[right_index]:\n",
    "                arr[result_index] = left_half[left_index]\n",
    "                left_index += 1\n",
    "            else:\n",
    "                arr[result_index] = right_half[right_index]\n",
    "                right_index += 1\n",
    "            result_index += 1\n",
    "\n",
    "        # Copy the remaining elements from the left or right half\n",
    "        while left_index < len(left_half):\n",
    "            arr[result_index] = left_half[left_index]\n",
    "            left_index += 1\n",
    "            result_index += 1\n",
    "\n",
    "        while right_index < len(right_half):\n",
    "            arr[result_index] = right_half[right_index]\n",
    "            right_index += 1\n",
    "            result_index += 1\n",
    "\n",
    "    return arr\n"
   ]
  },
  {
   "cell_type": "code",
   "execution_count": 217,
   "metadata": {},
   "outputs": [
    {
     "name": "stdout",
     "output_type": "stream",
     "text": [
      "[1, 2, 3]\n"
     ]
    }
   ],
   "source": [
    "arr = [3,2,1]\n",
    "low = 0\n",
    "high = len(arr) - 1\n",
    "print(merge_sort123(arr))"
   ]
  },
  {
   "cell_type": "markdown",
   "metadata": {},
   "source": [
    "### Recursive Bubble sort "
   ]
  },
  {
   "cell_type": "code",
   "execution_count": 229,
   "metadata": {},
   "outputs": [],
   "source": [
    "def rec_bubble_sort(arr,n):\n",
    "    if n == 1:\n",
    "        return arr\n",
    "    for j in range(len(arr)-2):\n",
    "        if arr[j] > arr[j + 1]:\n",
    "            #swap\n",
    "            temp = arr[j]\n",
    "            arr[j] = arr[j+1]\n",
    "            arr[j+1] = temp\n",
    "    rec_bubble_sort(arr,n-1)\n",
    "    return arr"
   ]
  },
  {
   "cell_type": "code",
   "execution_count": 293,
   "metadata": {},
   "outputs": [
    {
     "name": "stdout",
     "output_type": "stream",
     "text": [
      "[1, 1, 2, 2, 4, 5, 8, 6]\n"
     ]
    }
   ],
   "source": [
    "#arr = [4, 1, 3, 9, 2]\n",
    "arr = [1,2,5,8,1,2,4,6]\n",
    "print(rec_bubble_sort(arr,len(arr)))\n",
    "#print(recursive_bubble_sort(arr,len(arr)))"
   ]
  },
  {
   "cell_type": "code",
   "execution_count": 292,
   "metadata": {},
   "outputs": [],
   "source": [
    "def rec_bubble_sort(arr, n):\n",
    "    if n == 1:\n",
    "        return arr\n",
    "\n",
    "    for j in range(0,n-2):\n",
    "        if arr[j] > arr[j+1]:\n",
    "            # swap\n",
    "            temp = arr[j+1]\n",
    "            arr[j+1] = arr[j]\n",
    "            arr[j] = temp\n",
    "\n",
    "    rec_bubble_sort(arr, n-1)\n",
    "\n",
    "    return arr\n"
   ]
  },
  {
   "cell_type": "markdown",
   "metadata": {},
   "source": [
    "### Recursive Insertion sort"
   ]
  },
  {
   "cell_type": "code",
   "execution_count": 297,
   "metadata": {},
   "outputs": [],
   "source": [
    "def recursion_insertion_sort(arr,i,n):\n",
    "    if i == n:\n",
    "        return\n",
    "    j = i\n",
    "    while(j >0 and arr[j] < arr[j-1]):\n",
    "        #swap\n",
    "        temp = arr[j-1]\n",
    "        arr[j-1] = arr[j]\n",
    "        arr[j] = temp\n",
    "    j -= 1\n",
    "    recursion_insertion_sort(arr,i+1,n)\n",
    "    return arr"
   ]
  },
  {
   "cell_type": "code",
   "execution_count": 298,
   "metadata": {},
   "outputs": [
    {
     "name": "stdout",
     "output_type": "stream",
     "text": [
      "[1, 2, 3]\n"
     ]
    }
   ],
   "source": [
    "sort_arr = [3,1,2]\n",
    "n = len(sort_arr)\n",
    "print(recursion_insertion_sort(sort_arr,0,n))"
   ]
  },
  {
   "cell_type": "markdown",
   "metadata": {},
   "source": [
    "#### Quick sort "
   ]
  },
  {
   "cell_type": "code",
   "execution_count": 305,
   "metadata": {},
   "outputs": [
    {
     "name": "stdout",
     "output_type": "stream",
     "text": [
      "[1, 2, 3, 4, 5]\n"
     ]
    }
   ],
   "source": [
    "arr_sort = [4,3,1,5,2]\n",
    "print(qs(arr_sort,0,len(arr_sort)-1))"
   ]
  },
  {
   "cell_type": "code",
   "execution_count": 306,
   "metadata": {},
   "outputs": [],
   "source": [
    "def pivot(arr,low,high):\n",
    "    piv = arr[low]\n",
    "    i = low\n",
    "    j = high\n",
    "    while (i<j):\n",
    "        while((arr[i] <= piv) and (i <= high-1)):\n",
    "            i += 1\n",
    "        while ((arr[j]>piv)and(j>=low+1)):\n",
    "            j -= 1\n",
    "        if (i < j):\n",
    "            #swap\n",
    "            arr[i],arr[j] = arr[j],arr[i]\n",
    "    #swap\n",
    "    arr[low],arr[j] = arr[j],arr[low]\n",
    "    return j\n",
    "\n",
    "def qs(arr,low,high):\n",
    "    if low < high:\n",
    "        par_index = pivot(arr,low,high)\n",
    "        qs(arr,low,par_index-1)\n",
    "        qs(arr,par_index+1,high)\n",
    "    return arr\n",
    "            \n",
    "            "
   ]
  },
  {
   "cell_type": "code",
   "execution_count": null,
   "metadata": {},
   "outputs": [],
   "source": [
    "def quick_sort(arr,piv,low,high):\n",
    "    piv = arr[low]\n",
    "    \n",
    "    for i in range(0,high):\n",
    "        for j in range(high,low,-1):\n",
    "            if j > i:\n",
    "                break\n",
    "            if arr[i] > piv: #4>4 3>4 1>4 5>4\n",
    "                \n",
    "            else:\n",
    "                i += 1"
   ]
  }
 ],
 "metadata": {
  "kernelspec": {
   "display_name": "Python 3",
   "language": "python",
   "name": "python3"
  },
  "language_info": {
   "codemirror_mode": {
    "name": "ipython",
    "version": 3
   },
   "file_extension": ".py",
   "mimetype": "text/x-python",
   "name": "python",
   "nbconvert_exporter": "python",
   "pygments_lexer": "ipython3",
   "version": "3.7.1"
  }
 },
 "nbformat": 4,
 "nbformat_minor": 2
}
