{
 "cells": [
  {
   "cell_type": "markdown",
   "metadata": {},
   "source": [
    "# Basic Math problems from striver A2Z sheet"
   ]
  },
  {
   "cell_type": "markdown",
   "metadata": {},
   "source": [
    "## Count of integer"
   ]
  },
  {
   "cell_type": "code",
   "execution_count": 57,
   "metadata": {},
   "outputs": [
    {
     "name": "stdout",
     "output_type": "stream",
     "text": [
      "Enter the input\n",
      "564\n",
      "3\n"
     ]
    }
   ],
   "source": [
    "print(\"Enter the input\")\n",
    "num = int(input())\n",
    "\n",
    "def count_of_digits_1(num):\n",
    "    counter = 0\n",
    "    while num >= 1:\n",
    "        num = int(num / 10)\n",
    "        counter += 1\n",
    "    return counter\n",
    "def count_of_digits_2(num):\n",
    "    return len(str(num))\n",
    "\n",
    "print(count_of_digits_2(num))\n",
    "\n",
    "#Time complexity: As this iterating through all the input this will take the input size which is O(n) for 1 and O(1) for 2\n",
    "#Space complexity: As this variables require to store the values are num and count irrespective of the \n",
    "# i/p size it will be same so O(1)"
   ]
  },
  {
   "cell_type": "markdown",
   "metadata": {},
   "source": [
    "## Reverse a number "
   ]
  },
  {
   "cell_type": "code",
   "execution_count": 56,
   "metadata": {},
   "outputs": [
    {
     "name": "stdout",
     "output_type": "stream",
     "text": [
      "Enter the input\n",
      "654\n",
      "456\n"
     ]
    }
   ],
   "source": [
    "print(\"Enter the input\")\n",
    "num = int(input())\n",
    "\n",
    "def reverse_number_1(num):\n",
    "    rev_num = 0\n",
    "    while num >= 1:\n",
    "        int_digit = num % 10\n",
    "        rev_num = rev_num * 10 + int_digit\n",
    "        num = num // 10\n",
    "    return rev_num\n",
    "#Time complexity: O(n)\n",
    "# Space complexity: O(1)\n",
    "\n",
    "def reverse_number_2(num):\n",
    "    num = str(num)\n",
    "    r_num = ''\n",
    "    for i in range(len(num),0,-1):\n",
    "        r_num = r_num + num[i-1]\n",
    "    return r_num\n",
    "#Time complexity: O(n)\n",
    "# Space complexity: O(n)\n",
    "\n",
    "    \n",
    "print(reverse_number_2(num))\n",
    "\n"
   ]
  },
  {
   "cell_type": "markdown",
   "metadata": {},
   "source": [
    "## Check Palindrome"
   ]
  },
  {
   "cell_type": "code",
   "execution_count": 66,
   "metadata": {},
   "outputs": [
    {
     "name": "stdout",
     "output_type": "stream",
     "text": [
      "Enter the input\n",
      "121\n",
      "True\n"
     ]
    }
   ],
   "source": [
    "print(\"Enter the input\")\n",
    "num = int(input())\n",
    "\n",
    "def check_palindrom(num):\n",
    "    num = str(num)\n",
    "    r_num = ''\n",
    "    for i in range(len(num),0,-1):\n",
    "        r_num = r_num + num[i-1]\n",
    "    if num == r_num:\n",
    "        return True\n",
    "    else:\n",
    "        return False\n",
    "    \n",
    "if __name__ == \"__main__\":  \n",
    "    print(check_palindrom(num))"
   ]
  },
  {
   "cell_type": "markdown",
   "metadata": {},
   "source": [
    "## GCD or HCF"
   ]
  },
  {
   "cell_type": "code",
   "execution_count": 83,
   "metadata": {},
   "outputs": [
    {
     "name": "stdout",
     "output_type": "stream",
     "text": [
      "Enter the input 1\n",
      "12\n",
      "Enter the input 2\n",
      "24\n",
      "12\n"
     ]
    }
   ],
   "source": [
    "print(\"Enter the input 1\")\n",
    "num1 = int(input())\n",
    "print(\"Enter the input 2\")\n",
    "num2 = int(input())\n",
    "\n",
    "def print_GCD(num1,num2):\n",
    "    val = 1\n",
    "    for i in range(1,min(num1,num2)+1):\n",
    "        if num1 % i == 0 and num2 % i == 0:\n",
    "            \n",
    "            val = i\n",
    "    return val\n",
    "if __name__ == \"__main__\":\n",
    "    print(print_GCD(num1,num2))"
   ]
  },
  {
   "cell_type": "markdown",
   "metadata": {},
   "source": [
    "## Armstrong number"
   ]
  },
  {
   "cell_type": "code",
   "execution_count": 88,
   "metadata": {},
   "outputs": [
    {
     "name": "stdout",
     "output_type": "stream",
     "text": [
      "Enter the input 1\n",
      "1634\n",
      "True\n"
     ]
    }
   ],
   "source": [
    "import math\n",
    "print(\"Enter the input 1\")\n",
    "num = int(input())\n",
    "l = len(str(num))\n",
    "def Armstrong_number(num):\n",
    "    num = str(num)\n",
    "    val = 0\n",
    "    for i in range(l):\n",
    "        val = pow(int(num[i]),l) + val\n",
    "    if val == int(num):\n",
    "        return True\n",
    "    else:\n",
    "        return False\n",
    "    \n",
    "\n",
    "if __name__ == \"__main__\":\n",
    "    print(Armstrong_number(num))"
   ]
  },
  {
   "cell_type": "markdown",
   "metadata": {},
   "source": [
    "## Print all divisors"
   ]
  },
  {
   "cell_type": "code",
   "execution_count": 3,
   "metadata": {},
   "outputs": [
    {
     "name": "stdout",
     "output_type": "stream",
     "text": [
      "Enter the input\n",
      "36\n",
      "1 ,36 ,2 ,18 ,3 ,12 ,4 ,9 ,7 ,6 ,\n"
     ]
    }
   ],
   "source": [
    "\n",
    "print(\"Enter the input\")\n",
    "num = int(input())\n",
    "\n",
    "def divisors1(num):\n",
    "    for i in range(1,(num//2)+1):\n",
    "        if num % i == 0:\n",
    "            print(i,',',end='')\n",
    "    print(num,end='')\n",
    "\n",
    "# Time complexity O(n/2)\n",
    "# Space complexity O(1)\n",
    "def divisors2(num):\n",
    "    for i in range(1,int(num**0.5)+1):\n",
    "        if num % i == 0:\n",
    "            print(i,',',end='')\n",
    "        if i!= num/i:\n",
    "            print(int(num/i),',',end='')\n",
    "    print()\n",
    "# Time complexity O(sqrt(n)) -- faster\n",
    "# Space complexity O(1)\n",
    "divisors2(num)"
   ]
  },
  {
   "cell_type": "markdown",
   "metadata": {},
   "source": [
    "## Check for prime"
   ]
  },
  {
   "cell_type": "code",
   "execution_count": 56,
   "metadata": {},
   "outputs": [
    {
     "name": "stdout",
     "output_type": "stream",
     "text": [
      "Enter the input\n",
      "15\n"
     ]
    },
    {
     "data": {
      "text/plain": [
       "False"
      ]
     },
     "execution_count": 56,
     "metadata": {},
     "output_type": "execute_result"
    }
   ],
   "source": [
    "print(\"Enter the input\")\n",
    "num = int(input())\n",
    "\n",
    "def check_prime1(num):\n",
    "    count = 1\n",
    "    for i in range(1,int((num/2)) + 1):\n",
    "        if num % i == 0:\n",
    "            count += 1\n",
    "    if count > 2:\n",
    "        return False\n",
    "    else:\n",
    "        return True\n",
    "    \n",
    "def check_prime2(num):\n",
    "    count = 1\n",
    "    for i in range(1,int(num**0.5) + 1):\n",
    "        if num % i == 0:\n",
    "            count += 1\n",
    "    if count > 2:\n",
    "        return False\n",
    "    else:\n",
    "        return True\n",
    "# Time complexity O(sqrt(n)) -- faster\n",
    "# Space complexity O(1)\n",
    "\n",
    "check_prime2(num)"
   ]
  },
  {
   "cell_type": "markdown",
   "metadata": {},
   "source": [
    "# Recursion"
   ]
  },
  {
   "cell_type": "markdown",
   "metadata": {},
   "source": [
    "### Print 0 to N"
   ]
  },
  {
   "cell_type": "code",
   "execution_count": 84,
   "metadata": {},
   "outputs": [
    {
     "name": "stdout",
     "output_type": "stream",
     "text": [
      "Enter the input\n",
      "5\n",
      "0\n",
      "1\n",
      "2\n",
      "3\n",
      "4\n",
      "5\n"
     ]
    },
    {
     "data": {
      "text/plain": [
       "0"
      ]
     },
     "execution_count": 84,
     "metadata": {},
     "output_type": "execute_result"
    }
   ],
   "source": [
    "print(\"Enter the input\")\n",
    "num = int(input())\n",
    "cnt = 0\n",
    "def func():\n",
    "    global cnt\n",
    "    print(cnt)\n",
    "    if(cnt == num):\n",
    "        return 0\n",
    "    cnt += 1\n",
    "    return func()\n",
    "func()\n",
    "\n",
    "# Time complexity O(n) \n",
    "# Space complexity O(n) -- because it keeps the values in the stack"
   ]
  },
  {
   "cell_type": "markdown",
   "metadata": {},
   "source": [
    "### Print N to 0"
   ]
  },
  {
   "cell_type": "code",
   "execution_count": 74,
   "metadata": {},
   "outputs": [
    {
     "name": "stdout",
     "output_type": "stream",
     "text": [
      "Enter the input\n",
      "6\n",
      "6\n",
      "5\n",
      "4\n",
      "3\n",
      "2\n",
      "1\n",
      "0\n"
     ]
    }
   ],
   "source": [
    "print(\"Enter the input\")\n",
    "num = int(input())\n",
    "\n",
    "def func(num):\n",
    "    if(num>-1):\n",
    "        print(num)\n",
    "        return func(num-1)\n",
    "    return 0\n",
    "if __name__ == \"__main__\":\n",
    "    func(num)"
   ]
  },
  {
   "cell_type": "markdown",
   "metadata": {},
   "source": [
    "### Print N times using recursion"
   ]
  },
  {
   "cell_type": "code",
   "execution_count": 86,
   "metadata": {},
   "outputs": [
    {
     "name": "stdout",
     "output_type": "stream",
     "text": [
      "Enter the input\n",
      "5\n",
      "num\n",
      "num\n",
      "num\n",
      "num\n",
      "num\n",
      "num\n"
     ]
    }
   ],
   "source": [
    "print(\"Enter the input\")\n",
    "num = int(input())\n",
    "\n",
    "def func(num):\n",
    "    if(num>-1):\n",
    "        print(\"num\")\n",
    "        return func(num-1)\n",
    "    return 0\n",
    "if __name__ == \"__main__\":\n",
    "    func(num)"
   ]
  },
  {
   "cell_type": "markdown",
   "metadata": {},
   "source": [
    "### Sum of 1st N numbers"
   ]
  },
  {
   "cell_type": "code",
   "execution_count": 92,
   "metadata": {},
   "outputs": [
    {
     "name": "stdout",
     "output_type": "stream",
     "text": [
      "Enter the input\n",
      "5\n",
      "15\n",
      "15\n"
     ]
    }
   ],
   "source": [
    "print(\"Enter the input\")\n",
    "num = int(input())\n",
    "cnt = 0\n",
    "sum = 0\n",
    "def sum_N():\n",
    "    global cnt,sum\n",
    "#     print(sum)\n",
    "    if(cnt == num):\n",
    "        return 0\n",
    "    cnt += 1\n",
    "    sum += cnt\n",
    "    return sum_N()\n",
    "sum_N()\n",
    "print(sum)\n",
    "\n",
    "# Time complexity O(n) \n",
    "# Space complexity O(n) -- because it keeps the values in the stack\n",
    "\n",
    "def formula(n):\n",
    "    return (n*(n+1))//2\n",
    "print(formula(num))\n",
    "\n",
    "# Time complexity O(1) \n",
    "# Space complexity O(1)"
   ]
  },
  {
   "cell_type": "markdown",
   "metadata": {},
   "source": [
    "### Factorial"
   ]
  },
  {
   "cell_type": "code",
   "execution_count": 102,
   "metadata": {},
   "outputs": [
    {
     "name": "stdout",
     "output_type": "stream",
     "text": [
      "Enter the input\n",
      "5\n",
      "120\n"
     ]
    }
   ],
   "source": [
    "print(\"Enter the input\")\n",
    "num = int(input())\n",
    "fact_cache = {}\n",
    "def fact(num):\n",
    "    if num == 0 or num == 1:\n",
    "        return 1\n",
    "    return num*fact(num-1)\n",
    "fact_cache = {}\n",
    "def factorial(num):\n",
    "    if num == 0 or num == 1:\n",
    "        return 1\n",
    "    if num in fact_cache:\n",
    "        return fact_cache[num]\n",
    "    else:\n",
    "        res = num * fact(num-1)\n",
    "        fact_cache[num] = res\n",
    "        return res\n",
    "# Time complexity O(n) \n",
    "# Space complexity O(n)\n",
    "print(factorial(num))"
   ]
  },
  {
   "cell_type": "markdown",
   "metadata": {},
   "source": [
    "### Reverse an array"
   ]
  },
  {
   "cell_type": "code",
   "execution_count": 2,
   "metadata": {},
   "outputs": [
    {
     "name": "stdout",
     "output_type": "stream",
     "text": [
      "[1, 2, 3, 4, 5]\n",
      "[1, 2, 3, 4, 5]\n",
      "[1, 2, 3, 4, 5]\n"
     ]
    }
   ],
   "source": [
    "def rev_lst(lst,start,end):\n",
    "    if start < end:\n",
    "        lst[start],lst[end] = lst[end],lst[start]\n",
    "        rev_lst(lst,start+1,end-1)\n",
    "    print(lst)\n",
    "\n",
    "if __name__ == \"__main__\":\n",
    "    lst = [5, 4, 3, 2, 1]\n",
    "    n = len(lst)\n",
    "    rev_lst(lst,0,n-1)"
   ]
  },
  {
   "cell_type": "code",
   "execution_count": 3,
   "metadata": {},
   "outputs": [
    {
     "data": {
      "text/plain": [
       "[5, 4, 3, 2, 1]"
      ]
     },
     "execution_count": 3,
     "metadata": {},
     "output_type": "execute_result"
    }
   ],
   "source": [
    "l = [1,2,3,4,5]\n",
    "l.reverse()\n",
    "l"
   ]
  },
  {
   "cell_type": "markdown",
   "metadata": {},
   "source": [
    "### String palindrome"
   ]
  },
  {
   "cell_type": "code",
   "execution_count": 18,
   "metadata": {},
   "outputs": [
    {
     "name": "stdout",
     "output_type": "stream",
     "text": [
      "Enter the input\n",
      "AABBSA\n",
      "False\n"
     ]
    }
   ],
   "source": [
    "print(\"Enter the input\")\n",
    "st = input()\n",
    "n = len(st)\n",
    "i = 0\n",
    "def check_palindrome(st):\n",
    "    global n\n",
    "    for i in range(0,int((n/2))+1):\n",
    "        if st[i] != st[n-1-i]:\n",
    "            return False\n",
    "        else:\n",
    "            return True\n",
    "def IsPalindrome(st,i):\n",
    "    global n\n",
    "    if i >= n//2:\n",
    "        return True\n",
    "    if st[i] != st[n-i-1]:\n",
    "        return False\n",
    "    else:\n",
    "        return IsPalindrome(st,i+1)\n",
    "        \n",
    "if __name__=='__main__':\n",
    "#     print(check_palindrome(st))\n",
    "    print(IsPalindrome(st,i))\n",
    "    \n",
    "# Time complexity O(n/2) \n",
    "# Space complexity O(1)"
   ]
  },
  {
   "cell_type": "markdown",
   "metadata": {},
   "source": [
    "### Fibonacci numbers"
   ]
  },
  {
   "cell_type": "code",
   "execution_count": 42,
   "metadata": {},
   "outputs": [
    {
     "name": "stdout",
     "output_type": "stream",
     "text": [
      "Enter the input\n",
      "4\n",
      "3\n"
     ]
    }
   ],
   "source": [
    "print(\"Enter the input\")\n",
    "num = int(input())\n",
    "a = 0\n",
    "b = 1\n",
    "def fib(num):\n",
    "    \n",
    "    if num <= 1:\n",
    "        return num\n",
    "    else:\n",
    "#         print(num)\n",
    "#         a ,b  = b, b + a\n",
    "        lst = fib(num-1)\n",
    "        fst = fib(num-2)\n",
    "#         print(lst+fst,'---')\n",
    "        return lst+fst\n",
    "print(fib(num))"
   ]
  },
  {
   "cell_type": "code",
   "execution_count": 50,
   "metadata": {},
   "outputs": [
    {
     "name": "stdout",
     "output_type": "stream",
     "text": [
      "0 1 1 2 3 5 "
     ]
    }
   ],
   "source": [
    "def fibo(n):\n",
    "    if n <= 1:\n",
    "        return n\n",
    "    else:\n",
    "        return fibo(n-1) + fibo(n-2)\n",
    "for i in range(6):\n",
    "    print(fibo(i),end=' ')"
   ]
  },
  {
   "cell_type": "markdown",
   "metadata": {},
   "source": [
    "# Hashing"
   ]
  },
  {
   "cell_type": "code",
   "execution_count": 68,
   "metadata": {},
   "outputs": [
    {
     "name": "stdout",
     "output_type": "stream",
     "text": [
      "Enter the input\n",
      "9\n",
      "1\n"
     ]
    }
   ],
   "source": [
    "print(\"Enter the input\")\n",
    "num = int(input())\n",
    "lst = [1,2,3,4,5,1,2,5,7,9,3,4,1,3]\n",
    "freq = dict.fromkeys(lst, 0)\n",
    "cnt = 0\n",
    "for i in freq.keys():\n",
    "    cnt = 0\n",
    "    for j in lst:\n",
    "        if i == j:\n",
    "            cnt += 1\n",
    "    freq[i] = cnt\n",
    "print(freq[num])"
   ]
  },
  {
   "cell_type": "code",
   "execution_count": null,
   "metadata": {},
   "outputs": [],
   "source": []
  },
  {
   "cell_type": "code",
   "execution_count": null,
   "metadata": {},
   "outputs": [],
   "source": []
  },
  {
   "cell_type": "code",
   "execution_count": null,
   "metadata": {},
   "outputs": [],
   "source": []
  }
 ],
 "metadata": {
  "kernelspec": {
   "display_name": "Python 3",
   "language": "python",
   "name": "python3"
  },
  "language_info": {
   "codemirror_mode": {
    "name": "ipython",
    "version": 3
   },
   "file_extension": ".py",
   "mimetype": "text/x-python",
   "name": "python",
   "nbconvert_exporter": "python",
   "pygments_lexer": "ipython3",
   "version": "3.7.1"
  }
 },
 "nbformat": 4,
 "nbformat_minor": 2
}
