{
 "cells": [
  {
   "cell_type": "markdown",
   "metadata": {},
   "source": [
    "# Basic Math problems from striver A2Z sheet"
   ]
  },
  {
   "cell_type": "markdown",
   "metadata": {},
   "source": [
    "## Count of integer"
   ]
  },
  {
   "cell_type": "code",
   "execution_count": 57,
   "metadata": {},
   "outputs": [
    {
     "name": "stdout",
     "output_type": "stream",
     "text": [
      "Enter the input\n",
      "564\n",
      "3\n"
     ]
    }
   ],
   "source": [
    "print(\"Enter the input\")\n",
    "num = int(input())\n",
    "\n",
    "def count_of_digits_1(num):\n",
    "    counter = 0\n",
    "    while num >= 1:\n",
    "        num = int(num / 10)\n",
    "        counter += 1\n",
    "    return counter\n",
    "def count_of_digits_2(num):\n",
    "    return len(str(num))\n",
    "\n",
    "print(count_of_digits_2(num))\n",
    "\n",
    "#Time complexity: As this iterating through all the input this will take the input size which is O(n) for 1 and O(1) for 2\n",
    "#Space complexity: As this variables require to store the values are num and count irrespective of the \n",
    "# i/p size it will be same so O(1)"
   ]
  },
  {
   "cell_type": "markdown",
   "metadata": {},
   "source": [
    "## Reverse a number "
   ]
  },
  {
   "cell_type": "code",
   "execution_count": 56,
   "metadata": {},
   "outputs": [
    {
     "name": "stdout",
     "output_type": "stream",
     "text": [
      "Enter the input\n",
      "654\n",
      "456\n"
     ]
    }
   ],
   "source": [
    "print(\"Enter the input\")\n",
    "num = int(input())\n",
    "\n",
    "def reverse_number_1(num):\n",
    "    rev_num = 0\n",
    "    while num >= 1:\n",
    "        int_digit = num % 10\n",
    "        rev_num = rev_num * 10 + int_digit\n",
    "        num = num // 10\n",
    "    return rev_num\n",
    "#Time complexity: O(n)\n",
    "# Space complexity: O(1)\n",
    "\n",
    "def reverse_number_2(num):\n",
    "    num = str(num)\n",
    "    r_num = ''\n",
    "    for i in range(len(num),0,-1):\n",
    "        r_num = r_num + num[i-1]\n",
    "    return r_num\n",
    "#Time complexity: O(n)\n",
    "# Space complexity: O(n)\n",
    "\n",
    "    \n",
    "print(reverse_number_2(num))\n",
    "\n"
   ]
  },
  {
   "cell_type": "markdown",
   "metadata": {},
   "source": [
    "## Check Palindrome"
   ]
  },
  {
   "cell_type": "code",
   "execution_count": 66,
   "metadata": {},
   "outputs": [
    {
     "name": "stdout",
     "output_type": "stream",
     "text": [
      "Enter the input\n",
      "121\n",
      "True\n"
     ]
    }
   ],
   "source": [
    "print(\"Enter the input\")\n",
    "num = int(input())\n",
    "\n",
    "def check_palindrom(num):\n",
    "    num = str(num)\n",
    "    r_num = ''\n",
    "    for i in range(len(num),0,-1):\n",
    "        r_num = r_num + num[i-1]\n",
    "    if num == r_num:\n",
    "        return True\n",
    "    else:\n",
    "        return False\n",
    "    \n",
    "if __name__ == \"__main__\":  \n",
    "    print(check_palindrom(num))"
   ]
  },
  {
   "cell_type": "markdown",
   "metadata": {},
   "source": [
    "## GCD or HCF"
   ]
  },
  {
   "cell_type": "code",
   "execution_count": 83,
   "metadata": {},
   "outputs": [
    {
     "name": "stdout",
     "output_type": "stream",
     "text": [
      "Enter the input 1\n",
      "12\n",
      "Enter the input 2\n",
      "24\n",
      "12\n"
     ]
    }
   ],
   "source": [
    "print(\"Enter the input 1\")\n",
    "num1 = int(input())\n",
    "print(\"Enter the input 2\")\n",
    "num2 = int(input())\n",
    "\n",
    "def print_GCD(num1,num2):\n",
    "    val = 1\n",
    "    for i in range(1,min(num1,num2)+1):\n",
    "        if num1 % i == 0 and num2 % i == 0:\n",
    "            \n",
    "            val = i\n",
    "    return val\n",
    "if __name__ == \"__main__\":\n",
    "    print(print_GCD(num1,num2))"
   ]
  },
  {
   "cell_type": "markdown",
   "metadata": {},
   "source": [
    "## Armstrong number"
   ]
  },
  {
   "cell_type": "code",
   "execution_count": 88,
   "metadata": {},
   "outputs": [
    {
     "name": "stdout",
     "output_type": "stream",
     "text": [
      "Enter the input 1\n",
      "1634\n",
      "True\n"
     ]
    }
   ],
   "source": [
    "import math\n",
    "print(\"Enter the input 1\")\n",
    "num = int(input())\n",
    "l = len(str(num))\n",
    "def Armstrong_number(num):\n",
    "    num = str(num)\n",
    "    val = 0\n",
    "    for i in range(l):\n",
    "        val = pow(int(num[i]),l) + val\n",
    "    if val == int(num):\n",
    "        return True\n",
    "    else:\n",
    "        return False\n",
    "    \n",
    "\n",
    "if __name__ == \"__main__\":\n",
    "    print(Armstrong_number(num))"
   ]
  },
  {
   "cell_type": "markdown",
   "metadata": {},
   "source": [
    "## Print all divisors"
   ]
  },
  {
   "cell_type": "code",
   "execution_count": 3,
   "metadata": {},
   "outputs": [
    {
     "name": "stdout",
     "output_type": "stream",
     "text": [
      "Enter the input\n",
      "36\n",
      "1 ,36 ,2 ,18 ,3 ,12 ,4 ,9 ,7 ,6 ,\n"
     ]
    }
   ],
   "source": [
    "\n",
    "print(\"Enter the input\")\n",
    "num = int(input())\n",
    "\n",
    "def divisors1(num):\n",
    "    for i in range(1,(num//2)+1):\n",
    "        if num % i == 0:\n",
    "            print(i,',',end='')\n",
    "    print(num,end='')\n",
    "\n",
    "# Time complexity O(n/2)\n",
    "# Space complexity O(1)\n",
    "def divisors2(num):\n",
    "    for i in range(1,int(num**0.5)+1):\n",
    "        if num % i == 0:\n",
    "            print(i,',',end='')\n",
    "        if i!= num/i:\n",
    "            print(int(num/i),',',end='')\n",
    "    print()\n",
    "# Time complexity O(sqrt(n)) -- faster\n",
    "# Space complexity O(1)\n",
    "divisors2(num)"
   ]
  },
  {
   "cell_type": "markdown",
   "metadata": {},
   "source": [
    "## Check for prime"
   ]
  },
  {
   "cell_type": "code",
   "execution_count": 56,
   "metadata": {},
   "outputs": [
    {
     "name": "stdout",
     "output_type": "stream",
     "text": [
      "Enter the input\n",
      "15\n"
     ]
    },
    {
     "data": {
      "text/plain": [
       "False"
      ]
     },
     "execution_count": 56,
     "metadata": {},
     "output_type": "execute_result"
    }
   ],
   "source": [
    "print(\"Enter the input\")\n",
    "num = int(input())\n",
    "\n",
    "def check_prime1(num):\n",
    "    count = 1\n",
    "    for i in range(1,int((num/2)) + 1):\n",
    "        if num % i == 0:\n",
    "            count += 1\n",
    "    if count > 2:\n",
    "        return False\n",
    "    else:\n",
    "        return True\n",
    "    \n",
    "def check_prime2(num):\n",
    "    count = 1\n",
    "    for i in range(1,int(num**0.5) + 1):\n",
    "        if num % i == 0:\n",
    "            count += 1\n",
    "    if count > 2:\n",
    "        return False\n",
    "    else:\n",
    "        return True\n",
    "# Time complexity O(sqrt(n)) -- faster\n",
    "# Space complexity O(1)\n",
    "\n",
    "check_prime2(num)"
   ]
  },
  {
   "cell_type": "code",
   "execution_count": null,
   "metadata": {},
   "outputs": [],
   "source": []
  },
  {
   "cell_type": "code",
   "execution_count": null,
   "metadata": {},
   "outputs": [],
   "source": []
  },
  {
   "cell_type": "code",
   "execution_count": null,
   "metadata": {},
   "outputs": [],
   "source": []
  },
  {
   "cell_type": "code",
   "execution_count": null,
   "metadata": {},
   "outputs": [],
   "source": []
  }
 ],
 "metadata": {
  "kernelspec": {
   "display_name": "Python 3",
   "language": "python",
   "name": "python3"
  }
 },
 "nbformat": 4,
 "nbformat_minor": 2
}
