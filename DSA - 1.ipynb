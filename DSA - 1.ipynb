{
 "cells": [
  {
   "cell_type": "markdown",
   "metadata": {},
   "source": [
    "# Patterns"
   ]
  },
  {
   "cell_type": "markdown",
   "metadata": {},
   "source": [
    "## Pattern 1 "
   ]
  },
  {
   "cell_type": "code",
   "execution_count": 25,
   "metadata": {},
   "outputs": [
    {
     "name": "stdout",
     "output_type": "stream",
     "text": [
      "\n",
      "Enter the input:\n",
      "5\n",
      "*\t*\t*\t*\t*\t\n",
      "\n",
      "*\t*\t*\t*\t*\t\n",
      "\n",
      "*\t*\t*\t*\t*\t\n",
      "\n",
      "*\t*\t*\t*\t*\t\n",
      "\n",
      "*\t*\t*\t*\t*\t\n",
      "\n"
     ]
    }
   ],
   "source": [
    "print(\"Enter the input:\")\n",
    "num = int(input())\n",
    "for i in range(0,num):\n",
    "#     print(\"*\")\n",
    "    for j in range(0,num):\n",
    "        print(\"*\",end='\\t')\n",
    "    print('\\n')"
   ]
  },
  {
   "cell_type": "markdown",
   "metadata": {},
   "source": [
    "## Pattern 2"
   ]
  },
  {
   "cell_type": "code",
   "execution_count": 31,
   "metadata": {},
   "outputs": [
    {
     "name": "stdout",
     "output_type": "stream",
     "text": [
      "Enter the input:\n",
      "6\n",
      "\t\n",
      "\n",
      "*\t\n",
      "\n",
      "**\t\n",
      "\n",
      "***\t\n",
      "\n",
      "****\t\n",
      "\n",
      "*****\t\n",
      "\n"
     ]
    }
   ],
   "source": [
    "print(\"Enter the input:\")\n",
    "num = int(input())\n",
    "for i in range(0,num):\n",
    "    print(\"*\"*i,end='\\t')\n",
    "#     for j in range(0,num):\n",
    "#         print(\"*\"*i,end='\\t')\n",
    "    print('\\n')"
   ]
  },
  {
   "cell_type": "markdown",
   "metadata": {},
   "source": [
    "## Pattern 4"
   ]
  },
  {
   "cell_type": "code",
   "execution_count": 130,
   "metadata": {},
   "outputs": [
    {
     "name": "stdout",
     "output_type": "stream",
     "text": [
      "Enter the input:\n",
      "5\n",
      "\t\n",
      "1\t\n",
      "22\t\n",
      "333\t\n",
      "4444\t\n",
      "55555\t\n"
     ]
    }
   ],
   "source": [
    "print(\"Enter the input:\")\n",
    "num = int(input())\n",
    "for i in range(0,num+1):\n",
    "    print(f\"{i}\"*i,end='\\t')\n",
    "#     for j in range(0,num):\n",
    "#         print(\"*\"*i,end='\\t')\n",
    "    print()"
   ]
  },
  {
   "cell_type": "markdown",
   "metadata": {},
   "source": [
    "## Pattern 3"
   ]
  },
  {
   "cell_type": "code",
   "execution_count": 134,
   "metadata": {},
   "outputs": [
    {
     "name": "stdout",
     "output_type": "stream",
     "text": [
      "Enter the input:\n",
      "5\n",
      "1\n",
      "12\n",
      "123\n",
      "1234\n",
      "12345\n"
     ]
    }
   ],
   "source": [
    "print(\"Enter the input:\")\n",
    "num = int(input())\n",
    "for i in range(1,num+1):\n",
    "    for j in range(1,i+1):\n",
    "        print(j,end='')\n",
    "    print()"
   ]
  },
  {
   "cell_type": "markdown",
   "metadata": {},
   "source": [
    "## Pattern 5"
   ]
  },
  {
   "cell_type": "code",
   "execution_count": 133,
   "metadata": {},
   "outputs": [
    {
     "name": "stdout",
     "output_type": "stream",
     "text": [
      "Enter the input:\n",
      "5\n",
      "*****\n",
      "****\n",
      "***\n",
      "**\n",
      "*\n"
     ]
    }
   ],
   "source": [
    "print(\"Enter the input:\")\n",
    "num = int(input())\n",
    "for i in range(num,0,-1):\n",
    "    print(\"*\"*i,end='')\n",
    "#     for j in range(0,num):\n",
    "#         print(\"*\"*i,end='\\t')\n",
    "    print()"
   ]
  },
  {
   "cell_type": "markdown",
   "metadata": {},
   "source": [
    "## Pattern 6 "
   ]
  },
  {
   "cell_type": "code",
   "execution_count": 132,
   "metadata": {},
   "outputs": [
    {
     "name": "stdout",
     "output_type": "stream",
     "text": [
      "Enter the input:\n",
      "5\n",
      "54321\n",
      "4321\n",
      "321\n",
      "21\n",
      "1\n"
     ]
    }
   ],
   "source": [
    "print(\"Enter the input:\")\n",
    "num = int(input())\n",
    "for i in range(num,0,-1):\n",
    "    for j in range(i,0,-1):\n",
    "        print(j,end='')\n",
    "    print()"
   ]
  },
  {
   "cell_type": "markdown",
   "metadata": {},
   "source": [
    "## Pattern 7 "
   ]
  },
  {
   "cell_type": "code",
   "execution_count": 113,
   "metadata": {},
   "outputs": [
    {
     "name": "stdout",
     "output_type": "stream",
     "text": [
      "Enter the input:\n",
      "5\n",
      "     *      \n",
      "    ***     \n",
      "   *****    \n",
      "  *******   \n",
      " *********  \n"
     ]
    }
   ],
   "source": [
    "print(\"Enter the input:\")\n",
    "num = int(input())\n",
    "for i in range(0,num):\n",
    "#     print(\" \"*num,\"*\",\" \"*num)\n",
    "    for j in range(0,1):\n",
    "#         x= num - i - 1\n",
    "#         y = (i * 2) + 1\n",
    "        print(\" \"*(int(num)-i-1), \"*\"*(i*2+1), \" \"*(int(num)-i-1),end=' ')\n",
    "    print()\n",
    "    \n",
    "    "
   ]
  },
  {
   "cell_type": "code",
   "execution_count": 114,
   "metadata": {},
   "outputs": [
    {
     "name": "stdout",
     "output_type": "stream",
     "text": [
      "Enter the input:\n",
      "5\n",
      "    * \n",
      "   * * \n",
      "  * * * \n",
      " * * * * \n",
      "* * * * * \n"
     ]
    }
   ],
   "source": [
    "print(\"Enter the input:\")\n",
    "num = int(input())\n",
    "for i in range(0,num):\n",
    "#     print(\" \"*num,\"*\",\" \"*num)\n",
    "    for j in range(0,num-i-1):\n",
    "        print(end=\" \")\n",
    "    for j in range(0,i+1):\n",
    "        print(\"*\",end=' ')\n",
    "    print()\n",
    "    \n",
    "    "
   ]
  },
  {
   "cell_type": "markdown",
   "metadata": {},
   "source": [
    "## Pattern 8 "
   ]
  },
  {
   "cell_type": "code",
   "execution_count": 123,
   "metadata": {},
   "outputs": [
    {
     "name": "stdout",
     "output_type": "stream",
     "text": [
      "Enter the input:\n",
      "5\n",
      " *********  \n",
      "  *******   \n",
      "   *****    \n",
      "    ***     \n",
      "     *      \n"
     ]
    }
   ],
   "source": [
    "print(\"Enter the input:\")\n",
    "num = int(input())\n",
    "for i in range(num-1,-1,-1):\n",
    "#     print(\" \"*num,\"*\",\" \"*num)\n",
    "    for j in range(0,1):\n",
    "#         x= num - i - 1\n",
    "#         y = (i * 2) + 1\n",
    "        print(\" \"*(int(num)-i-1), \"*\"*(i*2+1), \" \"*(int(num)-i-1),end=' ')\n",
    "    print()\n",
    "    "
   ]
  },
  {
   "cell_type": "markdown",
   "metadata": {},
   "source": [
    "## Pattern 9"
   ]
  },
  {
   "cell_type": "code",
   "execution_count": 126,
   "metadata": {},
   "outputs": [
    {
     "name": "stdout",
     "output_type": "stream",
     "text": [
      "Enter the input:\n",
      "5\n",
      "     *      \n",
      "    ***     \n",
      "   *****    \n",
      "  *******   \n",
      " *********  \n",
      " *********  \n",
      "  *******   \n",
      "   *****    \n",
      "    ***     \n",
      "     *      \n"
     ]
    }
   ],
   "source": [
    "print(\"Enter the input:\")\n",
    "num = int(input())\n",
    "for i in range(0,num):\n",
    "#     print(\" \"*num,\"*\",\" \"*num)\n",
    "    for j in range(0,1):\n",
    "#         x= num - i - 1\n",
    "#         y = (i * 2) + 1\n",
    "        print(\" \"*(int(num)-i-1), \"*\"*(i*2+1), \" \"*(int(num)-i-1),end=' ')\n",
    "    print()\n",
    "    \n",
    "for i in range(num-1,-1,-1):\n",
    "#     print(\" \"*num,\"*\",\" \"*num)\n",
    "    for j in range(0,1):\n",
    "#         x= num - i - 1\n",
    "#         y = (i * 2) + 1\n",
    "        print(\" \"*(int(num)-i-1), \"*\"*(i*2+1), \" \"*(int(num)-i-1),end=' ')\n",
    "    print()\n",
    "    "
   ]
  },
  {
   "cell_type": "markdown",
   "metadata": {},
   "source": [
    "## Pattern 10"
   ]
  },
  {
   "cell_type": "code",
   "execution_count": 128,
   "metadata": {},
   "outputs": [
    {
     "name": "stdout",
     "output_type": "stream",
     "text": [
      "Enter the input:\n",
      "5\n",
      "     *      \n",
      "     **     \n",
      "     ***    \n",
      "     ****   \n",
      "     *****  \n",
      "     *****  \n",
      "     ****   \n",
      "     ***    \n",
      "     **     \n",
      "     *      \n"
     ]
    }
   ],
   "source": [
    "print(\"Enter the input:\")\n",
    "num = int(input())\n",
    "for i in range(0,num):\n",
    "#     print(\" \"*num,\"*\",\" \"*num)\n",
    "    for j in range(0,1):\n",
    "#         x= num - i - 1\n",
    "#         y = (i * 2) + 1\n",
    "        print(\" \"*(int(num)-1), \"*\"*(i+1), \" \"*(int(num)-i-1),end=' ')\n",
    "    print()\n",
    "    \n",
    "## Lower pyramid half\n",
    "for i in range(num-1,-1,-1):\n",
    "#     print(\" \"*num,\"*\",\" \"*num)\n",
    "    for j in range(0,1):\n",
    "#         x= num - i - 1\n",
    "#         y = (i * 2) + 1\n",
    "        print(\" \"*(int(num)-1), \"*\"*(i+1), \" \"*(int(num)-i-1),end=' ')\n",
    "    print()\n",
    "    "
   ]
  },
  {
   "cell_type": "markdown",
   "metadata": {},
   "source": [
    "## Pattern 11"
   ]
  },
  {
   "cell_type": "code",
   "execution_count": 144,
   "metadata": {},
   "outputs": [
    {
     "name": "stdout",
     "output_type": "stream",
     "text": [
      "Enter the input:\n",
      "5\n",
      "1\n",
      "01\n",
      "101\n",
      "0101\n",
      "10101\n"
     ]
    }
   ],
   "source": [
    "print(\"Enter the input:\")\n",
    "num = int(input())\n",
    "for i in range(0,num):\n",
    "    for j in range(0,i+1):\n",
    "        if i%2==0:\n",
    "            if j%2==0:\n",
    "                print(\"1\",end='')\n",
    "            else:\n",
    "                print(\"0\",end='')\n",
    "        else:\n",
    "            if j%2==0:\n",
    "                print(\"0\",end='')\n",
    "            else:\n",
    "                print(\"1\",end='')\n",
    "            \n",
    "    print()"
   ]
  },
  {
   "cell_type": "code",
   "execution_count": 159,
   "metadata": {},
   "outputs": [
    {
     "name": "stdout",
     "output_type": "stream",
     "text": [
      "Enter the input:\n",
      "5\n",
      "1\n",
      "01\n",
      "101\n",
      "0101\n",
      "10101\n"
     ]
    }
   ],
   "source": [
    "print(\"Enter the input:\")\n",
    "num = int(input())\n",
    "start = 1\n",
    "for i in range(0,num):\n",
    "\n",
    "    if i %2==0:\n",
    "        start = 1\n",
    "    else:\n",
    "        start = 0\n",
    "\n",
    "    for j in range(0,i+1):\n",
    "        \n",
    "        print(start,end='')\n",
    "        start = 1 - start\n",
    "    print()"
   ]
  },
  {
   "cell_type": "markdown",
   "metadata": {},
   "source": [
    "## Pattern 12"
   ]
  },
  {
   "cell_type": "code",
   "execution_count": 172,
   "metadata": {},
   "outputs": [
    {
     "name": "stdout",
     "output_type": "stream",
     "text": [
      "Enter the input:\n",
      "4\n",
      "1\n",
      "12\n",
      "123\n",
      "1234\n"
     ]
    }
   ],
   "source": [
    "print(\"Enter the input:\")\n",
    "num = int(input())\n",
    "for i in range(1,num+1):\n",
    "    for j in range(1,i+1):\n",
    "        print(j,end='')\n",
    "\n",
    "    print()"
   ]
  },
  {
   "cell_type": "code",
   "execution_count": 198,
   "metadata": {},
   "outputs": [
    {
     "name": "stdout",
     "output_type": "stream",
     "text": [
      "Enter the input:\n",
      "5\n",
      "1        1\n",
      "12      21\n",
      "123    321\n",
      "1234  4321\n",
      "1234554321\n"
     ]
    }
   ],
   "source": [
    "print(\"Enter the input:\")\n",
    "num = int(input())\n",
    "space = 2 * (num-1)\n",
    "for i in range(1,num+1):\n",
    "    #numbers\n",
    "    for j in range(1,i+1):\n",
    "        print(j,end='')\n",
    "    #spaces\n",
    "    for j in range(0,1):        \n",
    "        print(\" \"*(int(space)) ,end='')\n",
    "    #numbers\n",
    "    for j in range(i,0,-1):\n",
    "        print(j,end='')\n",
    "    print()\n",
    "    space = space -2"
   ]
  },
  {
   "cell_type": "markdown",
   "metadata": {},
   "source": [
    "## Pattern 13"
   ]
  },
  {
   "cell_type": "code",
   "execution_count": 217,
   "metadata": {},
   "outputs": [
    {
     "name": "stdout",
     "output_type": "stream",
     "text": [
      "Enter the input:\n",
      "5\n",
      "\n",
      "1 \n",
      "2 3 \n",
      "4 5 6 \n",
      "7 8 9 10 \n",
      "11 12 13 14 15 \n"
     ]
    }
   ],
   "source": [
    "print(\"Enter the input:\")\n",
    "num = int(input())\n",
    "start = 1\n",
    "for i in range(0,num+1):\n",
    "    for j in range(1,i+1):\n",
    "        print(start,end=' ')\n",
    "        start += 1\n",
    "\n",
    "    print()"
   ]
  },
  {
   "cell_type": "markdown",
   "metadata": {},
   "source": [
    "## NOTES"
   ]
  },
  {
   "cell_type": "code",
   "execution_count": 228,
   "metadata": {},
   "outputs": [
    {
     "name": "stdout",
     "output_type": "stream",
     "text": [
      "66\n",
      "A\n"
     ]
    }
   ],
   "source": [
    "print(ord('B'))\n",
    "print(chr(65))"
   ]
  },
  {
   "cell_type": "markdown",
   "metadata": {},
   "source": [
    "## Pattern 14"
   ]
  },
  {
   "cell_type": "code",
   "execution_count": 304,
   "metadata": {},
   "outputs": [
    {
     "name": "stdout",
     "output_type": "stream",
     "text": [
      "Enter the input:\n",
      "5\n",
      "A\n",
      "AB\n",
      "ABC\n",
      "ABCD\n",
      "ABCDE\n"
     ]
    }
   ],
   "source": [
    "print(\"Enter the input:\")\n",
    "num = int(input())\n",
    "for i in range(1,num+1):\n",
    "    for j in range(1,i+1):\n",
    "        print(chr(64+j),end='')\n",
    "\n",
    "    print()"
   ]
  },
  {
   "cell_type": "markdown",
   "metadata": {},
   "source": [
    "## Pattern 15"
   ]
  },
  {
   "cell_type": "code",
   "execution_count": 240,
   "metadata": {},
   "outputs": [
    {
     "name": "stdout",
     "output_type": "stream",
     "text": [
      "Enter the input:\n",
      "5\n",
      "EDCBA\n",
      "DCBA\n",
      "CBA\n",
      "BA\n",
      "A\n",
      "\n"
     ]
    }
   ],
   "source": [
    "print(\"Enter the input:\")\n",
    "num = int(input())\n",
    "for i in range(num,-1,-1):\n",
    "    for j in range(i,0,-1):\n",
    "        print(chr(64+j),end='')\n",
    "\n",
    "    print()"
   ]
  },
  {
   "cell_type": "markdown",
   "metadata": {},
   "source": [
    "## Pattern 16"
   ]
  },
  {
   "cell_type": "code",
   "execution_count": 241,
   "metadata": {},
   "outputs": [
    {
     "name": "stdout",
     "output_type": "stream",
     "text": [
      "Enter the input:\n",
      "5\n",
      "\n",
      "A\n",
      "BB\n",
      "CCC\n",
      "DDDD\n",
      "EEEEE\n"
     ]
    }
   ],
   "source": [
    "print(\"Enter the input:\")\n",
    "num = int(input())\n",
    "for i in range(0,num+1):\n",
    "    print(chr(64+i)*i,end='')\n",
    "    print()"
   ]
  },
  {
   "cell_type": "markdown",
   "metadata": {},
   "source": [
    "## Pattern 17"
   ]
  },
  {
   "cell_type": "code",
   "execution_count": 244,
   "metadata": {},
   "outputs": [
    {
     "name": "stdout",
     "output_type": "stream",
     "text": [
      "Enter the input:\n",
      "5\n",
      "     @      \n",
      "    AAA     \n",
      "   BBBBB    \n",
      "  CCCCCCC   \n",
      " DDDDDDDDD  \n"
     ]
    }
   ],
   "source": [
    "print(\"Enter the input:\")\n",
    "num = int(input())\n",
    "for i in range(0,num):\n",
    "    #spaces\n",
    "    for j in range():\n",
    "        "
   ]
  },
  {
   "cell_type": "code",
   "execution_count": 269,
   "metadata": {},
   "outputs": [
    {
     "name": "stdout",
     "output_type": "stream",
     "text": [
      "Enter the input:\n",
      "4\n",
      "   A   \n",
      "  ABC  \n",
      " ABCDE \n",
      "ABCDEFG\n"
     ]
    }
   ],
   "source": [
    "print(\"Enter the input:\")\n",
    "num = int(input())\n",
    "start = 1\n",
    "\n",
    "for i in range(0,num):\n",
    "    alpha = 0\n",
    "    #spaces\n",
    "    for j in range(0,num-i-1):\n",
    "        print(end=\" \")\n",
    "    #Alphabets\n",
    "    for j in range(0,start):\n",
    "        print(chr(65+alpha),end='')\n",
    "        alpha = alpha + 1 \n",
    "   \n",
    "    #spaces\n",
    "    for j in range(0,num-i-1):\n",
    "        print(end=\" \")\n",
    "    print()\n",
    "    start = start + 2"
   ]
  },
  {
   "cell_type": "code",
   "execution_count": 302,
   "metadata": {},
   "outputs": [
    {
     "name": "stdout",
     "output_type": "stream",
     "text": [
      "Enter the input:\n",
      "4\n",
      "   A   \n",
      "  ABA  \n",
      " ABCBA \n",
      "ABCDCBA\n"
     ]
    }
   ],
   "source": [
    "print(\"Enter the input:\")\n",
    "num = int(input())\n",
    "start = 1\n",
    "\n",
    "for i in range(0,num):\n",
    "    alpha = 0\n",
    "#     print(start,\"=======\")\n",
    "    #spaces\n",
    "    for j in range(0,num-i-1):\n",
    "        print(end=\" \")\n",
    "    #Alphabets\n",
    "    for j in range(0,start):\n",
    "        \n",
    "#         print()\n",
    "#         print(i,alpha,\"--------\")\n",
    "        if j < int((start/2)+1):\n",
    "            alpha += 1\n",
    "        else:\n",
    "            alpha -= 1\n",
    "        print(chr(64+alpha),end='')\n",
    "    #spaces\n",
    "    for j in range(0,num-i-1):\n",
    "        print(end=\" \")\n",
    "    print()\n",
    "    start = start + 2"
   ]
  },
  {
   "cell_type": "markdown",
   "metadata": {},
   "source": [
    "## Pattern 18"
   ]
  },
  {
   "cell_type": "code",
   "execution_count": 324,
   "metadata": {},
   "outputs": [
    {
     "name": "stdout",
     "output_type": "stream",
     "text": [
      "Enter the input:\n",
      "5\n",
      "E\n",
      "ED\n",
      "EDC\n",
      "EDCB\n",
      "EDCBA\n"
     ]
    }
   ],
   "source": [
    "print(\"Enter the input:\")\n",
    "num = int(input())\n",
    "for i in range(1,num+1):\n",
    "    for j in range(1,i+1):\n",
    "        print(chr(64+(num-j+1)),end='')\n",
    "\n",
    "    print()"
   ]
  },
  {
   "cell_type": "markdown",
   "metadata": {},
   "source": [
    "## Pattern 19"
   ]
  },
  {
   "cell_type": "code",
   "execution_count": 336,
   "metadata": {},
   "outputs": [
    {
     "name": "stdout",
     "output_type": "stream",
     "text": [
      "Enter the input:\n",
      "5\n",
      "**********\n",
      "****  ****\n",
      "***    ***\n",
      "**      **\n",
      "*        *\n",
      "          \n",
      "*        *\n",
      "**      **\n",
      "***    ***\n",
      "****  ****\n",
      "**********\n"
     ]
    }
   ],
   "source": [
    "print(\"Enter the input:\")\n",
    "num = int(input())\n",
    "star = 0\n",
    "for i in range(num,0,-1):\n",
    "    # For star\n",
    "    for j in range(i,0,-1):\n",
    "        print(\"*\",end='')\n",
    "    # For spaces\n",
    "    for j in range(0,1):\n",
    "        print(\" \"*(star),end='')\n",
    "    # For star\n",
    "    for j in range(i,0,-1):\n",
    "        print(\"*\",end='')\n",
    "    print()\n",
    "    star += 2\n",
    "st = star\n",
    "for i in range(0,num+1):\n",
    "    # For star\n",
    "    for j in range(0,i):\n",
    "        print(\"*\",end='')\n",
    "    # For spaces\n",
    "    for j in range(0,1):\n",
    "        print(\" \"*(st),end='')\n",
    "    # For star\n",
    "    for j in range(0,i):\n",
    "        print(\"*\",end='')\n",
    "    print()\n",
    "    st -= 2"
   ]
  },
  {
   "cell_type": "markdown",
   "metadata": {},
   "source": [
    "## Pattern 20"
   ]
  },
  {
   "cell_type": "code",
   "execution_count": 348,
   "metadata": {},
   "outputs": [
    {
     "name": "stdout",
     "output_type": "stream",
     "text": [
      "Enter the input:\n",
      "5\n",
      "*        *\n",
      "**      **\n",
      "***    ***\n",
      "****  ****\n",
      "**********\n",
      "****  ****\n",
      "***    ***\n",
      "**      **\n",
      "*        *\n",
      "          \n"
     ]
    }
   ],
   "source": [
    "print(\"Enter the input:\")\n",
    "num = int(input())\n",
    "star = 8\n",
    "for i in range(0,num):\n",
    "    # For star\n",
    "    for j in range(0,i+1):\n",
    "        print(\"*\",end='')\n",
    "    # For spaces\n",
    "    for j in range(0,1):\n",
    "        print(\" \"*(star),end='')\n",
    "    # For star\n",
    "    for j in range(0,i+1):\n",
    "        print(\"*\",end='')\n",
    "    print()\n",
    "    star -= 2\n",
    "st = 2\n",
    "\n",
    "for i in range(0,num):\n",
    "    # For star\n",
    "    for j in range(1,num-i):\n",
    "        print(\"*\",end='')\n",
    "    # For spaces\n",
    "    for j in range(0,1):\n",
    "        print(\" \"*(st),end='')\n",
    "    # For star\n",
    "    for j in range(1,num-i):\n",
    "        print(\"*\",end='')\n",
    "    print()\n",
    "    st += 2"
   ]
  },
  {
   "cell_type": "markdown",
   "metadata": {},
   "source": [
    "## Pattern 21"
   ]
  },
  {
   "cell_type": "code",
   "execution_count": 382,
   "metadata": {},
   "outputs": [
    {
     "name": "stdout",
     "output_type": "stream",
     "text": [
      "Enter the number:\n",
      "5\n",
      "*****\n",
      "*   *\n",
      "*   *\n",
      "*   *\n",
      "*****\n"
     ]
    }
   ],
   "source": [
    "print(\"Enter the number:\")\n",
    "num = int(input())\n",
    "space = 0\n",
    "for i in range(0,num):\n",
    "   #for square\n",
    "    for j in range(0,num):\n",
    "        if i == 0 or j == 0 or i == num-1 or j == num-1:\n",
    "            print(\"*\",end='')\n",
    "        else:\n",
    "            print(\" \",end='')\n",
    "    print()"
   ]
  },
  {
   "cell_type": "markdown",
   "metadata": {},
   "source": [
    "## Pattern 22"
   ]
  },
  {
   "cell_type": "code",
   "execution_count": 395,
   "metadata": {},
   "outputs": [
    {
     "name": "stdout",
     "output_type": "stream",
     "text": [
      "Enter the number:\n",
      "4\n",
      "4444444\n",
      "4333334\n",
      "4322234\n",
      "4321234\n",
      "4322234\n",
      "4333334\n",
      "4444444\n"
     ]
    }
   ],
   "source": [
    "print(\"Enter the number:\")\n",
    "num = int(input())\n",
    "for i in range(0,2*num-1):\n",
    "    val = num\n",
    "    for j in range(0,2*num-1):\n",
    "        top = i\n",
    "        left = j\n",
    "        bottom = (2*num - 2 ) - i\n",
    "        right = (2*num - 2 ) - j\n",
    "        print(num - min(top,bottom ,left,right),end='')\n",
    "        \n",
    "    print()"
   ]
  },
  {
   "cell_type": "code",
   "execution_count": null,
   "metadata": {},
   "outputs": [],
   "source": [
    "0 4444444\n",
    "1 4333334\n",
    "2 4322234\n",
    "3 4321234\n",
    "4 4322234\n",
    "5 4333334\n",
    "6 4444444"
   ]
  },
  {
   "cell_type": "code",
   "execution_count": 388,
   "metadata": {},
   "outputs": [
    {
     "data": {
      "text/plain": [
       "1"
      ]
     },
     "execution_count": 388,
     "metadata": {},
     "output_type": "execute_result"
    }
   ],
   "source": [
    "min(1,2,3)"
   ]
  },
  {
   "cell_type": "code",
   "execution_count": null,
   "metadata": {},
   "outputs": [],
   "source": []
  },
  {
   "cell_type": "code",
   "execution_count": null,
   "metadata": {},
   "outputs": [],
   "source": []
  },
  {
   "cell_type": "code",
   "execution_count": null,
   "metadata": {},
   "outputs": [],
   "source": []
  },
  {
   "cell_type": "code",
   "execution_count": null,
   "metadata": {},
   "outputs": [],
   "source": []
  }
 ],
 "metadata": {
  "kernelspec": {
   "display_name": "Python 3",
   "language": "python",
   "name": "python3"
  },
  "language_info": {
   "codemirror_mode": {
    "name": "ipython",
    "version": 3
   },
   "file_extension": ".py",
   "mimetype": "text/x-python",
   "name": "python",
   "nbconvert_exporter": "python",
   "pygments_lexer": "ipython3",
   "version": "3.7.1"
  }
 },
 "nbformat": 4,
 "nbformat_minor": 2
}
