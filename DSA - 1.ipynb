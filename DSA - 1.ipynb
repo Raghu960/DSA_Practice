{
 "cells": [
  {
   "cell_type": "markdown",
   "metadata": {},
   "source": [
    "# Patterns"
   ]
  },
  {
   "cell_type": "markdown",
   "metadata": {},
   "source": [
    "## Pattern 1 "
   ]
  },
  {
   "cell_type": "code",
   "execution_count": 25,
   "metadata": {},
   "outputs": [
    {
     "name": "stdout",
     "output_type": "stream",
     "text": [
      "\n",
      "Enter the input:\n",
      "5\n",
      "*\t*\t*\t*\t*\t\n",
      "\n",
      "*\t*\t*\t*\t*\t\n",
      "\n",
      "*\t*\t*\t*\t*\t\n",
      "\n",
      "*\t*\t*\t*\t*\t\n",
      "\n",
      "*\t*\t*\t*\t*\t\n",
      "\n"
     ]
    }
   ],
   "source": [
    "print(\"Enter the input:\")\n",
    "num = int(input())\n",
    "for i in range(0,num):\n",
    "#     print(\"*\")\n",
    "    for j in range(0,num):\n",
    "        print(\"*\",end='\\t')\n",
    "    print('\\n')"
   ]
  },
  {
   "cell_type": "markdown",
   "metadata": {},
   "source": [
    "## Pattern 2"
   ]
  },
  {
   "cell_type": "code",
   "execution_count": 31,
   "metadata": {},
   "outputs": [
    {
     "name": "stdout",
     "output_type": "stream",
     "text": [
      "Enter the input:\n",
      "6\n",
      "\t\n",
      "\n",
      "*\t\n",
      "\n",
      "**\t\n",
      "\n",
      "***\t\n",
      "\n",
      "****\t\n",
      "\n",
      "*****\t\n",
      "\n"
     ]
    }
   ],
   "source": [
    "print(\"Enter the input:\")\n",
    "num = int(input())\n",
    "for i in range(0,num):\n",
    "    print(\"*\"*i,end='\\t')\n",
    "#     for j in range(0,num):\n",
    "#         print(\"*\"*i,end='\\t')\n",
    "    print('\\n')"
   ]
  },
  {
   "cell_type": "markdown",
   "metadata": {},
   "source": [
    "## Pattern 4"
   ]
  },
  {
   "cell_type": "code",
   "execution_count": 47,
   "metadata": {},
   "outputs": [
    {
     "name": "stdout",
     "output_type": "stream",
     "text": [
      "Enter the input:\n",
      "5\n",
      "\t\n",
      "\n",
      "1\t\n",
      "\n",
      "22\t\n",
      "\n",
      "333\t\n",
      "\n",
      "4444\t\n",
      "\n"
     ]
    }
   ],
   "source": [
    "print(\"Enter the input:\")\n",
    "num = int(input())\n",
    "for i in range(0,num):\n",
    "    print(f\"{i}\"*i,end='\\t')\n",
    "#     for j in range(0,num):\n",
    "#         print(\"*\"*i,end='\\t')\n",
    "    print('\\n')"
   ]
  },
  {
   "cell_type": "markdown",
   "metadata": {},
   "source": [
    "## Pattern 3"
   ]
  },
  {
   "cell_type": "code",
   "execution_count": 46,
   "metadata": {},
   "outputs": [
    {
     "name": "stdout",
     "output_type": "stream",
     "text": [
      "Enter the input:\n",
      "5\n",
      "1\t\n",
      "\n",
      "1\t2\t\n",
      "\n",
      "1\t2\t3\t\n",
      "\n",
      "1\t2\t3\t4\t\n",
      "\n",
      "1\t2\t3\t4\t5\t\n",
      "\n"
     ]
    }
   ],
   "source": [
    "print(\"Enter the input:\")\n",
    "num = int(input())\n",
    "for i in range(1,num+1):\n",
    "    for j in range(1,i+1):\n",
    "        print(j,end='\\t')\n",
    "    print('\\n')"
   ]
  },
  {
   "cell_type": "markdown",
   "metadata": {},
   "source": [
    "## Pattern 5"
   ]
  },
  {
   "cell_type": "code",
   "execution_count": 49,
   "metadata": {},
   "outputs": [
    {
     "name": "stdout",
     "output_type": "stream",
     "text": [
      "Enter the input:\n",
      "5\n",
      "*****\t\n",
      "\n",
      "****\t\n",
      "\n",
      "***\t\n",
      "\n",
      "**\t\n",
      "\n",
      "*\t\n",
      "\n"
     ]
    }
   ],
   "source": [
    "print(\"Enter the input:\")\n",
    "num = int(input())\n",
    "for i in range(num,0,-1):\n",
    "    print(\"*\"*i,end='\\t')\n",
    "#     for j in range(0,num):\n",
    "#         print(\"*\"*i,end='\\t')\n",
    "    print('\\n')"
   ]
  },
  {
   "cell_type": "markdown",
   "metadata": {},
   "source": [
    "## Pattern 6 "
   ]
  },
  {
   "cell_type": "code",
   "execution_count": 65,
   "metadata": {},
   "outputs": [
    {
     "name": "stdout",
     "output_type": "stream",
     "text": [
      "Enter the input:\n",
      "5\n",
      "5\t4\t3\t2\t1\t\n",
      "\n",
      "4\t3\t2\t1\t\n",
      "\n",
      "3\t2\t1\t\n",
      "\n",
      "2\t1\t\n",
      "\n",
      "1\t\n",
      "\n"
     ]
    }
   ],
   "source": [
    "print(\"Enter the input:\")\n",
    "num = int(input())\n",
    "for i in range(num,0,-1):\n",
    "    for j in range(i,0,-1):\n",
    "        print(j,end='\\t')\n",
    "    print('\\n')"
   ]
  },
  {
   "cell_type": "markdown",
   "metadata": {},
   "source": [
    "## Pattern 7 "
   ]
  },
  {
   "cell_type": "code",
   "execution_count": 113,
   "metadata": {},
   "outputs": [
    {
     "name": "stdout",
     "output_type": "stream",
     "text": [
      "Enter the input:\n",
      "5\n",
      "     *      \n",
      "    ***     \n",
      "   *****    \n",
      "  *******   \n",
      " *********  \n"
     ]
    }
   ],
   "source": [
    "print(\"Enter the input:\")\n",
    "num = int(input())\n",
    "for i in range(0,num):\n",
    "#     print(\" \"*num,\"*\",\" \"*num)\n",
    "    for j in range(0,1):\n",
    "#         x= num - i - 1\n",
    "#         y = (i * 2) + 1\n",
    "        print(\" \"*(int(num)-i-1), \"*\"*(i*2+1), \" \"*(int(num)-i-1),end=' ')\n",
    "    print()\n",
    "    \n",
    "    "
   ]
  },
  {
   "cell_type": "code",
   "execution_count": 114,
   "metadata": {},
   "outputs": [
    {
     "name": "stdout",
     "output_type": "stream",
     "text": [
      "Enter the input:\n",
      "5\n",
      "    * \n",
      "   * * \n",
      "  * * * \n",
      " * * * * \n",
      "* * * * * \n"
     ]
    }
   ],
   "source": [
    "print(\"Enter the input:\")\n",
    "num = int(input())\n",
    "for i in range(0,num):\n",
    "#     print(\" \"*num,\"*\",\" \"*num)\n",
    "    for j in range(0,num-i-1):\n",
    "        print(end=\" \")\n",
    "    for j in range(0,i+1):\n",
    "        print(\"*\",end=' ')\n",
    "    print()\n",
    "    \n",
    "    "
   ]
  },
  {
   "cell_type": "markdown",
   "metadata": {},
   "source": [
    "## Pattern 8 "
   ]
  },
  {
   "cell_type": "code",
   "execution_count": 123,
   "metadata": {},
   "outputs": [
    {
     "name": "stdout",
     "output_type": "stream",
     "text": [
      "Enter the input:\n",
      "5\n",
      " *********  \n",
      "  *******   \n",
      "   *****    \n",
      "    ***     \n",
      "     *      \n"
     ]
    }
   ],
   "source": [
    "print(\"Enter the input:\")\n",
    "num = int(input())\n",
    "for i in range(num-1,-1,-1):\n",
    "#     print(\" \"*num,\"*\",\" \"*num)\n",
    "    for j in range(0,1):\n",
    "#         x= num - i - 1\n",
    "#         y = (i * 2) + 1\n",
    "        print(\" \"*(int(num)-i-1), \"*\"*(i*2+1), \" \"*(int(num)-i-1),end=' ')\n",
    "    print()\n",
    "    "
   ]
  },
  {
   "cell_type": "markdown",
   "metadata": {},
   "source": [
    "## Pattern 9"
   ]
  },
  {
   "cell_type": "code",
   "execution_count": 125,
   "metadata": {},
   "outputs": [
    {
     "name": "stdout",
     "output_type": "stream",
     "text": [
      "Enter the input:\n",
      "5\n",
      "    * \n",
      "   * * \n",
      "  * * * \n",
      " * * * * \n",
      "* * * * * \n",
      " ********* \n",
      "  *******  \n",
      "   *****   \n",
      "    ***    \n",
      "     *     \n"
     ]
    }
   ],
   "source": [
    "print(\"Enter the input:\")\n",
    "num = int(input())\n",
    "for i in range(0,num):\n",
    "#     print(\" \"*num,\"*\",\" \"*num)\n",
    "    for j in range(0,num-i-1):\n",
    "        print(end=\" \")\n",
    "    for j in range(0,i+1):\n",
    "        print(\"*\",end=' ')\n",
    "    print()\n",
    "    \n",
    "for i in range(num-1,-1,-1):\n",
    "#     print(\" \"*num,\"*\",\" \"*num)\n",
    "    for j in range(0,1):\n",
    "#         x= num - i - 1\n",
    "#         y = (i * 2) + 1\n",
    "        print(\" \"*(int(num)-i-1), \"*\"*(i*2+1), \" \"*(int(num)-i-1),end=' ')\n",
    "    print()\n",
    "    "
   ]
  },
  {
   "cell_type": "code",
   "execution_count": null,
   "metadata": {},
   "outputs": [],
   "source": []
  }
 ],
 "metadata": {
  "kernelspec": {
   "display_name": "Python 3",
   "language": "python",
   "name": "python3"
  },
  "language_info": {
   "codemirror_mode": {
    "name": "ipython",
    "version": 3
   },
   "file_extension": ".py",
   "mimetype": "text/x-python",
   "name": "python",
   "nbconvert_exporter": "python",
   "pygments_lexer": "ipython3",
   "version": "3.7.1"
  }
 },
 "nbformat": 4,
 "nbformat_minor": 2
}
