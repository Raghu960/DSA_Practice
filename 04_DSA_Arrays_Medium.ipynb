{
 "cells": [
  {
   "cell_type": "markdown",
   "metadata": {},
   "source": [
    "# Medium"
   ]
  },
  {
   "cell_type": "markdown",
   "metadata": {},
   "source": [
    "### 1) Two Sum : Check if a pair with given sum exists in Array"
   ]
  },
  {
   "cell_type": "raw",
   "metadata": {},
   "source": [
    "Example 1:\n",
    "Input Format: N = 5, arr[] = {2,6,5,8,11}, target = 14\n",
    "Result: YES (for 1st variant)\n",
    "       [1, 3] (for 2nd variant)\n",
    "Explanation: arr[1] + arr[3] = 14. So, the answer is “YES” for the first variant and [1, 3] for 2nd variant.\n",
    "\n",
    "Example 2:\n",
    "Input Format: N = 5, arr[] = {2,6,5,8,11}, target = 15\n",
    "Result: NO (for 1st variant)\n",
    "\t[-1, -1] (for 2nd variant)\n",
    "Explanation: There exist no such two numbers whose sum is equal to the target."
   ]
  },
  {
   "cell_type": "code",
   "execution_count": 44,
   "metadata": {},
   "outputs": [
    {
     "name": "stdout",
     "output_type": "stream",
     "text": [
      "No -1 -1\n",
      "186 --- 0 2\n",
      "{2: 0}\n",
      "182 --- 1 6\n",
      "{2: 0, 6: 1}\n",
      "183 --- 2 5\n",
      "{2: 0, 6: 1, 5: 2}\n",
      "180 --- 3 8\n",
      "{2: 0, 6: 1, 5: 2, 8: 3}\n",
      "177 --- 4 11\n",
      "{2: 0, 6: 1, 5: 2, 8: 3, 11: 4}\n",
      "No -1 -1\n",
      "-----------\n",
      "No\n"
     ]
    }
   ],
   "source": [
    "arr = [2,6,5,8,11]\n",
    "Trgt = 188\n",
    "check,i,j = two_sum(arr,Trgt)\n",
    "print(check,i,j)\n",
    "check,i,j = two_sum_optimized(arr,Trgt)\n",
    "print(check,i,j)\n",
    "print(\"-----------\")\n",
    "check = two_sum_while(arr,Trgt)\n",
    "print(check)"
   ]
  },
  {
   "cell_type": "markdown",
   "metadata": {},
   "source": [
    "##### Brute force "
   ]
  },
  {
   "cell_type": "code",
   "execution_count": 12,
   "metadata": {},
   "outputs": [],
   "source": [
    "def two_sum(arr,Trgt):\n",
    "    for i in range(len(arr)):\n",
    "        sum = 0\n",
    "        for j in range(len(arr)):\n",
    "            sum = arr[i] + arr[j]\n",
    "#             print(sum)\n",
    "            if sum == Trgt:\n",
    "                print(sum,i,j)\n",
    "                return \"Yes\",i,j\n",
    "    else:\n",
    "        return \"No\",-1,-1\n",
    "\n",
    "# Time complexity 0(n*2)\n",
    "# Time complexity 0(1)"
   ]
  },
  {
   "cell_type": "markdown",
   "metadata": {},
   "source": [
    "##### Hashing"
   ]
  },
  {
   "cell_type": "code",
   "execution_count": 35,
   "metadata": {},
   "outputs": [],
   "source": [
    "def two_sum_optimized(arr, target):\n",
    "    num_dict = {}\n",
    "    for i, num in enumerate(arr):\n",
    "        #print(i,num)\n",
    "        #print(target , num)\n",
    "        complement = target - num\n",
    "        print(complement,\"---\",i,num)\n",
    "        if complement in num_dict:\n",
    "            return \"Yes\", num_dict[complement], i\n",
    "        num_dict[num] = i\n",
    "        print(num_dict)\n",
    "    return \"No\", -1, -1\n"
   ]
  },
  {
   "cell_type": "markdown",
   "metadata": {},
   "source": [
    "##### While loop optimized"
   ]
  },
  {
   "cell_type": "code",
   "execution_count": 41,
   "metadata": {},
   "outputs": [],
   "source": [
    "def two_sum_while(arr,target):\n",
    "    arr.sort()\n",
    "    left = 0\n",
    "    right = len(arr)-1\n",
    "    while left < right:\n",
    "        if arr[left] + arr[right] == target:\n",
    "            return \"Yes\"\n",
    "        elif arr[left] + arr[right] > target:\n",
    "            right -= 1\n",
    "        else:\n",
    "            left += 1\n",
    "    return \"No\""
   ]
  },
  {
   "cell_type": "markdown",
   "metadata": {},
   "source": [
    "### 2) Sort an array of 0s, 1s and 2s"
   ]
  },
  {
   "cell_type": "code",
   "execution_count": 45,
   "metadata": {},
   "outputs": [
    {
     "data": {
      "text/plain": [
       "[0, 0, 0, 1, 1, 1, 1, 1, 2, 2]"
      ]
     },
     "execution_count": 45,
     "metadata": {},
     "output_type": "execute_result"
    }
   ],
   "source": [
    "arr = [0,1,2,1,1,1,2,0,0,1]\n",
    "cnt0 = 0\n",
    "cnt1 = 0\n",
    "cnt2 = 0\n",
    "for i in range(len(arr)):\n",
    "    if arr[i] == 0:\n",
    "        cnt0 += 1\n",
    "    if arr[i] == 1:\n",
    "        cnt1 += 1\n",
    "    if arr[i] == 2:\n",
    "        cnt2 += 1\n",
    "    \n",
    "for i in range(cnt0):\n",
    "    arr[i] = 0\n",
    "for i in range(cnt0,cnt0+cnt1):\n",
    "    arr[i] = 1\n",
    "for i in range(cnt0+cnt1,len(arr)):\n",
    "    arr[i] = 2\n",
    "arr"
   ]
  },
  {
   "cell_type": "markdown",
   "metadata": {},
   "source": [
    "### 3) Find the Majority Element that occurs more than N/2 times\n"
   ]
  },
  {
   "cell_type": "raw",
   "metadata": {},
   "source": [
    "Input Format: N = 3, nums[] = {3,2,3}\n",
    "\n",
    "Result: 3\n",
    "\n",
    "Explanation: When we just count the occurrences of each number and compare with half of the size of the array, you will get 3 for the above solution. \n",
    "\n",
    "Input Format:  N = 7, nums[] = {2,2,1,1,1,2,2}\n",
    "\n",
    "Result: 2\n",
    "\n",
    "Explanation: After counting the number of times each element appears and comparing it with half of array size, we get 2 as result.\n",
    "\n"
   ]
  },
  {
   "cell_type": "code",
   "execution_count": 61,
   "metadata": {},
   "outputs": [
    {
     "name": "stdout",
     "output_type": "stream",
     "text": [
      "2\n"
     ]
    }
   ],
   "source": [
    "arr = [2,2,1,1,1,2,2]\n",
    "arr_dict = dict.fromkeys(arr,0)\n",
    "for i,num in enumerate(arr):\n",
    "    if num in arr_dict:\n",
    "        arr_dict[num] += 1\n",
    "for key,value in arr_dict.items():\n",
    "    if value > len(arr)/2:\n",
    "        print(key)\n",
    "# Time complexity 0(N)\n",
    "# Space complexity 0(1)"
   ]
  },
  {
   "cell_type": "markdown",
   "metadata": {},
   "source": [
    "### 4) Kadane’s Algorithm : Maximum Subarray Sum in an Array\n",
    "\n",
    "Problem Statement: Given an integer array arr, find the contiguous subarray (containing at least one number) which\n",
    "has the largest sum and returns its sum and prints the subarray."
   ]
  },
  {
   "cell_type": "raw",
   "metadata": {},
   "source": [
    "Example 1:\n",
    "\n",
    "Input: arr = [-2,1,-3,4,-1,2,1,-5,4] \n",
    "\n",
    "Output: 6 \n",
    "\n",
    "Explanation: [4,-1,2,1] has the largest sum = 6. \n",
    "\n",
    "Examples 2: \n",
    "\n",
    "Input: arr = [1] \n",
    "\n",
    "Output: 1 \n",
    "\n",
    "Explanation: Array has only one element and which is giving positive sum of 1. "
   ]
  },
  {
   "cell_type": "code",
   "execution_count": 72,
   "metadata": {},
   "outputs": [
    {
     "name": "stdout",
     "output_type": "stream",
     "text": [
      "2 0 8\n",
      "4 1 8\n",
      "4 2 8\n",
      "6 3 8\n",
      "6 4 8\n",
      "6 5 8\n",
      "6 6 8\n",
      "6 7 8\n",
      "6 8 8\n"
     ]
    }
   ],
   "source": [
    "arr = [-2,1,-3,4,-1,2,1,-5,4]\n",
    "maximum = 0\n",
    "for i in range(len(arr)):\n",
    "    for j in range(i,len(arr)):\n",
    "        add = 0\n",
    "        \n",
    "        for k in range(i,j+1):\n",
    "            add += arr[k]\n",
    "        maximum = max(add,maximum)\n",
    "    print(maximum,i,j)"
   ]
  },
  {
   "cell_type": "code",
   "execution_count": 73,
   "metadata": {},
   "outputs": [
    {
     "name": "stdout",
     "output_type": "stream",
     "text": [
      "2 0 8\n",
      "4 1 8\n",
      "4 2 8\n",
      "6 3 8\n",
      "6 4 8\n",
      "6 5 8\n",
      "6 6 8\n",
      "6 7 8\n",
      "6 8 8\n"
     ]
    }
   ],
   "source": [
    "arr = [-2,1,-3,4,-1,2,1,-5,4]\n",
    "maximum = 0\n",
    "for i in range(len(arr)):\n",
    "    add = 0\n",
    "    for j in range(i,len(arr)):\n",
    "        add += arr[j]\n",
    "        maximum = max(add,maximum)\n",
    "    print(maximum,i,j)"
   ]
  },
  {
   "cell_type": "code",
   "execution_count": 76,
   "metadata": {},
   "outputs": [
    {
     "name": "stdout",
     "output_type": "stream",
     "text": [
      "6\n"
     ]
    }
   ],
   "source": [
    "arr = [-2,1,-3,4,-1,2,1,-5,4]\n",
    "maxi = 0\n",
    "add = 0\n",
    "for i in range(len(arr)):\n",
    "    add += arr[i]\n",
    "    if add > maxi:\n",
    "        maxi = add\n",
    "    #maximum = max(add,maximum)\n",
    "    if add < 0:\n",
    "        add = 0\n",
    "print(maxi)\n",
    "    #print(maximum,i,j)"
   ]
  },
  {
   "cell_type": "code",
   "execution_count": null,
   "metadata": {},
   "outputs": [],
   "source": []
  },
  {
   "cell_type": "code",
   "execution_count": null,
   "metadata": {},
   "outputs": [],
   "source": []
  },
  {
   "cell_type": "code",
   "execution_count": null,
   "metadata": {},
   "outputs": [],
   "source": []
  },
  {
   "cell_type": "code",
   "execution_count": null,
   "metadata": {},
   "outputs": [],
   "source": []
  },
  {
   "cell_type": "code",
   "execution_count": null,
   "metadata": {},
   "outputs": [],
   "source": []
  },
  {
   "cell_type": "code",
   "execution_count": null,
   "metadata": {},
   "outputs": [],
   "source": []
  }
 ],
 "metadata": {
  "kernelspec": {
   "display_name": "Python 3",
   "language": "python",
   "name": "python3"
  },
  "language_info": {
   "codemirror_mode": {
    "name": "ipython",
    "version": 3
   },
   "file_extension": ".py",
   "mimetype": "text/x-python",
   "name": "python",
   "nbconvert_exporter": "python",
   "pygments_lexer": "ipython3",
   "version": "3.7.1"
  }
 },
 "nbformat": 4,
 "nbformat_minor": 2
}
