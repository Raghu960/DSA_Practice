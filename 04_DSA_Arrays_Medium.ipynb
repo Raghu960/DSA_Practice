{
 "cells": [
  {
   "cell_type": "markdown",
   "metadata": {},
   "source": [
    "# Arrays Medium"
   ]
  },
  {
   "cell_type": "markdown",
   "metadata": {},
   "source": [
    "### 1) Two Sum : Check if a pair with given sum exists in Array"
   ]
  },
  {
   "cell_type": "raw",
   "metadata": {},
   "source": [
    "Example 1:\n",
    "Input Format: N = 5, arr[] = {2,6,5,8,11}, target = 14\n",
    "Result: YES (for 1st variant)\n",
    "       [1, 3] (for 2nd variant)\n",
    "Explanation: arr[1] + arr[3] = 14. So, the answer is “YES” for the first variant and [1, 3] for 2nd variant.\n",
    "\n",
    "Example 2:\n",
    "Input Format: N = 5, arr[] = {2,6,5,8,11}, target = 15\n",
    "Result: NO (for 1st variant)\n",
    "\t[-1, -1] (for 2nd variant)\n",
    "Explanation: There exist no such two numbers whose sum is equal to the target."
   ]
  },
  {
   "cell_type": "code",
   "execution_count": 44,
   "metadata": {},
   "outputs": [
    {
     "name": "stdout",
     "output_type": "stream",
     "text": [
      "No -1 -1\n",
      "186 --- 0 2\n",
      "{2: 0}\n",
      "182 --- 1 6\n",
      "{2: 0, 6: 1}\n",
      "183 --- 2 5\n",
      "{2: 0, 6: 1, 5: 2}\n",
      "180 --- 3 8\n",
      "{2: 0, 6: 1, 5: 2, 8: 3}\n",
      "177 --- 4 11\n",
      "{2: 0, 6: 1, 5: 2, 8: 3, 11: 4}\n",
      "No -1 -1\n",
      "-----------\n",
      "No\n"
     ]
    }
   ],
   "source": [
    "arr = [2,6,5,8,11]\n",
    "Trgt = 188\n",
    "check,i,j = two_sum(arr,Trgt)\n",
    "print(check,i,j)\n",
    "check,i,j = two_sum_optimized(arr,Trgt)\n",
    "print(check,i,j)\n",
    "print(\"-----------\")\n",
    "check = two_sum_while(arr,Trgt)\n",
    "print(check)"
   ]
  },
  {
   "cell_type": "markdown",
   "metadata": {},
   "source": [
    "##### Brute force "
   ]
  },
  {
   "cell_type": "code",
   "execution_count": 12,
   "metadata": {},
   "outputs": [],
   "source": [
    "def two_sum(arr,Trgt):\n",
    "    for i in range(len(arr)):\n",
    "        sum = 0\n",
    "        for j in range(len(arr)):\n",
    "            sum = arr[i] + arr[j]\n",
    "#             print(sum)\n",
    "            if sum == Trgt:\n",
    "                print(sum,i,j)\n",
    "                return \"Yes\",i,j\n",
    "    else:\n",
    "        return \"No\",-1,-1\n",
    "\n",
    "# Time complexity 0(n*2)\n",
    "# Time complexity 0(1)"
   ]
  },
  {
   "cell_type": "markdown",
   "metadata": {},
   "source": [
    "##### Hashing"
   ]
  },
  {
   "cell_type": "code",
   "execution_count": 35,
   "metadata": {},
   "outputs": [],
   "source": [
    "def two_sum_optimized(arr, target):\n",
    "    num_dict = {}\n",
    "    for i, num in enumerate(arr):\n",
    "        #print(i,num)\n",
    "        #print(target , num)\n",
    "        complement = target - num\n",
    "        print(complement,\"---\",i,num)\n",
    "        if complement in num_dict:\n",
    "            return \"Yes\", num_dict[complement], i\n",
    "        num_dict[num] = i\n",
    "        print(num_dict)\n",
    "    return \"No\", -1, -1\n"
   ]
  },
  {
   "cell_type": "markdown",
   "metadata": {},
   "source": [
    "##### While loop optimized"
   ]
  },
  {
   "cell_type": "code",
   "execution_count": 41,
   "metadata": {},
   "outputs": [],
   "source": [
    "def two_sum_while(arr,target):\n",
    "    arr.sort()\n",
    "    left = 0\n",
    "    right = len(arr)-1\n",
    "    while left < right:\n",
    "        if arr[left] + arr[right] == target:\n",
    "            return \"Yes\"\n",
    "        elif arr[left] + arr[right] > target:\n",
    "            right -= 1\n",
    "        else:\n",
    "            left += 1\n",
    "    return \"No\""
   ]
  },
  {
   "cell_type": "markdown",
   "metadata": {},
   "source": [
    "### 2) Sort an array of 0s, 1s and 2s"
   ]
  },
  {
   "cell_type": "code",
   "execution_count": 45,
   "metadata": {},
   "outputs": [
    {
     "data": {
      "text/plain": [
       "[0, 0, 0, 1, 1, 1, 1, 1, 2, 2]"
      ]
     },
     "execution_count": 45,
     "metadata": {},
     "output_type": "execute_result"
    }
   ],
   "source": [
    "arr = [0,1,2,1,1,1,2,0,0,1]\n",
    "cnt0 = 0\n",
    "cnt1 = 0\n",
    "cnt2 = 0\n",
    "for i in range(len(arr)):\n",
    "    if arr[i] == 0:\n",
    "        cnt0 += 1\n",
    "    if arr[i] == 1:\n",
    "        cnt1 += 1\n",
    "    if arr[i] == 2:\n",
    "        cnt2 += 1\n",
    "    \n",
    "for i in range(cnt0):\n",
    "    arr[i] = 0\n",
    "for i in range(cnt0,cnt0+cnt1):\n",
    "    arr[i] = 1\n",
    "for i in range(cnt0+cnt1,len(arr)):\n",
    "    arr[i] = 2\n",
    "arr"
   ]
  },
  {
   "cell_type": "markdown",
   "metadata": {},
   "source": [
    "### 3) Find the Majority Element that occurs more than N/2 times\n"
   ]
  },
  {
   "cell_type": "raw",
   "metadata": {},
   "source": [
    "Input Format: N = 3, nums[] = {3,2,3}\n",
    "\n",
    "Result: 3\n",
    "\n",
    "Explanation: When we just count the occurrences of each number and compare with half of the size of the array, you will get 3 for the above solution. \n",
    "\n",
    "Input Format:  N = 7, nums[] = {2,2,1,1,1,2,2}\n",
    "\n",
    "Result: 2\n",
    "\n",
    "Explanation: After counting the number of times each element appears and comparing it with half of array size, we get 2 as result.\n",
    "\n"
   ]
  },
  {
   "cell_type": "code",
   "execution_count": 61,
   "metadata": {},
   "outputs": [
    {
     "name": "stdout",
     "output_type": "stream",
     "text": [
      "2\n"
     ]
    }
   ],
   "source": [
    "arr = [2,2,1,1,1,2,2]\n",
    "arr_dict = dict.fromkeys(arr,0)\n",
    "for i,num in enumerate(arr):\n",
    "    if num in arr_dict:\n",
    "        arr_dict[num] += 1\n",
    "for key,value in arr_dict.items():\n",
    "    if value > len(arr)/2:\n",
    "        print(key)\n",
    "# Time complexity 0(N)\n",
    "# Space complexity 0(1)"
   ]
  },
  {
   "cell_type": "markdown",
   "metadata": {},
   "source": [
    "### 4) Kadane’s Algorithm : Maximum Subarray Sum in an Array\n",
    "\n",
    "Problem Statement: Given an integer array arr, find the contiguous subarray (containing at least one number) which\n",
    "has the largest sum and returns its sum and prints the subarray."
   ]
  },
  {
   "cell_type": "raw",
   "metadata": {},
   "source": [
    "Example 1:\n",
    "\n",
    "Input: arr = [-2,1,-3,4,-1,2,1,-5,4] \n",
    "\n",
    "Output: 6 \n",
    "\n",
    "Explanation: [4,-1,2,1] has the largest sum = 6. \n",
    "\n",
    "Examples 2: \n",
    "\n",
    "Input: arr = [1] \n",
    "\n",
    "Output: 1 \n",
    "\n",
    "Explanation: Array has only one element and which is giving positive sum of 1. "
   ]
  },
  {
   "cell_type": "code",
   "execution_count": 72,
   "metadata": {},
   "outputs": [
    {
     "name": "stdout",
     "output_type": "stream",
     "text": [
      "2 0 8\n",
      "4 1 8\n",
      "4 2 8\n",
      "6 3 8\n",
      "6 4 8\n",
      "6 5 8\n",
      "6 6 8\n",
      "6 7 8\n",
      "6 8 8\n"
     ]
    }
   ],
   "source": [
    "arr = [-2,1,-3,4,-1,2,1,-5,4]\n",
    "maximum = 0\n",
    "for i in range(len(arr)):\n",
    "    for j in range(i,len(arr)):\n",
    "        add = 0\n",
    "        \n",
    "        for k in range(i,j+1):\n",
    "            add += arr[k]\n",
    "        maximum = max(add,maximum)\n",
    "    print(maximum,i,j)"
   ]
  },
  {
   "cell_type": "code",
   "execution_count": 73,
   "metadata": {},
   "outputs": [
    {
     "name": "stdout",
     "output_type": "stream",
     "text": [
      "2 0 8\n",
      "4 1 8\n",
      "4 2 8\n",
      "6 3 8\n",
      "6 4 8\n",
      "6 5 8\n",
      "6 6 8\n",
      "6 7 8\n",
      "6 8 8\n"
     ]
    }
   ],
   "source": [
    "arr = [-2,1,-3,4,-1,2,1,-5,4]\n",
    "maximum = 0\n",
    "for i in range(len(arr)):\n",
    "    add = 0\n",
    "    for j in range(i,len(arr)):\n",
    "        add += arr[j]\n",
    "        maximum = max(add,maximum)\n",
    "    print(maximum,i,j)"
   ]
  },
  {
   "cell_type": "code",
   "execution_count": 76,
   "metadata": {},
   "outputs": [
    {
     "name": "stdout",
     "output_type": "stream",
     "text": [
      "6\n"
     ]
    }
   ],
   "source": [
    "arr = [-2,1,-3,4,-1,2,1,-5,4]\n",
    "maxi = 0\n",
    "add = 0\n",
    "for i in range(len(arr)):\n",
    "    add += arr[i]\n",
    "    if add > maxi:\n",
    "        maxi = add\n",
    "    #maximum = max(add,maximum)\n",
    "    if add < 0:\n",
    "        add = 0\n",
    "print(maxi)\n",
    "    #print(maximum,i,j)"
   ]
  },
  {
   "cell_type": "markdown",
   "metadata": {},
   "source": [
    "### 5) Subarray with Given Sum\n",
    "\n",
    "**Problem Statement:** Subarray with Given Sum\n",
    "\n",
    "Given an array and a sum k, generate the subarray whose elements sum to k."
   ]
  },
  {
   "cell_type": "raw",
   "metadata": {},
   "source": [
    "Example 1:\n",
    "Input:\n",
    " arr = {1, 7, 3, 9}, k = 10\n",
    "\n",
    "Output: 7 3\n",
    "Explanation:\n",
    " Of all the subarrays, 7 and 3 sums to 10.\n",
    "\n",
    "Example 2:\n",
    "Input: arr = {2,1,3,4,5,6}, k = 10\n",
    "Output: 2 1 3 4\n",
    "Explanation: Of all the subarrays, 2, 1, 3 and 4 sums to 10"
   ]
  },
  {
   "cell_type": "code",
   "execution_count": 13,
   "metadata": {},
   "outputs": [
    {
     "name": "stdout",
     "output_type": "stream",
     "text": [
      "2 1 3 4 "
     ]
    }
   ],
   "source": [
    "arr  = [2,1,3,4,5,6]\n",
    "k = 10\n",
    "for i in range(len(arr)):\n",
    "    summ = 0\n",
    "    for j in range(i,len(arr)):\n",
    "        summ += arr[j]\n",
    "        if summ > k:\n",
    "            break\n",
    "        if summ == k:\n",
    "            for s in range(i,j+1):\n",
    "                print(arr[s],end=\" \")\n"
   ]
  },
  {
   "cell_type": "markdown",
   "metadata": {},
   "source": [
    "### 6) Stock Buy And Sell\n",
    "\n",
    "**Problem Statement:** You are given an array of prices where prices[i] is the price of a given stock on an ith day.\n",
    "\n",
    "You want to maximize your profit by choosing a single day to buy one stock and choosing a different day in the future to sell that stock. Return the maximum profit you can achieve from this transaction. If you cannot achieve any profit, return 0."
   ]
  },
  {
   "cell_type": "raw",
   "metadata": {},
   "source": [
    "Example 1:\n",
    "\n",
    "Input: prices = [7,1,5,3,6,4]\n",
    "Output: 5\n",
    "Explanation: Buy on day 2 (price = 1) and \n",
    "sell on day 5 (price = 6), profit = 6-1 = 5.\n",
    "\n",
    "Note: That buying on day 2 and selling on day 1 \n",
    "is not allowed because you must buy before \n",
    "you sell.\n",
    "\n",
    "Example 2:\n",
    "\n",
    "Input: prices = [7,6,4,3,1]\n",
    "Output: 0\n",
    "Explanation: In this case, no transactions are \n",
    "done and the max profit = 0."
   ]
  },
  {
   "cell_type": "code",
   "execution_count": 26,
   "metadata": {},
   "outputs": [
    {
     "name": "stdout",
     "output_type": "stream",
     "text": [
      "5 [2, 5]\n"
     ]
    }
   ],
   "source": [
    "arr = [7,1,5,3,6,4]\n",
    "calc = 0\n",
    "max_profit = 0\n",
    "profit_dict = {}\n",
    "for i in range(len(arr)):\n",
    "    for j in range(i,len(arr)):\n",
    "        calc = arr[j] - arr[i]\n",
    "        max_profit = max(max_profit,calc)\n",
    "        #print(max_profit,i,j)\n",
    "        if max_profit not in profit_dict:\n",
    "            profit_dict[max_profit] = [i+1,j+1]\n",
    "print(max_profit,profit_dict[max_profit])\n",
    "#Time complexity 0(N^2)\n",
    "#Space complexity 0(1)"
   ]
  },
  {
   "cell_type": "code",
   "execution_count": 32,
   "metadata": {},
   "outputs": [
    {
     "name": "stdout",
     "output_type": "stream",
     "text": [
      "Buy at day: 2\n",
      "Sell at day: 5\n",
      "Max profit is: 5\n"
     ]
    }
   ],
   "source": [
    "#ChatGPT\n",
    "def maxProfit(arr):\n",
    "    maxPro = 0\n",
    "    minPrice = float('inf')\n",
    "    buyIndex = 0  # Index of the buy point\n",
    "    sellIndex = 0  # Index of the sell point\n",
    "\n",
    "    for i in range(len(arr)):\n",
    "        if arr[i] < minPrice:\n",
    "            minPrice = arr[i]\n",
    "            buyIndex = i\n",
    "        elif arr[i] - minPrice > maxPro:\n",
    "            maxPro = arr[i] - minPrice\n",
    "            sellIndex = i\n",
    "\n",
    "    return buyIndex, sellIndex\n",
    "\n",
    "arr = [7, 1, 5, 3, 6, 4]\n",
    "buyIndex, sellIndex = maxProfit(arr)\n",
    "\n",
    "print(\"Buy at day:\", buyIndex+1)\n",
    "print(\"Sell at day:\", sellIndex+1)\n",
    "print(\"Max profit is:\", arr[sellIndex] - arr[buyIndex])\n",
    "# TIme Complexity 0(n)\n",
    "# Space Complexity 0(1)"
   ]
  },
  {
   "cell_type": "markdown",
   "metadata": {},
   "source": [
    "### 7) Rearrange Array Elements by Sign\n",
    "\n",
    "Variety-1\n",
    "\n",
    "**Problem Statement:**\n",
    "\n",
    "There’s an array ‘A’ of size ‘N’ with an equal number of positive and negative elements. Without altering the relative order of positive and negative elements, you must return an array of alternately positive and negative values.\n",
    "\n",
    "Note: Start the array with positive elements."
   ]
  },
  {
   "cell_type": "raw",
   "metadata": {},
   "source": [
    "Example 1:\n",
    "\n",
    "Input:\n",
    "arr[] = {1,2,-4,-5}, N = 4\n",
    "Output:\n",
    "1 -4 2 -5\n",
    "\n",
    "Explanation: \n",
    "\n",
    "Positive elements = 1,2\n",
    "Negative elements = -4,-5\n",
    "To maintain relative ordering, 1 must occur before 2, and -4 must occur before -5.\n",
    "\n",
    "Example 2:\n",
    "Input:\n",
    "arr[] = {1,2,-3,-1,-2,-3}, N = 6\n",
    "Output:\n",
    "1 -3 2 -1 3 -2\n",
    "Explanation: \n",
    "\n",
    "Positive elements = 1,2,3\n",
    "Negative elements = -3,-1,-2\n",
    "To maintain relative ordering, 1 must occur before 2, and 2 must occur before 3.\n",
    "Also, -3 should come before -1, and -1 should come before -2."
   ]
  },
  {
   "cell_type": "code",
   "execution_count": 19,
   "metadata": {},
   "outputs": [
    {
     "name": "stdout",
     "output_type": "stream",
     "text": [
      "[1, 2, 3] [-3, -1, -2]\n",
      "[1, -3, 2, -1, 3, -2]\n"
     ]
    }
   ],
   "source": [
    "arr = [1,2,-3,-1,-2,3]\n",
    "pos_arr = []\n",
    "neg_arr = []\n",
    "for i in range(len(arr)):\n",
    "    if arr[i] > 0:\n",
    "        pos_arr.append(arr[i])\n",
    "    else:\n",
    "        neg_arr.append(arr[i])\n",
    "print(pos_arr,neg_arr)\n",
    "for i in range(len(arr)):\n",
    "    if i % 2 == 0:\n",
    "        arr[i] = pos_arr[0]\n",
    "        pos_arr.pop(0)\n",
    "    else:\n",
    "        arr[i] = neg_arr[0]\n",
    "        neg_arr.pop(0)\n",
    "print(arr)\n",
    "#Time complexity 0(2N)\n",
    "#Space complexity 0(N)"
   ]
  },
  {
   "cell_type": "markdown",
   "metadata": {},
   "source": [
    "### 8) next_permutation : find next lexicographically greater permutation \n",
    "\n",
    "**Problem Statement:** Given an array Arr[] of integers, rearrange the numbers of the given array into the lexicographically next greater permutation of numbers.\n",
    "\n",
    "If such an arrangement is not possible, it must rearrange to the lowest possible order (i.e., sorted in ascending order)."
   ]
  },
  {
   "cell_type": "code",
   "execution_count": null,
   "metadata": {},
   "outputs": [],
   "source": [
    "arr = [1,2,3]\n",
    "for i in range(len(arr)):\n",
    "    "
   ]
  },
  {
   "cell_type": "code",
   "execution_count": 1,
   "metadata": {},
   "outputs": [
    {
     "name": "stdout",
     "output_type": "stream",
     "text": [
      "[1, 2, 3]\n",
      "[1, 3, 2]\n",
      "[2, 1, 3]\n",
      "[2, 3, 1]\n",
      "[3, 2, 1]\n",
      "[3, 1, 2]\n"
     ]
    }
   ],
   "source": [
    "def permute(arr, start, end):\n",
    "    if start == end:\n",
    "        print(arr)\n",
    "    else:\n",
    "        for i in range(start, end + 1):\n",
    "            arr[start], arr[i] = arr[i], arr[start]  # Swap elements\n",
    "            permute(arr, start + 1, end)  # Recursive call\n",
    "            arr[start], arr[i] = arr[i], arr[start]  # Backtrack, undo the swap\n",
    "\n",
    "arr = [1, 2, 3]\n",
    "permute(arr, 0, len(arr) - 1)\n"
   ]
  },
  {
   "cell_type": "code",
   "execution_count": null,
   "metadata": {},
   "outputs": [],
   "source": []
  },
  {
   "cell_type": "markdown",
   "metadata": {},
   "source": [
    "### 9) Leaders in an Array\n",
    "\n",
    "**Problem Statement:** Given an array, print all the elements which are leaders. A Leader is an element that is greater than all of the elements on its right side in the array."
   ]
  },
  {
   "cell_type": "raw",
   "metadata": {},
   "source": [
    "Example 1:\n",
    "Input:\n",
    " arr = [4, 7, 1, 0]\n",
    "Output:\n",
    " 7 1 0\n",
    "Explanation:\n",
    " Rightmost element is always a leader. 7 and 1 are greater than the elements in their right side.\n",
    "\n",
    "Example 2:\n",
    "Input:\n",
    " arr = [10, 22, 12, 3, 0, 6]\n",
    "Output:\n",
    " 22 12 6\n",
    "Explanation:\n",
    " 6 is a leader. In addition to that, 12 is greater than all the elements in its right side (3, 0, 6), also 22 is greater than 12, 3, 0, 6."
   ]
  },
  {
   "cell_type": "code",
   "execution_count": 28,
   "metadata": {},
   "outputs": [
    {
     "name": "stdout",
     "output_type": "stream",
     "text": [
      "[22, 12, 6]\n"
     ]
    }
   ],
   "source": [
    "#Leaders in an array\n",
    "arr = [10, 22, 12, 3, 0, 6]\n",
    "result = []\n",
    "for i in range(len(arr)):\n",
    "    flag = True\n",
    "    for j in range(i+1,len(arr)):\n",
    "        if arr[j] > arr[i]:\n",
    "            flag = False\n",
    "            break\n",
    "    if flag:\n",
    "        result.append(arr[i])\n",
    "print(result)"
   ]
  },
  {
   "cell_type": "markdown",
   "metadata": {},
   "source": [
    "#####  Optimal approach"
   ]
  },
  {
   "cell_type": "code",
   "execution_count": 38,
   "metadata": {},
   "outputs": [
    {
     "name": "stdout",
     "output_type": "stream",
     "text": [
      "[6, 12, 22]\n"
     ]
    }
   ],
   "source": [
    "#Leaders in an array\n",
    "arr = [10, 22, 12, 3, 0, 6]\n",
    "#[4, 7, 1, 0]\n",
    "result = []\n",
    "n = len(arr)\n",
    "maxi = arr[n-1]\n",
    "result.append(maxi)\n",
    "for i in range(len(arr)-2,-1,-1):\n",
    "    if arr[i] > maxi:\n",
    "        result.append(arr[i])\n",
    "        maxi = arr[i]\n",
    "print(result)"
   ]
  },
  {
   "cell_type": "markdown",
   "metadata": {},
   "source": [
    "### 10) Longest Consecutive Sequence in an Array\n",
    "\n",
    "**Problem Statement:** You are given an array of ‘N’ integers. You need to find the length of the longest sequence which contains the consecutive elements."
   ]
  },
  {
   "cell_type": "raw",
   "metadata": {},
   "source": [
    "Example 1:\n",
    "\n",
    "Input: [100, 200, 1, 3, 2, 4]\n",
    "\n",
    "Output: 4\n",
    "\n",
    "Explanation: The longest consecutive subsequence is 1, 2, 3, and 4.\n",
    "\n",
    "Input: [3, 8, 5, 7, 6]\n",
    "\n",
    "Output: 4\n",
    "\n",
    "Explanation: The longest consecutive subsequence is 5, 6, 7, and 8."
   ]
  },
  {
   "cell_type": "code",
   "execution_count": 18,
   "metadata": {},
   "outputs": [
    {
     "name": "stdout",
     "output_type": "stream",
     "text": [
      "4\n"
     ]
    }
   ],
   "source": [
    "arr = [9,5,103,104,105, 200, 1, 3, 2,4,4,5,5,5,5,5,5]\n",
    "arr.sort()\n",
    "cnt = 1\n",
    "ans = 1\n",
    "for i in range(len(arr)-1):\n",
    "    if arr[i] + 1 == arr[i+1] :\n",
    "        cnt += 1\n",
    "    else:\n",
    "        cnt = 1\n",
    "        \n",
    "    ans = max(cnt,ans)\n",
    "print(ans)\n",
    "\n",
    "## Time complexity O(N * log(N))\n",
    "## Space complexity O(1)"
   ]
  },
  {
   "cell_type": "markdown",
   "metadata": {},
   "source": [
    "##### Optimal"
   ]
  },
  {
   "cell_type": "code",
   "execution_count": 25,
   "metadata": {},
   "outputs": [
    {
     "name": "stdout",
     "output_type": "stream",
     "text": [
      "5\n"
     ]
    }
   ],
   "source": [
    "arr = [9,5,103,104,105, 200, 1, 3, 2,4,4,5,5,5,5,5,5]\n",
    "arr_set = set(arr)\n",
    "length = 0\n",
    "for num in arr_set:\n",
    "    if num - 1 not in arr_set:\n",
    "        currentNum = num\n",
    "        curr_sq = 1\n",
    "        while (currentNum + 1) in arr_set:\n",
    "            \n",
    "            curr_sq += 1\n",
    "            currentNum += 1\n",
    "        length = max(length,curr_sq)\n",
    "print(length)\n",
    "\n",
    "## Time complexity O(2N)\n",
    "## Space complexity O(N)"
   ]
  },
  {
   "cell_type": "markdown",
   "metadata": {},
   "source": [
    "### 11) Set Matrix Zero\n",
    "\n",
    "**Problem Statement:** Given a matrix if an element in the matrix is 0 then you will have to set its entire column and row to 0 and then return the matrix."
   ]
  },
  {
   "cell_type": "raw",
   "metadata": {},
   "source": [
    "Examples 1:\n",
    "\n",
    "Input: matrix=[[1,1,1],[1,0,1],[1,1,1]]\n",
    "\n",
    "Output: [[1,0,1],[0,0,0],[1,0,1]]\n",
    "\n",
    "Explanation: Since matrix[2][2]=0.Therfore the 2nd column and 2nd row wil be set to 0.\n",
    " \n",
    "Input: matrix=[[0,1,2,0],[3,4,5,2],[1,3,1,5]]\n",
    "\n",
    "Output:[[0,0,0,0],[0,4,5,0],[0,3,1,0]]\n",
    "\n",
    "Explanation:Since matrix[0][0]=0 and matrix[0][3]=0. Therefore 1st row, 1st column and 4th column will be set to 0"
   ]
  },
  {
   "cell_type": "code",
   "execution_count": 48,
   "metadata": {},
   "outputs": [
    {
     "name": "stdout",
     "output_type": "stream",
     "text": [
      "[[0, 1, 2, 0], [3, 0, 5, 2], [1, 3, 1, 5]]\n"
     ]
    }
   ],
   "source": [
    "matrix=[[0,1,2,0],[3,0,5,2],[1,3,1,5]]\n",
    "print(matrix,end='\\n')"
   ]
  },
  {
   "cell_type": "code",
   "execution_count": 49,
   "metadata": {},
   "outputs": [
    {
     "name": "stdout",
     "output_type": "stream",
     "text": [
      "[0, 1, 2, 0]\n",
      "[3, 0, 5, 2]\n",
      "[1, 3, 1, 5]\n"
     ]
    }
   ],
   "source": [
    "for i in matrix:\n",
    "    print(i,end='\\n')"
   ]
  },
  {
   "cell_type": "code",
   "execution_count": 87,
   "metadata": {},
   "outputs": [],
   "source": [
    "\n",
    "def MarkRow(matrix,i,m):\n",
    "    for col in range(m):\n",
    "        if matrix[i][col] != 0:\n",
    "            matrix[i][col] = -1\n",
    "def MarkCol(matrix,j,n):\n",
    "    for row in range(n):\n",
    "        if matrix[row][j] != 0:\n",
    "            matrix[row][j] = -1\n",
    "def find_zero(matrix,n,m):\n",
    "    for i in range(n):\n",
    "        for j in range(m):\n",
    "            if matrix[i][j] == 0:\n",
    "                MarkRow(matrix,i,m) # Make the row replace them with -1\n",
    "                MarkCol(matrix,j,n) # Make the columns replace them with -1\n",
    "    \n",
    "    # make the -1 to zeros now\n",
    "    for i in range(n):\n",
    "        for j in range(m):\n",
    "            if matrix[i][j] == -1:\n",
    "                matrix[i][j] = 0\n",
    "\n",
    "# TIme complexity O(n*m) * (n+m) + (n*m) ~ O(n^3)"
   ]
  },
  {
   "cell_type": "code",
   "execution_count": 89,
   "metadata": {},
   "outputs": [
    {
     "name": "stdout",
     "output_type": "stream",
     "text": [
      "[0, 1, 2, 0]\n",
      "[3, 0, 5, 2]\n",
      "[1, 3, 1, 5]\n",
      "-------Post conversion \n",
      "[0, 0, 0, 0]\n",
      "[0, 0, 0, 0]\n",
      "[0, 0, 1, 0]\n"
     ]
    }
   ],
   "source": [
    "matrix=[[0,1,2,0],[3,0,5,2],[1,3,1,5]]\n",
    "for i in matrix:\n",
    "    print(i,end='\\n')\n",
    "n = len(matrix) \n",
    "m = len(matrix[0])\n",
    "find_zero(matrix,n,m)\n",
    "print(\"-------Post conversion \")\n",
    "for i in matrix:\n",
    "    print(i,end='\\n')\n",
    "# matrix"
   ]
  },
  {
   "cell_type": "code",
   "execution_count": 85,
   "metadata": {},
   "outputs": [
    {
     "name": "stdout",
     "output_type": "stream",
     "text": [
      "[0, -1, -1, 0]\n",
      "[-1, 0, -1, -1]\n",
      "[-1, -1, 1, -1]\n"
     ]
    }
   ],
   "source": [
    "for i in matrix:\n",
    "    print(i,end='\\n')"
   ]
  },
  {
   "cell_type": "markdown",
   "metadata": {},
   "source": [
    "##### Better approach"
   ]
  },
  {
   "cell_type": "code",
   "execution_count": 100,
   "metadata": {},
   "outputs": [
    {
     "name": "stdout",
     "output_type": "stream",
     "text": [
      "[0, 1, 2, 0]\n",
      "[3, 4, 5, 2]\n",
      "[1, 3, 1, 5]\n",
      "-------Post conversion \n",
      "[0, 0, 0, 0]\n",
      "[0, 4, 5, 0]\n",
      "[0, 3, 1, 0]\n"
     ]
    }
   ],
   "source": [
    "# This is the better approach\n",
    "matrix=[[0,1,2,0],[3,4,5,2],[1,3,1,5]]\n",
    "for i in matrix:\n",
    "    print(i,end='\\n')\n",
    "n = len(matrix) \n",
    "m = len(matrix[0])\n",
    "row_arr = [0] * n\n",
    "col_arr = [0] * m\n",
    "mark_zero(matrix,n,m,row_arr,col_arr)\n",
    "print(\"-------Post conversion \")\n",
    "for i in matrix:\n",
    "    print(i,end='\\n')"
   ]
  },
  {
   "cell_type": "code",
   "execution_count": 91,
   "metadata": {},
   "outputs": [],
   "source": [
    "def mark_zero(matrix,n,m,row_arr,col_arr):\n",
    "    \n",
    "    for i in range(n):\n",
    "        for j in range(m):\n",
    "            if matrix[i][j] == 0:\n",
    "                row_arr[i] = 1 # Make the row replace them with -1\n",
    "                col_arr[j] = 1 # Make the columns replace them with -1\n",
    "    for row in range(n):\n",
    "        for col in range(m):\n",
    "            if (row_arr[row] == 1 or col_arr[col] == 1):\n",
    "                matrix[row][col] = 0\n",
    "# Time complexity O (n*m) + (n*m) ~ O(n^2)\n",
    "# Space complexity O(n) + O(m)\n",
    "\n",
    "# The minimum time complexity to traverse a matrix is O(n^2)"
   ]
  },
  {
   "cell_type": "markdown",
   "metadata": {},
   "source": [
    "### 12) Rotate Image by 90 degree\n",
    "\n",
    "**Problem Statement:** Given a matrix, your task is to rotate the matrix 90 degrees clockwise."
   ]
  },
  {
   "cell_type": "raw",
   "metadata": {},
   "source": [
    "Example 1:\n",
    "\n",
    "Input: [[1,2,3],[4,5,6],[7,8,9]]\n",
    "\n",
    "Output: [[7,4,1],[8,5,2],[9,6,3]]\n",
    "\n",
    "Explanation: Rotate the matrix simply by 90 degree clockwise and return the matrix.\n",
    "\n",
    "Example 2:\n",
    "\n",
    "Input: [[5,1,9,11],[2,4,8,10],[13,3,6,7],[15,14,12,16]]\n",
    "\n",
    "Output:[[15,13,2,5],[14,3,4,1],[12,6,8,9],[16,7,10,11]]\n",
    "\n",
    "Explanation: Rotate the matrix simply by 90 degree clockwise and return the matrix"
   ]
  },
  {
   "cell_type": "code",
   "execution_count": 199,
   "metadata": {},
   "outputs": [
    {
     "name": "stdout",
     "output_type": "stream",
     "text": [
      "[[0, 0, 0], [0, 0, 0], [0, 0, 0]] -- [[0, 0, 0], [0, 0, 0], [0, 0, 0]]\n",
      "[1, 2, 3]\n",
      "[4, 5, 6]\n",
      "[7, 8, 9]\n",
      "[[7, 4, 1], [8, 5, 2], [9, 6, 3]]\n",
      "***********\n",
      "[7, 4, 1]\n",
      "[8, 5, 2]\n",
      "[9, 6, 3]\n"
     ]
    }
   ],
   "source": [
    "matrix = [[1,2,3],[4,5,6],[7,8,9]]\n",
    "n = len(matrix)\n",
    "m = len(matrix[0])\n",
    "# res_matrix = [0] * n \n",
    "# res_matrix = [res_matrix] * n\n",
    "res_matrix = [[0 for _ in range(n)] for _ in range(n)]\n",
    "print(res_matrix,\"--\",rotated,end=\"\\n\")\n",
    "for i in matrix:\n",
    "    print(i,end='\\n')\n",
    "rotate_matrix ( matrix , n , m , res_matrix)\n",
    "print(\"***********\")\n",
    "for i in res_matrix:\n",
    "    print(i,end='\\n')"
   ]
  },
  {
   "cell_type": "code",
   "execution_count": 200,
   "metadata": {},
   "outputs": [],
   "source": [
    "def rotate_matrix ( matrix , n , m , res_matrix):\n",
    "    #res_matrix = [[0 for _ in range(n)] for _ in range(n)]\n",
    "    for i in range(n):\n",
    "        for j in range(n):\n",
    "            res_matrix[j][n - 1 - i] = matrix[i][j]\n",
    "    print(res_matrix)\n",
    "# Time complexity O(N^2)\n",
    "# Space complexity O(N^2)"
   ]
  },
  {
   "cell_type": "markdown",
   "metadata": {},
   "source": [
    "##### Optimal approach"
   ]
  },
  {
   "cell_type": "code",
   "execution_count": 257,
   "metadata": {},
   "outputs": [],
   "source": [
    "def rotate_matrix_90 ( matrix , n):\n",
    "    #res_matrix = [[0 for _ in range(n)] for _ in range(n)]\n",
    "    for i in range(n):\n",
    "        print(i)\n",
    "        for j in range(i):\n",
    "            print(i,j)\n",
    "            matrix[i][j] , matrix [j][i] = matrix[j][i] , matrix[i][j]\n",
    "            \n",
    "            print(matrix,\"-----------\",i,j)\n",
    "    # reversing each row of the matrix\n",
    "    for i in range(n):\n",
    "        #print(matrix[i],end='\\n')\n",
    "        matrix[i].reverse()\n",
    "        \n",
    "        print(matrix[i],end='\\n')\n",
    "        \n",
    "matrix = [[1,2,3],[4,5,6],[7,8,9]]\n",
    "rotate_matrix_90(matrix,3)\n",
    "\n",
    "# Time complexity O(n*m) + O(n*m)\n",
    "# Space complexity O(1)"
   ]
  },
  {
   "cell_type": "code",
   "execution_count": null,
   "metadata": {},
   "outputs": [],
   "source": [
    "matrix = [[1,2,3],[4,5,6],[7,8,9]]\n",
    "matrix[2][1]"
   ]
  },
  {
   "cell_type": "markdown",
   "metadata": {},
   "source": [
    "### 13) Spiral Traversal of Matrix\n",
    "\n",
    "**Problem Statement:** Given a Matrix, print the given matrix in spiral order."
   ]
  },
  {
   "cell_type": "raw",
   "metadata": {},
   "source": [
    "Example 1:\n",
    "Input: Matrix[][] = { { 1, 2, 3, 4 },\n",
    "\t\t      { 5, 6, 7, 8 },\n",
    "\t\t      { 9, 10, 11, 12 },\n",
    "\t              { 13, 14, 15, 16 } }\n",
    "\n",
    "Outhput: 1, 2, 3, 4, 8, 12, 16, 15, 14, 13, 9, 5, 6, 7, 11, 10.\n",
    "Explanation: The output of matrix in spiral form.\n",
    "\n",
    "Example 2:\n",
    "Input: Matrix[][] = { { 1, 2, 3 },\n",
    "\t              { 4, 5, 6 },\n",
    "\t\t      { 7, 8, 9 } }\n",
    "\t\t\t    \n",
    "Output: 1, 2, 3, 6, 9, 8, 7, 4, 5.\n",
    "Explanation: The output of matrix in spiral form."
   ]
  },
  {
   "cell_type": "code",
   "execution_count": 287,
   "metadata": {},
   "outputs": [
    {
     "name": "stdout",
     "output_type": "stream",
     "text": [
      "[1, 2, 3, 4, 5, 6, 7, 8, 9]\n"
     ]
    }
   ],
   "source": [
    "matrix = [[1,2,3],[8,9,4],[7,6,5]]\n",
    "n = len(matrix)\n",
    "\n",
    "print_spiral_matrix(matrix)"
   ]
  },
  {
   "cell_type": "code",
   "execution_count": 286,
   "metadata": {},
   "outputs": [],
   "source": [
    "def print_spiral_matrix(matrix):\n",
    "    # To Store the result\n",
    "    ans = []\n",
    "    \n",
    "    n = len(matrix)\n",
    "    m = len(matrix[0])\n",
    "    \n",
    "    top = 0\n",
    "    right = m-1\n",
    "    bottom = n-1 \n",
    "    left = 0\n",
    "    # Loop until all elements are not traversed.\n",
    "    while (top <= bottom and left <= right):\n",
    "        # Right\n",
    "        for i in range(left,right+1):\n",
    "            ans.append(matrix[top][i])\n",
    "        top += 1\n",
    "        # Bottom\n",
    "        for i in range(top,bottom+1):\n",
    "            ans.append(matrix[i][right])\n",
    "        right -= 1\n",
    "        if (top <= bottom):\n",
    "            # Left \n",
    "            for i in range(right, left-1,-1):\n",
    "                ans.append(matrix[bottom][i])\n",
    "            bottom -= 1\n",
    "        # Top\n",
    "        if (left <= right):\n",
    "            for i in range(bottom, top-1,-1):\n",
    "                ans.append(matrix[i][left])\n",
    "            left += 1\n",
    "    print(ans)\n",
    "        "
   ]
  },
  {
   "cell_type": "markdown",
   "metadata": {},
   "source": [
    "### 14) Count Subarray sum Equals K\n",
    "\n",
    "Problem Statement: Given an array of integers and an integer k, return the total number of subarrays whose sum equals k.\n",
    "\n",
    "A subarray is a contiguous non-empty sequence of elements within an array."
   ]
  },
  {
   "cell_type": "raw",
   "metadata": {},
   "source": [
    "Example 1:\n",
    "Input Format: N = 4, array[] = {3, 1, 2, 4}, k = 6\n",
    "Result: 2\n",
    "Explanation: The subarrays that sum up to 6 are [3, 1, 2] and [2, 4].\n",
    "\n",
    "Example 2:\n",
    "Input Format: N = 3, array[] = {1,2,3}, k = 3\n",
    "Result: 2\n",
    "Explanation: The subarrays that sum up to 3 are [1, 2], and [3]."
   ]
  },
  {
   "cell_type": "code",
   "execution_count": 2,
   "metadata": {},
   "outputs": [
    {
     "name": "stdout",
     "output_type": "stream",
     "text": [
      "The count is  2\n"
     ]
    }
   ],
   "source": [
    "def getSubarrayCount(arr: [int],k: int,N: int) -> int:\n",
    "    counter = 0\n",
    "    #outer loop\n",
    "    for i in range(0,N):\n",
    "        #inner loop\n",
    "        for j in range(0,N):\n",
    "            sum_k = sum(arr[i:j+1])\n",
    "            \n",
    "            if sum_k == k:\n",
    "                counter += 1\n",
    "    return counter\n",
    "    \n",
    "\n",
    "\n",
    "if __name__ == \"__main__\":\n",
    "    arr = [1,2,3]\n",
    "    k = 3\n",
    "    N = len(arr)\n",
    "    result = getSubarrayCount(arr,k,N)\n",
    "    print(\"The count is \",result)"
   ]
  },
  {
   "cell_type": "code",
   "execution_count": null,
   "metadata": {},
   "outputs": [],
   "source": []
  },
  {
   "cell_type": "code",
   "execution_count": null,
   "metadata": {},
   "outputs": [],
   "source": []
  },
  {
   "cell_type": "code",
   "execution_count": null,
   "metadata": {},
   "outputs": [],
   "source": []
  }
 ],
 "metadata": {
  "kernelspec": {
   "display_name": "Python 3",
   "language": "python",
   "name": "python3"
  },
  "language_info": {
   "codemirror_mode": {
    "name": "ipython",
    "version": 3
   },
   "file_extension": ".py",
   "mimetype": "text/x-python",
   "name": "python",
   "nbconvert_exporter": "python",
   "pygments_lexer": "ipython3",
   "version": "3.7.1"
  }
 },
 "nbformat": 4,
 "nbformat_minor": 2
}
