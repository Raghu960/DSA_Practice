{
 "cells": [
  {
   "cell_type": "markdown",
   "metadata": {},
   "source": [
    "### 1) Check if two Strings are anagrams of each other\n",
    "\n",
    "**Problem Statement:** Given two strings, check if two strings are anagrams of each other or not."
   ]
  },
  {
   "cell_type": "raw",
   "metadata": {},
   "source": [
    "Example 1:\n",
    "Input: s=”this is an amazing program”\n",
    "Output: “program amazing an is this”\n",
    "\n",
    "Example 2:\n",
    "Input: s=”This is decent”\n",
    "Output: “decent is This”"
   ]
  },
  {
   "cell_type": "code",
   "execution_count": 15,
   "metadata": {},
   "outputs": [
    {
     "name": "stdout",
     "output_type": "stream",
     "text": [
      "program amazing an is this "
     ]
    }
   ],
   "source": [
    "s = \"this is an amazing program\"\n",
    "rev_list = s.split(\" \")\n",
    "for i in range(len(rev_list)-1,-1,-1):\n",
    "    print(rev_list[i],end = \" \")\n",
    "# Time complexity 0(N + M)\n",
    "# Space complexity 0(N)"
   ]
  },
  {
   "cell_type": "markdown",
   "metadata": {},
   "source": [
    "### 2) Check if two Strings are anagrams of each other\n",
    "\n",
    "**Problem Statement:** Given two strings, check if two strings are anagrams of each other or not."
   ]
  },
  {
   "cell_type": "raw",
   "metadata": {},
   "source": [
    "Example 1:\n",
    "Input: CAT, ACT\n",
    "Output: true\n",
    "Explanation: Since the count of every letter of both strings are equal.\n",
    "\n",
    "Example 2:\n",
    "Input: RULES, LESRT \n",
    "Output: false\n",
    "Explanation: Since the count of U and T  is not equal in both strings."
   ]
  },
  {
   "cell_type": "code",
   "execution_count": 43,
   "metadata": {},
   "outputs": [
    {
     "name": "stdout",
     "output_type": "stream",
     "text": [
      "True\n"
     ]
    }
   ],
   "source": [
    "class Solution:\n",
    "    def isAnagram(self, s: str, t: str) -> bool:\n",
    "        s = ''.join(sorted(s))\n",
    "#         print(s)\n",
    "        t = ''.join(sorted(t))\n",
    "#         print(t)\n",
    "        if s == t:\n",
    "            return True\n",
    "        else:\n",
    "            return False\n",
    "        \n",
    "# Create an instance of the Solution class\n",
    "solution_instance = Solution()\n",
    "\n",
    "# Call the isAnagram function on the instance\n",
    "result = solution_instance.isAnagram(\"listen\", \"silent\")\n",
    "\n",
    "# Print the result\n",
    "print(result)\n"
   ]
  },
  {
   "cell_type": "markdown",
   "metadata": {},
   "source": [
    "### 3) check-if-string-is-a-prefix-of-array\n",
    "Given a string s and an array of strings words, determine whether s is a prefix string of words.\n",
    "\n",
    "A string s is a prefix string of words if s can be made by concatenating the first k strings in words for some positive k no larger than words.length.\n",
    "\n",
    "Return true if s is a prefix string of words, or false otherwise."
   ]
  },
  {
   "cell_type": "raw",
   "metadata": {},
   "source": [
    "Example 1:\n",
    "\n",
    "Input: s = \"iloveleetcode\", words = [\"i\",\"love\",\"leetcode\",\"apples\"]\n",
    "Output: true\n",
    "Explanation:\n",
    "s can be made by concatenating \"i\", \"love\", and \"leetcode\" together.\n",
    "\n",
    "Example 2:\n",
    "\n",
    "Input: s = \"iloveleetcode\", words = [\"apples\",\"i\",\"love\",\"leetcode\"]\n",
    "Output: false\n",
    "Explanation:\n",
    "It is impossible to make s using a prefix of arr."
   ]
  },
  {
   "cell_type": "code",
   "execution_count": 54,
   "metadata": {},
   "outputs": [
    {
     "name": "stdout",
     "output_type": "stream",
     "text": [
      "iloveleetcodeapples\n",
      "True\n"
     ]
    }
   ],
   "source": [
    "s = \"iloveleetcode\"\n",
    "words = [ \"i\",\"love\",\"leetcode\",\"apples\"]\n",
    "i = 0\n",
    "full_string = ''.join(words)\n",
    "print(full_string)\n",
    "while i < len(s)-1:\n",
    "    if s[i] != full_string[i]: \n",
    "        print(\"False\")\n",
    "        break\n",
    "    else:\n",
    "        if i == len(s)-2:\n",
    "            print(\"True\")\n",
    "    i += 1"
   ]
  },
  {
   "cell_type": "code",
   "execution_count": 79,
   "metadata": {},
   "outputs": [
    {
     "name": "stdout",
     "output_type": "stream",
     "text": [
      "True\n"
     ]
    }
   ],
   "source": [
    "s = \"iloveleetcode\"\n",
    "words = [ \"i\",\"love\",\"leetcode\",\"apples\"]\n",
    "subresult = [''.join(words[:i+1]) for i in range(len(words))]\n",
    "if s in subresult:\n",
    "    print(True)\n",
    "else:\n",
    "    print(False)"
   ]
  },
  {
   "cell_type": "markdown",
   "metadata": {},
   "source": [
    "### 4) Reverse vowels in a string\n",
    "\n",
    "Given a string s, reverse only all the vowels in the string and return it.\n",
    "\n",
    "The vowels are 'a', 'e', 'i', 'o', and 'u', and they can appear in both lower and upper cases, more than once."
   ]
  },
  {
   "cell_type": "raw",
   "metadata": {},
   "source": [
    "Example 1:\n",
    "\n",
    "Input: s = \"hello\"\n",
    "Output: \"holle\"\n",
    "\n",
    "Example 2:\n",
    "\n",
    "Input: s = \"leetcode\"\n",
    "Output: \"leotcede\"\n"
   ]
  },
  {
   "cell_type": "code",
   "execution_count": 100,
   "metadata": {},
   "outputs": [
    {
     "name": "stdout",
     "output_type": "stream",
     "text": [
      "ioe\n",
      "['h', 'i', 'l', 'l', 'o', 'i']\n"
     ]
    }
   ],
   "source": [
    "s = \"helloi\"\n",
    "s = list(s)\n",
    "vow = ['a','e','i','o','u']\n",
    "lis = []\n",
    "for i in s:\n",
    "    if i in vow:\n",
    "        lis.append(i)\n",
    "rev_ls = ''.join(reversed(lis))\n",
    "print(rev_ls)\n",
    "\n",
    "for i in range(len(s)):\n",
    "    if s[i] in rev_ls:\n",
    "        s[i] = rev_ls[0]\n",
    "        break\n",
    "print(s)"
   ]
  },
  {
   "cell_type": "code",
   "execution_count": null,
   "metadata": {},
   "outputs": [],
   "source": [
    "def swap_func(s,pos1,pos2):\n",
    "    "
   ]
  },
  {
   "cell_type": "code",
   "execution_count": 92,
   "metadata": {},
   "outputs": [
    {
     "data": {
      "text/plain": [
       "True"
      ]
     },
     "execution_count": 92,
     "metadata": {},
     "output_type": "execute_result"
    }
   ],
   "source": [
    "\"i\" in rev_ls"
   ]
  },
  {
   "cell_type": "code",
   "execution_count": 97,
   "metadata": {},
   "outputs": [
    {
     "data": {
      "text/plain": [
       "['h', 'e', 'l', 'l', 'o', 'i']"
      ]
     },
     "execution_count": 97,
     "metadata": {},
     "output_type": "execute_result"
    }
   ],
   "source": [
    "list(s)"
   ]
  },
  {
   "cell_type": "markdown",
   "metadata": {},
   "source": [
    "### 5) Largest odd number in a string\n",
    "You are given a string num, representing a large integer. Return the largest-valued odd integer (as a string) that is a non-empty substring of num, or an empty string \"\" if no odd integer exists.\n",
    "\n",
    "A substring is a contiguous sequence of characters within a string."
   ]
  },
  {
   "cell_type": "raw",
   "metadata": {},
   "source": [
    "Example 1:\n",
    "\n",
    "Input: num = \"52\"\n",
    "Output: \"5\"\n",
    "Explanation: The only non-empty substrings are \"5\", \"2\", and \"52\". \"5\" is the only odd number.\n",
    "\n",
    "Example 2:\n",
    "\n",
    "Input: num = \"4206\"\n",
    "Output: \"\"\n",
    "Explanation: There are no odd numbers in \"4206\".\n",
    "\n",
    "Example 3:\n",
    "\n",
    "Input: num = \"35427\"\n",
    "Output: \"35427\"\n",
    "Explanation: \"35427\" is already an odd number."
   ]
  },
  {
   "cell_type": "code",
   "execution_count": 144,
   "metadata": {},
   "outputs": [],
   "source": [
    "class Solution:\n",
    "    def largestOddNumber(self, num: str) -> str:\n",
    "        if int(num) % 2 == 0 and len(num)>1:\n",
    "            num = sorted(num)\n",
    "            print(num)\n",
    "            for i in range(len(num)-1,0,-1):\n",
    "                print(num[i],i)\n",
    "                if int(num[i]) % 2 != 0:\n",
    "                    return num[i]\n",
    "                elif i == len(num):\n",
    "                    return \"\"\n",
    "        elif len(num) == 1 and int(num) % 2 == 0:\n",
    "            return \"\"\n",
    "        else:    \n",
    "            return num\n"
   ]
  },
  {
   "cell_type": "code",
   "execution_count": 163,
   "metadata": {},
   "outputs": [],
   "source": [
    "class Solution:\n",
    "    def largestOddNumber(self, num: str) -> str:\n",
    "        for i in range(len(num) - 1, -1, -1) :\n",
    "            if num[i] in {'1','3','5','7','9'} :\n",
    "                return num[:i+1]\n",
    "        return ''"
   ]
  },
  {
   "cell_type": "code",
   "execution_count": 170,
   "metadata": {},
   "outputs": [
    {
     "name": "stdout",
     "output_type": "stream",
     "text": [
      "73\n"
     ]
    }
   ],
   "source": [
    "# Create an instance of the Solution class\n",
    "solution_instance = Solution()\n",
    "\n",
    "# Call the isAnagram function on the instance\n",
    "result = solution_instance.largestOddNumber(\"734\")\n",
    "\n",
    "# Print the result\n",
    "print(result)\n"
   ]
  },
  {
   "cell_type": "markdown",
   "metadata": {},
   "source": [
    "### 6) Reverse the vowels in a string \n",
    "Given a string s, reverse only all the vowels in the string and return it.\n",
    "\n",
    "The vowels are 'a', 'e', 'i', 'o', and 'u', and they can appear in both lower and upper cases, more than once."
   ]
  },
  {
   "cell_type": "raw",
   "metadata": {},
   "source": [
    "Example 1:\n",
    "\n",
    "Input: s = \"hello\"\n",
    "Output: \"holle\"\n",
    "\n",
    "Example 2:\n",
    "\n",
    "Input: s = \"leetcode\"\n",
    "Output: \"leotcede\""
   ]
  },
  {
   "cell_type": "code",
   "execution_count": 184,
   "metadata": {},
   "outputs": [],
   "source": [
    "class Solution:\n",
    "    def reverseVowels(self, s: str) -> str:\n",
    "        l = 0\n",
    "        r = len(s)-1\n",
    "        vowels = ('a','e','i','o','u','A','E','I','O','U')\n",
    "        s = list(s)\n",
    "        print(s)\n",
    "        while (l < r):\n",
    "            print(l,s[2])\n",
    "            \n",
    "            if s[l] not in vowels:\n",
    "                l += 1\n",
    "            elif s[r] not in vowels:\n",
    "                r -= 1\n",
    "            else:\n",
    "                s[l],s[r] = s[r],s[l]\n",
    "                l += 1\n",
    "                r -= 1\n",
    "        return ''.join(s)\n",
    "# Time complextiy O(N)\n",
    "# Space complexity 0(N)"
   ]
  },
  {
   "cell_type": "code",
   "execution_count": 186,
   "metadata": {},
   "outputs": [
    {
     "name": "stdout",
     "output_type": "stream",
     "text": [
      "['H', 'e', 'l', 'l', 'o', 'i']\n",
      "0 l\n",
      "1 l\n",
      "2 l\n",
      "3 l\n",
      "Hilloe\n"
     ]
    }
   ],
   "source": [
    "Soultion_object = Solution()\n",
    "\n",
    "result = Soultion_object.reverseVowels(\"Helloi\")\n",
    "\n",
    "print(result)"
   ]
  },
  {
   "cell_type": "code",
   "execution_count": null,
   "metadata": {},
   "outputs": [],
   "source": []
  },
  {
   "cell_type": "code",
   "execution_count": null,
   "metadata": {},
   "outputs": [],
   "source": []
  },
  {
   "cell_type": "code",
   "execution_count": null,
   "metadata": {},
   "outputs": [],
   "source": []
  },
  {
   "cell_type": "code",
   "execution_count": null,
   "metadata": {},
   "outputs": [],
   "source": []
  }
 ],
 "metadata": {
  "kernelspec": {
   "display_name": "Python 3",
   "language": "python",
   "name": "python3"
  },
  "language_info": {
   "codemirror_mode": {
    "name": "ipython",
    "version": 3
   },
   "file_extension": ".py",
   "mimetype": "text/x-python",
   "name": "python",
   "nbconvert_exporter": "python",
   "pygments_lexer": "ipython3",
   "version": "3.7.1"
  }
 },
 "nbformat": 4,
 "nbformat_minor": 2
}
