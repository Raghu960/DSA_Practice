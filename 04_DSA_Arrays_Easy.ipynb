{
 "cells": [
  {
   "cell_type": "markdown",
   "metadata": {},
   "source": [
    "# Arrays"
   ]
  },
  {
   "cell_type": "markdown",
   "metadata": {},
   "source": [
    "### 1) Largest element in the array"
   ]
  },
  {
   "cell_type": "code",
   "execution_count": 14,
   "metadata": {},
   "outputs": [
    {
     "name": "stdout",
     "output_type": "stream",
     "text": [
      "5\n"
     ]
    }
   ],
   "source": [
    "arr = [5,4,1,3,2,5]\n",
    "max_val = arr[0]\n",
    "for i in range(len(arr)):\n",
    "    if max_val < arr[i]:\n",
    "        max_val = arr[i]\n",
    "print(max_val)"
   ]
  },
  {
   "cell_type": "code",
   "execution_count": 15,
   "metadata": {},
   "outputs": [
    {
     "data": {
      "text/plain": [
       "5"
      ]
     },
     "execution_count": 15,
     "metadata": {},
     "output_type": "execute_result"
    }
   ],
   "source": [
    "arr.sort()\n",
    "arr[-1]"
   ]
  },
  {
   "cell_type": "code",
   "execution_count": 16,
   "metadata": {},
   "outputs": [
    {
     "name": "stdout",
     "output_type": "stream",
     "text": [
      "5\n",
      "5\n"
     ]
    }
   ],
   "source": [
    "from functools import reduce\n",
    "\n",
    "max_val = reduce(lambda x, y: x if x > y else y, arr)\n",
    "print(max_val)\n",
    "print(max(arr))"
   ]
  },
  {
   "cell_type": "markdown",
   "metadata": {},
   "source": [
    "### 2) 2nd Largest and smallest element"
   ]
  },
  {
   "cell_type": "code",
   "execution_count": 17,
   "metadata": {},
   "outputs": [
    {
     "data": {
      "text/plain": [
       "5"
      ]
     },
     "execution_count": 17,
     "metadata": {},
     "output_type": "execute_result"
    }
   ],
   "source": [
    "arr.sort()\n",
    "arr[-1]"
   ]
  },
  {
   "cell_type": "code",
   "execution_count": 46,
   "metadata": {},
   "outputs": [],
   "source": [
    "arr = [0,5,6,7,1,2,1,4,1,2,4]"
   ]
  },
  {
   "cell_type": "code",
   "execution_count": 49,
   "metadata": {},
   "outputs": [
    {
     "name": "stdout",
     "output_type": "stream",
     "text": [
      "4 7\n"
     ]
    }
   ],
   "source": [
    "small = float('-inf')\n",
    "S_small = float('-inf')\n",
    "for i in range(len(arr)):\n",
    "    if arr[i] > small:\n",
    "        small = arr[i]\n",
    "    elif arr[i] > S_small and arr[i] != small:\n",
    "        S_small = arr[i]\n",
    "print(S_small,small)\n",
    "\n",
    "#Time complexity O(N)\n",
    "#Space complexity O(1)"
   ]
  },
  {
   "cell_type": "markdown",
   "metadata": {},
   "source": [
    "### 3) Check if array is sorted"
   ]
  },
  {
   "cell_type": "code",
   "execution_count": 64,
   "metadata": {},
   "outputs": [
    {
     "data": {
      "text/plain": [
       "True"
      ]
     },
     "execution_count": 64,
     "metadata": {},
     "output_type": "execute_result"
    }
   ],
   "source": [
    "A = [1,2,3,3,4,5]\n",
    "Sort_check(A)"
   ]
  },
  {
   "cell_type": "code",
   "execution_count": 63,
   "metadata": {},
   "outputs": [],
   "source": [
    "def Sort_check(A):\n",
    "    flag = 0\n",
    "    for i in range(len(A)-1):\n",
    "        if A[i] <= A[i+1]:\n",
    "            flag = 1\n",
    "        else:\n",
    "            flag = 0\n",
    "            break\n",
    "    if flag == 0:\n",
    "        return False\n",
    "    else:\n",
    "        return True"
   ]
  },
  {
   "cell_type": "markdown",
   "metadata": {},
   "source": [
    "### 4) Remove duplicates from sorted array\n",
    "Problem Statement: Given an integer array sorted in non-decreasing order, remove the duplicates in place such that each unique element appears only once. The relative order of the elements should be kept the same.\n",
    "\n",
    "If there are k elements after removing the duplicates, then the first k elements of the array should hold the final result. It does not matter what you leave beyond the first k elements.\n",
    "\n",
    "Example 1: \n",
    "\n",
    "Input: arr[1,1,2,2,2,3,3]\n",
    "\n",
    "Output: arr[1,2,3,_,_,_,_]\n",
    "\n",
    "Explanation: Total number of unique elements are 3, i.e[1,2,3] and Therefore return 3 after assigning [1,2,3] in the beginning of the array."
   ]
  },
  {
   "cell_type": "code",
   "execution_count": 83,
   "metadata": {},
   "outputs": [],
   "source": [
    "A = [1,1,2,3,3,4,4,5]"
   ]
  },
  {
   "cell_type": "code",
   "execution_count": 92,
   "metadata": {},
   "outputs": [
    {
     "name": "stdout",
     "output_type": "stream",
     "text": [
      "0 1 Variable and values 1 2\n",
      "1 1 Post Variable and values 2 2 final array [1, 2, 2, 3, 3, 4, 5, 5]\n",
      "1 2 Variable and values 2 2\n",
      "1 3 Variable and values 2 3\n",
      "2 3 Post Variable and values 3 3 final array [1, 2, 3, 3, 3, 4, 5, 5]\n",
      "2 4 Variable and values 3 3\n",
      "2 5 Variable and values 3 4\n",
      "3 5 Post Variable and values 4 4 final array [1, 2, 3, 4, 3, 4, 5, 5]\n",
      "3 6 Variable and values 4 5\n",
      "4 6 Post Variable and values 5 5 final array [1, 2, 3, 4, 5, 4, 5, 5]\n",
      "4 7 Variable and values 5 5\n",
      "The array after removing duplicate elements is \n",
      "1 2 3 4 5 "
     ]
    }
   ],
   "source": [
    "from typing import List\n",
    "def removeDuplicates(arr: List[int]) -> int:\n",
    "    i = 0\n",
    "    for j in range(1, len(arr)):\n",
    "        print(i,j,\"Variable and values\",arr[i],arr[j])\n",
    "        if arr[i] != arr[j]:\n",
    "            i += 1\n",
    "            arr[i] = arr[j]\n",
    "            print(i,j,\"Post Variable and values\",arr[i],arr[j],\"final array\",arr)\n",
    "    return i + 1\n",
    "\n",
    "\n",
    "if __name__ == \"__main__\":\n",
    "    arr = [1, 2, 2, 3, 3,4,5,5]\n",
    "    k = removeDuplicates(arr)\n",
    "    print(\"The array after removing duplicate elements is \")\n",
    "    for i in range(k):\n",
    "        print(arr[i], end=\" \")\n",
    "# Time complexity O(n)\n",
    "# space complexity O(1)"
   ]
  },
  {
   "cell_type": "markdown",
   "metadata": {},
   "source": [
    "# 5) Left Rotate the Array by One\n",
    "\n",
    "Problem Statement: Given an array of N integers, left rotate the array by one place.\n",
    "\n",
    "Example 1:\n",
    "Input: N = 5, array[] = {1,2,3,4,5}\n",
    "Output: 2,3,4,5,1\n",
    "Explanation: \n",
    "Since all the elements in array will be shifted \n",
    "toward left by one so ‘2’ will now become the \n",
    "first index and and ‘1’ which was present at \n",
    "first index will be shifted at last."
   ]
  },
  {
   "cell_type": "code",
   "execution_count": 102,
   "metadata": {},
   "outputs": [
    {
     "name": "stdout",
     "output_type": "stream",
     "text": [
      "4 [3, 4, 5, 4, 3]\n"
     ]
    }
   ],
   "source": [
    "arr = [1,2,3,4,5]\n",
    "temp = arr[2]\n",
    "for i in range(len(arr)-2):\n",
    "    arr[i] = arr[i+2]\n",
    "arr[i+2] = temp\n",
    "print(i+2,arr)"
   ]
  },
  {
   "cell_type": "markdown",
   "metadata": {},
   "source": [
    "# 6) Left rotate an array by D places\n",
    "\n",
    "Problem Statement: Given an array of N integers and an integer D, left rotate the array by D place.\n",
    "Example 1:\n",
    "Input: N = 7, array[] = {1,2,3,4,5,6,7} , d = 3\n",
    "Output: 4 5 6 7 1 2 3\n",
    "Explanation: The array is rotated to the left by 3 positions."
   ]
  },
  {
   "cell_type": "code",
   "execution_count": 154,
   "metadata": {},
   "outputs": [
    {
     "name": "stdout",
     "output_type": "stream",
     "text": [
      "[1, 2, 3, 4, 5] [1, 2, 3]\n",
      "[1, 2, 3, 4, 5] [3, 2, 1]\n",
      "[3, 2, 1, 4, 5] until D\n",
      "[3, 2, 1, 4, 5] [4, 5]\n",
      "[3, 2, 1, 4, 5] [5, 4]\n"
     ]
    },
    {
     "data": {
      "text/plain": [
       "[4, 5, 1, 2, 3]"
      ]
     },
     "execution_count": 154,
     "metadata": {},
     "output_type": "execute_result"
    }
   ],
   "source": [
    "a = [1,2,3,4,5]\n",
    "D = 3\n",
    "n = len(a)\n",
    "left_rotation(a,D,n)"
   ]
  },
  {
   "cell_type": "code",
   "execution_count": 152,
   "metadata": {},
   "outputs": [],
   "source": [
    "# for D = 3\n",
    "'''\n",
    "0 [1,2,3,4,5]\n",
    "1 [2,3,4,5,1]\n",
    "2 [3,4,5,1,2]\n",
    "3 [4,5,1,2,3]\n",
    "# reverse [3,2,1,  5,4]\n",
    "# reverse [1,2,3,  4,5]\n",
    "'''\n",
    "def left_rotation(a,D,n):\n",
    "    if D%n == 0:\n",
    "        return a\n",
    "    D = int(D%n)\n",
    "    a[:D] = reverse(a,a[:D],D)\n",
    "    print(a,\"until D\")\n",
    "    a[D:] = reverse(a,a[D:],D)\n",
    "\n",
    "    a.reverse()\n",
    "    return a"
   ]
  },
  {
   "cell_type": "code",
   "execution_count": 153,
   "metadata": {},
   "outputs": [],
   "source": [
    "def reverse(arr,ar,D):\n",
    "    print(arr,ar)\n",
    "    ar.reverse()\n",
    "    #print(arr,ar)\n",
    "    #arr[:D] = ar\n",
    "    print(arr,ar)\n",
    "    return ar"
   ]
  },
  {
   "cell_type": "code",
   "execution_count": 142,
   "metadata": {},
   "outputs": [
    {
     "name": "stdout",
     "output_type": "stream",
     "text": [
      "[1, 2, 3, 4, 5] [1, 2, 3]\n",
      "[1, 2, 3, 4, 5] [3, 2, 1]\n",
      "[3, 2, 1, 4, 5] [3, 2, 1]\n"
     ]
    }
   ],
   "source": [
    "reverse(arr,arr[:D],D)"
   ]
  },
  {
   "cell_type": "markdown",
   "metadata": {},
   "source": [
    "# 7) Move all Zeros to the end of the array\n",
    "\n",
    "In this article we will learn how to solve the most asked coding interview problem: “Move all Zeros to the end of the array”\n",
    "\n",
    "Problem Statement: You are given an array of integers, your task is to move all the zeros in the array to the end of the array and move non-negative integers to the front by maintaining their order.\n",
    "\n",
    "Example 1:\n",
    "Input: 1 ,0 ,2 ,3 ,0 ,4 ,0 ,1\n",
    "Output: 1 ,2 ,3 ,4 ,1 ,0 ,0 ,0\n",
    "Explanation: All the zeros are moved to the end and non-negative integers are moved to front by maintaining order"
   ]
  },
  {
   "cell_type": "code",
   "execution_count": 159,
   "metadata": {},
   "outputs": [
    {
     "name": "stdout",
     "output_type": "stream",
     "text": [
      "[1, 2, 3, 4, 1, 0, 0, 0] asd\n"
     ]
    }
   ],
   "source": [
    "a = [1 ,0 ,2 ,3 ,0 ,4 ,0 ,1]\n",
    "for i in range(len(a)):\n",
    "    if a[i] == 0:\n",
    "        #print(a[i],i,a,\"----\")\n",
    "#         for j in in range(i,len(a)-1):\n",
    "        j=i\n",
    "        while j < len(a)-1:\n",
    "            #swap move adjacent to the left\n",
    "            temp = a[j]\n",
    "            a[j] = a[j+1]\n",
    "            a[j+1] = temp\n",
    "            \n",
    "            j += 1\n",
    "    #print(a)\n",
    "print(a,\"asd\")\n",
    "            "
   ]
  },
  {
   "cell_type": "markdown",
   "metadata": {},
   "source": [
    "# 8) Linear Search in C\n",
    "\n",
    "Problem Statement: Given an array, and an element num the task is to find if num is present in the given array or not. If present print the index of the element or print -1.\n",
    "Example 1:\n",
    "Input: arr[]= 1 2 3 4 5, num = 3\n",
    "Output: 2\n",
    "Explanation: 3 is present in the 2nd index"
   ]
  },
  {
   "cell_type": "code",
   "execution_count": 6,
   "metadata": {},
   "outputs": [
    {
     "data": {
      "text/plain": [
       "-1"
      ]
     },
     "execution_count": 6,
     "metadata": {},
     "output_type": "execute_result"
    }
   ],
   "source": [
    "def search(a,n):\n",
    "    if n in a:\n",
    "        return a.index(n)\n",
    "    else:\n",
    "        return -1\n",
    "search(a,6)"
   ]
  },
  {
   "cell_type": "code",
   "execution_count": 2,
   "metadata": {},
   "outputs": [],
   "source": [
    "a = [1,2,3,4,5]"
   ]
  },
  {
   "cell_type": "markdown",
   "metadata": {},
   "source": [
    "# 9) Union of Two Sorted Arrays and intersection\n",
    "\n",
    "Problem Statement: Given two sorted arrays, arr1, and arr2 of size n and m. Find the union of two sorted arrays.\n",
    "\n",
    "The union of two arrays can be defined as the common and distinct elements in the two arrays.NOTE: Elements in the union should be in ascending order.\n",
    "\n",
    "###### Process:\n",
    "1. first combine the arrays\n",
    "2. remove duplicates\n",
    "3. sort the array"
   ]
  },
  {
   "cell_type": "markdown",
   "metadata": {},
   "source": [
    "#### Union"
   ]
  },
  {
   "cell_type": "code",
   "execution_count": 19,
   "metadata": {},
   "outputs": [],
   "source": [
    "a1 = [1,2,3,4,5]\n",
    "a2 = [2,3,4,4,5,0]\n",
    "# o/p a3 = [1,2,3,4,5]\n",
    "a1.extend(a2)\n",
    "a1 =set(a1)"
   ]
  },
  {
   "cell_type": "code",
   "execution_count": 20,
   "metadata": {},
   "outputs": [
    {
     "data": {
      "text/plain": [
       "{0, 1, 2, 3, 4, 5}"
      ]
     },
     "execution_count": 20,
     "metadata": {},
     "output_type": "execute_result"
    }
   ],
   "source": [
    "a1"
   ]
  },
  {
   "cell_type": "markdown",
   "metadata": {},
   "source": [
    "#### Intersection"
   ]
  },
  {
   "cell_type": "code",
   "execution_count": 32,
   "metadata": {},
   "outputs": [
    {
     "data": {
      "text/plain": [
       "{2, 3, 4, 5}"
      ]
     },
     "execution_count": 32,
     "metadata": {},
     "output_type": "execute_result"
    }
   ],
   "source": [
    "a1 = [1,2,3,4,5,6]\n",
    "a2 = [2,3,4,4,9,5,0]\n",
    "set(a2) & set(a1)"
   ]
  },
  {
   "cell_type": "markdown",
   "metadata": {},
   "source": [
    "# 10) Find the missing number in an array\n",
    "\n",
    "Problem Statement: Given an integer N and an array of size N-1 containing N-1 numbers between 1 to N. Find the number(between 1 to N), that is not present in the given array."
   ]
  },
  {
   "cell_type": "code",
   "execution_count": 37,
   "metadata": {},
   "outputs": [
    {
     "name": "stdout",
     "output_type": "stream",
     "text": [
      "4"
     ]
    }
   ],
   "source": [
    "a = [1,2,3,5]\n",
    "for i in range(1,len(a)+1):\n",
    "    if i not in a:\n",
    "        print(i,end='')"
   ]
  },
  {
   "cell_type": "markdown",
   "metadata": {},
   "source": [
    "# 11) Count Maximum Consecutive One’s in the array\n",
    "\n",
    "Problem Statement: Given an array that contains only 1 and 0 return the count of maximum consecutive ones in the array."
   ]
  },
  {
   "cell_type": "code",
   "execution_count": 90,
   "metadata": {},
   "outputs": [
    {
     "data": {
      "text/plain": [
       "6"
      ]
     },
     "execution_count": 90,
     "metadata": {},
     "output_type": "execute_result"
    }
   ],
   "source": [
    "a = [1,0,0,0,1,1,1,1,1,1,0]\n",
    "count_ones(a)"
   ]
  },
  {
   "cell_type": "code",
   "execution_count": 86,
   "metadata": {},
   "outputs": [
    {
     "name": "stdout",
     "output_type": "stream",
     "text": [
      "0\n"
     ]
    }
   ],
   "source": [
    "max_count = 0\n",
    "temp_count = 0\n",
    "for i in range(len(a)-1):\n",
    "    if a[i] == 1 and a[i] == a[i+1]:\n",
    "        temp_count += 1\n",
    "    if temp_count >= max_count:\n",
    "        max_count = temp_count\n",
    "    if a[i] != 1:\n",
    "        temp_count = 0\n",
    "if max_count == 0:\n",
    "    print(max_count)\n",
    "else:        \n",
    "    print(max_count+1)        "
   ]
  },
  {
   "cell_type": "code",
   "execution_count": 87,
   "metadata": {},
   "outputs": [],
   "source": [
    "def count_ones(a):\n",
    "    cnt = 0\n",
    "    max_cnt = 0\n",
    "    for i in range(len(a)):\n",
    "        if a[i] == 1:\n",
    "            cnt += 1\n",
    "        else:\n",
    "            cnt = 0\n",
    "        max_cnt = max(max_cnt,cnt)\n",
    "    return max_cnt"
   ]
  },
  {
   "cell_type": "markdown",
   "metadata": {},
   "source": [
    "# 14) Find the number that appears once, and the other numbers twice\n",
    "\n",
    "Problem Statement: Given a non-empty array of integers arr, every element appears twice except for one. Find that single one"
   ]
  },
  {
   "cell_type": "code",
   "execution_count": 103,
   "metadata": {},
   "outputs": [],
   "source": [
    "a = [1,2,2,3,3]\n",
    "dict_map = {}\n",
    "dict_map = dict.fromkeys(a,0)\n",
    "for i in range(len(a)):\n",
    "    dict_map[a[i]] += 1\n",
    "for key,value in dict_map.items():\n",
    "    if value == 1:\n",
    "        print(key)"
   ]
  },
  {
   "cell_type": "code",
   "execution_count": 109,
   "metadata": {},
   "outputs": [
    {
     "name": "stdout",
     "output_type": "stream",
     "text": [
      "The single element is: 4\n"
     ]
    }
   ],
   "source": [
    "def getSingleElement(arr):\n",
    "    # XOR all the elements:\n",
    "    xorr = 0\n",
    "    for num in arr:\n",
    "        xorr = xorr ^ num\n",
    "    return xorr\n",
    "\n",
    "arr = [4, 1, 2, 1, 2]\n",
    "ans = getSingleElement(arr)\n",
    "print(\"The single element is:\", ans)\n"
   ]
  },
  {
   "cell_type": "markdown",
   "metadata": {},
   "source": [
    "# 15) Longest Subarray with given Sum K\n",
    "\n",
    "Problem Statement: Given an array and a sum k, we need to print the length of the longest subarray that sums to k.\n",
    "\n",
    "##### Example 1:\n",
    "\n",
    "Input Format: N = 3, k = 5, array[] = {2,3,5}\n",
    "\n",
    "Result: 2\n",
    "\n",
    "Explanation: The longest subarray with sum 5 is {2, 3}. And its length is 2.\n",
    "\n",
    "\n",
    "##### Example 2:\n",
    "\n",
    "Input Format: N = 5, k = 10, array[] = {2,3,5,1,9}\n",
    "\n",
    "Result: 3\n",
    "\n",
    "\n",
    "Explanation: The longest subarray with sum 10 is {2, 3, 5}. And its length is 3"
   ]
  },
  {
   "cell_type": "code",
   "execution_count": 1,
   "metadata": {},
   "outputs": [
    {
     "name": "stdout",
     "output_type": "stream",
     "text": [
      "1\n"
     ]
    }
   ],
   "source": [
    "a = [2,3,5]\n",
    "k = 5\n",
    "sum = 0\n",
    "cnt = 0\n",
    "for i in range(len(a)-1):\n",
    "    if k in a:\n",
    "        cnt = 1\n",
    "    sum = a[i] + a[i+1]\n",
    "    if sum == k:\n",
    "        print(cnt)"
   ]
  },
  {
   "cell_type": "code",
   "execution_count": 2,
   "metadata": {},
   "outputs": [],
   "source": [
    "a = [1,2,3,1,1,1,1,4,2,2]\n",
    "k = 3\n",
    "hash_arr = []\n",
    "t_sum = 0\n",
    "max_len = 0\n",
    "for i in range(len(a)):\n",
    "    t_sum += a[i]\n",
    "    if t_sum == k:\n",
    "        max_len = max(max_len,i+1)\n",
    "    rem = t_sum - k\n",
    "    if rem in hash_arr:\n",
    "        len = i - hash_arr[rem]\n",
    "        max_len = max(max_len,len)\n",
    "    if t_sum not in hash_arr:\n",
    "        hash_arr.extend([i])"
   ]
  },
  {
   "cell_type": "code",
   "execution_count": 3,
   "metadata": {},
   "outputs": [],
   "source": [
    "del hash_arr"
   ]
  },
  {
   "cell_type": "code",
   "execution_count": 5,
   "metadata": {},
   "outputs": [],
   "source": [
    "hash_arr = []"
   ]
  },
  {
   "cell_type": "code",
   "execution_count": 7,
   "metadata": {},
   "outputs": [],
   "source": [
    "hash_arr.extend([0])"
   ]
  },
  {
   "cell_type": "code",
   "execution_count": 8,
   "metadata": {},
   "outputs": [
    {
     "data": {
      "text/plain": [
       "[0]"
      ]
     },
     "execution_count": 8,
     "metadata": {},
     "output_type": "execute_result"
    }
   ],
   "source": [
    "hash_arr"
   ]
  },
  {
   "cell_type": "code",
   "execution_count": 12,
   "metadata": {},
   "outputs": [
    {
     "data": {
      "text/plain": [
       "[0, 1, 2, 3, 4, 5, 6, 7, 8, 9]"
      ]
     },
     "execution_count": 12,
     "metadata": {},
     "output_type": "execute_result"
    }
   ],
   "source": [
    "hash_arr"
   ]
  },
  {
   "cell_type": "code",
   "execution_count": 5,
   "metadata": {},
   "outputs": [
    {
     "ename": "TypeError",
     "evalue": "'int' object is not callable",
     "output_type": "error",
     "traceback": [
      "\u001b[1;31m---------------------------------------------------------------------------\u001b[0m",
      "\u001b[1;31mTypeError\u001b[0m                                 Traceback (most recent call last)",
      "\u001b[1;32m<ipython-input-5-722356ba839b>\u001b[0m in \u001b[0;36m<module>\u001b[1;34m\u001b[0m\n\u001b[0;32m     32\u001b[0m     \u001b[0ma\u001b[0m \u001b[1;33m=\u001b[0m \u001b[1;33m[\u001b[0m\u001b[1;36m1\u001b[0m\u001b[1;33m,\u001b[0m\u001b[1;36m2\u001b[0m\u001b[1;33m,\u001b[0m\u001b[1;36m3\u001b[0m\u001b[1;33m,\u001b[0m\u001b[1;36m1\u001b[0m\u001b[1;33m,\u001b[0m\u001b[1;36m1\u001b[0m\u001b[1;33m,\u001b[0m\u001b[1;36m1\u001b[0m\u001b[1;33m,\u001b[0m\u001b[1;36m1\u001b[0m\u001b[1;33m,\u001b[0m\u001b[1;36m4\u001b[0m\u001b[1;33m,\u001b[0m\u001b[1;36m2\u001b[0m\u001b[1;33m,\u001b[0m\u001b[1;36m2\u001b[0m\u001b[1;33m]\u001b[0m\u001b[1;33m\u001b[0m\u001b[1;33m\u001b[0m\u001b[0m\n\u001b[0;32m     33\u001b[0m     \u001b[0mk\u001b[0m \u001b[1;33m=\u001b[0m \u001b[1;36m3\u001b[0m\u001b[1;33m\u001b[0m\u001b[1;33m\u001b[0m\u001b[0m\n\u001b[1;32m---> 34\u001b[1;33m     \u001b[0mlength\u001b[0m \u001b[1;33m=\u001b[0m \u001b[0mgetLongestSubarray\u001b[0m\u001b[1;33m(\u001b[0m\u001b[0ma\u001b[0m\u001b[1;33m,\u001b[0m \u001b[0mk\u001b[0m\u001b[1;33m)\u001b[0m\u001b[1;33m\u001b[0m\u001b[1;33m\u001b[0m\u001b[0m\n\u001b[0m\u001b[0;32m     35\u001b[0m     \u001b[0mprint\u001b[0m\u001b[1;33m(\u001b[0m\u001b[1;34mf\"The length of the longest subarray is: {length}\"\u001b[0m\u001b[1;33m)\u001b[0m\u001b[1;33m\u001b[0m\u001b[1;33m\u001b[0m\u001b[0m\n",
      "\u001b[1;32m<ipython-input-5-722356ba839b>\u001b[0m in \u001b[0;36mgetLongestSubarray\u001b[1;34m(a, k)\u001b[0m\n\u001b[0;32m      2\u001b[0m \u001b[1;33m\u001b[0m\u001b[0m\n\u001b[0;32m      3\u001b[0m \u001b[1;32mdef\u001b[0m \u001b[0mgetLongestSubarray\u001b[0m\u001b[1;33m(\u001b[0m\u001b[0ma\u001b[0m\u001b[1;33m:\u001b[0m \u001b[1;33m[\u001b[0m\u001b[0mint\u001b[0m\u001b[1;33m]\u001b[0m\u001b[1;33m,\u001b[0m \u001b[0mk\u001b[0m\u001b[1;33m:\u001b[0m \u001b[0mint\u001b[0m\u001b[1;33m)\u001b[0m \u001b[1;33m->\u001b[0m \u001b[0mint\u001b[0m\u001b[1;33m:\u001b[0m\u001b[1;33m\u001b[0m\u001b[1;33m\u001b[0m\u001b[0m\n\u001b[1;32m----> 4\u001b[1;33m     \u001b[0mn\u001b[0m \u001b[1;33m=\u001b[0m \u001b[0mlen\u001b[0m\u001b[1;33m(\u001b[0m\u001b[0ma\u001b[0m\u001b[1;33m)\u001b[0m \u001b[1;31m# size of the array.\u001b[0m\u001b[1;33m\u001b[0m\u001b[1;33m\u001b[0m\u001b[0m\n\u001b[0m\u001b[0;32m      5\u001b[0m \u001b[1;33m\u001b[0m\u001b[0m\n\u001b[0;32m      6\u001b[0m     \u001b[0mpreSumMap\u001b[0m \u001b[1;33m=\u001b[0m \u001b[1;33m{\u001b[0m\u001b[1;33m}\u001b[0m\u001b[1;33m\u001b[0m\u001b[1;33m\u001b[0m\u001b[0m\n",
      "\u001b[1;31mTypeError\u001b[0m: 'int' object is not callable"
     ]
    }
   ],
   "source": [
    "from typing import List\n",
    "\n",
    "def getLongestSubarray(a: [int], k: int) -> int:\n",
    "    n = len(a) # size of the array.\n",
    "\n",
    "    preSumMap = {}\n",
    "    T_Sum = 0\n",
    "    maxLen = 0\n",
    "    for i in range(n):\n",
    "        # calculate the prefix sum till index i:\n",
    "        T_Sum += a[i]\n",
    "\n",
    "        # if the sum = k, update the maxLen:\n",
    "        if T_Sum == k:\n",
    "            maxLen = max(maxLen, i + 1)\n",
    "\n",
    "        # calculate the sum of remaining part i.e. x-k:\n",
    "        rem = T_Sum - k\n",
    "\n",
    "        # Calculate the length and update maxLen:\n",
    "        if rem in preSumMap:\n",
    "            length = i - preSumMap[rem]\n",
    "            maxLen = max(maxLen, length)\n",
    "\n",
    "        # Finally, update the map checking the conditions:\n",
    "        if T_Sum not in preSumMap:\n",
    "            preSumMap[T_Sum] = i\n",
    "    print(preSumMap)\n",
    "    return maxLen\n",
    "\n",
    "if __name__ == \"__main__\":\n",
    "    a = [1,2,3,1,1,1,1,4,2,2]\n",
    "    k = 3\n",
    "    length = getLongestSubarray(a, k)\n",
    "    print(f\"The length of the longest subarray is: {length}\")"
   ]
  },
  {
   "cell_type": "code",
   "execution_count": null,
   "metadata": {},
   "outputs": [],
   "source": []
  },
  {
   "cell_type": "code",
   "execution_count": null,
   "metadata": {},
   "outputs": [],
   "source": []
  }
 ],
 "metadata": {
  "kernelspec": {
   "display_name": "Python 3",
   "language": "python",
   "name": "python3"
  },
  "language_info": {
   "codemirror_mode": {
    "name": "ipython",
    "version": 3
   },
   "file_extension": ".py",
   "mimetype": "text/x-python",
   "name": "python",
   "nbconvert_exporter": "python",
   "pygments_lexer": "ipython3",
   "version": "3.7.1"
  }
 },
 "nbformat": 4,
 "nbformat_minor": 2
}
