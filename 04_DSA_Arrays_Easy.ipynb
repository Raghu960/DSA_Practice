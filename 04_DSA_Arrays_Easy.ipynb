{
 "cells": [
  {
   "cell_type": "markdown",
   "metadata": {},
   "source": [
    "# Arrays"
   ]
  },
  {
   "cell_type": "markdown",
   "metadata": {},
   "source": [
    "### 1) Largest element in the array"
   ]
  },
  {
   "cell_type": "code",
   "execution_count": 14,
   "metadata": {},
   "outputs": [
    {
     "name": "stdout",
     "output_type": "stream",
     "text": [
      "5\n"
     ]
    }
   ],
   "source": [
    "arr = [5,4,1,3,2,5]\n",
    "max_val = arr[0]\n",
    "for i in range(len(arr)):\n",
    "    if max_val < arr[i]:\n",
    "        max_val = arr[i]\n",
    "print(max_val)"
   ]
  },
  {
   "cell_type": "code",
   "execution_count": 15,
   "metadata": {},
   "outputs": [
    {
     "data": {
      "text/plain": [
       "5"
      ]
     },
     "execution_count": 15,
     "metadata": {},
     "output_type": "execute_result"
    }
   ],
   "source": [
    "arr.sort()\n",
    "arr[-1]"
   ]
  },
  {
   "cell_type": "code",
   "execution_count": 16,
   "metadata": {},
   "outputs": [
    {
     "name": "stdout",
     "output_type": "stream",
     "text": [
      "5\n",
      "5\n"
     ]
    }
   ],
   "source": [
    "from functools import reduce\n",
    "\n",
    "max_val = reduce(lambda x, y: x if x > y else y, arr)\n",
    "print(max_val)\n",
    "print(max(arr))"
   ]
  },
  {
   "cell_type": "markdown",
   "metadata": {},
   "source": [
    "### 2) 2nd Largest and smallest element"
   ]
  },
  {
   "cell_type": "code",
   "execution_count": 17,
   "metadata": {},
   "outputs": [
    {
     "data": {
      "text/plain": [
       "5"
      ]
     },
     "execution_count": 17,
     "metadata": {},
     "output_type": "execute_result"
    }
   ],
   "source": [
    "arr.sort()\n",
    "arr[-1]"
   ]
  },
  {
   "cell_type": "code",
   "execution_count": 46,
   "metadata": {},
   "outputs": [],
   "source": [
    "arr = [0,5,6,7,1,2,1,4,1,2,4]"
   ]
  },
  {
   "cell_type": "code",
   "execution_count": 49,
   "metadata": {},
   "outputs": [
    {
     "name": "stdout",
     "output_type": "stream",
     "text": [
      "4 7\n"
     ]
    }
   ],
   "source": [
    "small = float('-inf')\n",
    "S_small = float('-inf')\n",
    "for i in range(len(arr)):\n",
    "    if arr[i] > small:\n",
    "        small = arr[i]\n",
    "    elif arr[i] > S_small and arr[i] != small:\n",
    "        S_small = arr[i]\n",
    "print(S_small,small)\n",
    "\n",
    "#Time complexity O(N)\n",
    "#Space complexity O(1)"
   ]
  },
  {
   "cell_type": "markdown",
   "metadata": {},
   "source": [
    "### 3) Check if array is sorted"
   ]
  },
  {
   "cell_type": "code",
   "execution_count": 64,
   "metadata": {},
   "outputs": [
    {
     "data": {
      "text/plain": [
       "True"
      ]
     },
     "execution_count": 64,
     "metadata": {},
     "output_type": "execute_result"
    }
   ],
   "source": [
    "A = [1,2,3,3,4,5]\n",
    "Sort_check(A)"
   ]
  },
  {
   "cell_type": "code",
   "execution_count": 63,
   "metadata": {},
   "outputs": [],
   "source": [
    "def Sort_check(A):\n",
    "    flag = 0\n",
    "    for i in range(len(A)-1):\n",
    "        if A[i] <= A[i+1]:\n",
    "            flag = 1\n",
    "        else:\n",
    "            flag = 0\n",
    "            break\n",
    "    if flag == 0:\n",
    "        return False\n",
    "    else:\n",
    "        return True"
   ]
  },
  {
   "cell_type": "markdown",
   "metadata": {},
   "source": [
    "### 4) Remove duplicates from sorted array\n",
    "Problem Statement: Given an integer array sorted in non-decreasing order, remove the duplicates in place such that each unique element appears only once. The relative order of the elements should be kept the same.\n",
    "\n",
    "If there are k elements after removing the duplicates, then the first k elements of the array should hold the final result. It does not matter what you leave beyond the first k elements.\n",
    "\n",
    "Example 1: \n",
    "\n",
    "Input: arr[1,1,2,2,2,3,3]\n",
    "\n",
    "Output: arr[1,2,3,_,_,_,_]\n",
    "\n",
    "Explanation: Total number of unique elements are 3, i.e[1,2,3] and Therefore return 3 after assigning [1,2,3] in the beginning of the array."
   ]
  },
  {
   "cell_type": "code",
   "execution_count": 83,
   "metadata": {},
   "outputs": [],
   "source": [
    "A = [1,1,2,3,3,4,4,5]"
   ]
  },
  {
   "cell_type": "code",
   "execution_count": 92,
   "metadata": {},
   "outputs": [
    {
     "name": "stdout",
     "output_type": "stream",
     "text": [
      "0 1 Variable and values 1 2\n",
      "1 1 Post Variable and values 2 2 final array [1, 2, 2, 3, 3, 4, 5, 5]\n",
      "1 2 Variable and values 2 2\n",
      "1 3 Variable and values 2 3\n",
      "2 3 Post Variable and values 3 3 final array [1, 2, 3, 3, 3, 4, 5, 5]\n",
      "2 4 Variable and values 3 3\n",
      "2 5 Variable and values 3 4\n",
      "3 5 Post Variable and values 4 4 final array [1, 2, 3, 4, 3, 4, 5, 5]\n",
      "3 6 Variable and values 4 5\n",
      "4 6 Post Variable and values 5 5 final array [1, 2, 3, 4, 5, 4, 5, 5]\n",
      "4 7 Variable and values 5 5\n",
      "The array after removing duplicate elements is \n",
      "1 2 3 4 5 "
     ]
    }
   ],
   "source": [
    "from typing import List\n",
    "def removeDuplicates(arr: List[int]) -> int:\n",
    "    i = 0\n",
    "    for j in range(1, len(arr)):\n",
    "        print(i,j,\"Variable and values\",arr[i],arr[j])\n",
    "        if arr[i] != arr[j]:\n",
    "            i += 1\n",
    "            arr[i] = arr[j]\n",
    "            print(i,j,\"Post Variable and values\",arr[i],arr[j],\"final array\",arr)\n",
    "    return i + 1\n",
    "\n",
    "\n",
    "if __name__ == \"__main__\":\n",
    "    arr = [1, 2, 2, 3, 3,4,5,5]\n",
    "    k = removeDuplicates(arr)\n",
    "    print(\"The array after removing duplicate elements is \")\n",
    "    for i in range(k):\n",
    "        print(arr[i], end=\" \")\n",
    "# Time complexity O(n)\n",
    "# space complexity O(1)"
   ]
  },
  {
   "cell_type": "markdown",
   "metadata": {},
   "source": [
    "# 5) Left Rotate the Array by One\n",
    "\n",
    "Problem Statement: Given an array of N integers, left rotate the array by one place.\n",
    "\n",
    "Example 1:\n",
    "Input: N = 5, array[] = {1,2,3,4,5}\n",
    "Output: 2,3,4,5,1\n",
    "Explanation: \n",
    "Since all the elements in array will be shifted \n",
    "toward left by one so ‘2’ will now become the \n",
    "first index and and ‘1’ which was present at \n",
    "first index will be shifted at last."
   ]
  },
  {
   "cell_type": "code",
   "execution_count": 102,
   "metadata": {},
   "outputs": [
    {
     "name": "stdout",
     "output_type": "stream",
     "text": [
      "4 [3, 4, 5, 4, 3]\n"
     ]
    }
   ],
   "source": [
    "arr = [1,2,3,4,5]\n",
    "temp = arr[2]\n",
    "for i in range(len(arr)-2):\n",
    "    arr[i] = arr[i+2]\n",
    "arr[i+2] = temp\n",
    "print(i+2,arr)"
   ]
  },
  {
   "cell_type": "markdown",
   "metadata": {},
   "source": [
    "# 6) Left rotate an array by D places\n",
    "\n",
    "Problem Statement: Given an array of N integers and an integer D, left rotate the array by D place.\n",
    "Example 1:\n",
    "Input: N = 7, array[] = {1,2,3,4,5,6,7} , d = 3\n",
    "Output: 4 5 6 7 1 2 3\n",
    "Explanation: The array is rotated to the left by 3 positions."
   ]
  },
  {
   "cell_type": "code",
   "execution_count": 154,
   "metadata": {},
   "outputs": [
    {
     "name": "stdout",
     "output_type": "stream",
     "text": [
      "[1, 2, 3, 4, 5] [1, 2, 3]\n",
      "[1, 2, 3, 4, 5] [3, 2, 1]\n",
      "[3, 2, 1, 4, 5] until D\n",
      "[3, 2, 1, 4, 5] [4, 5]\n",
      "[3, 2, 1, 4, 5] [5, 4]\n"
     ]
    },
    {
     "data": {
      "text/plain": [
       "[4, 5, 1, 2, 3]"
      ]
     },
     "execution_count": 154,
     "metadata": {},
     "output_type": "execute_result"
    }
   ],
   "source": [
    "a = [1,2,3,4,5]\n",
    "D = 3\n",
    "n = len(a)\n",
    "left_rotation(a,D,n)"
   ]
  },
  {
   "cell_type": "code",
   "execution_count": 152,
   "metadata": {},
   "outputs": [],
   "source": [
    "# for D = 3\n",
    "'''\n",
    "0 [1,2,3,4,5]\n",
    "1 [2,3,4,5,1]\n",
    "2 [3,4,5,1,2]\n",
    "3 [4,5,1,2,3]\n",
    "# reverse [3,2,1,  5,4]\n",
    "# reverse [1,2,3,  4,5]\n",
    "'''\n",
    "def left_rotation(a,D,n):\n",
    "    if D%n == 0:\n",
    "        return a\n",
    "    D = int(D%n)\n",
    "    a[:D] = reverse(a,a[:D],D)\n",
    "    print(a,\"until D\")\n",
    "    a[D:] = reverse(a,a[D:],D)\n",
    "\n",
    "    a.reverse()\n",
    "    return a"
   ]
  },
  {
   "cell_type": "code",
   "execution_count": 153,
   "metadata": {},
   "outputs": [],
   "source": [
    "def reverse(arr,ar,D):\n",
    "    print(arr,ar)\n",
    "    ar.reverse()\n",
    "    #print(arr,ar)\n",
    "    #arr[:D] = ar\n",
    "    print(arr,ar)\n",
    "    return ar"
   ]
  },
  {
   "cell_type": "code",
   "execution_count": 142,
   "metadata": {},
   "outputs": [
    {
     "name": "stdout",
     "output_type": "stream",
     "text": [
      "[1, 2, 3, 4, 5] [1, 2, 3]\n",
      "[1, 2, 3, 4, 5] [3, 2, 1]\n",
      "[3, 2, 1, 4, 5] [3, 2, 1]\n"
     ]
    }
   ],
   "source": [
    "reverse(arr,arr[:D],D)"
   ]
  },
  {
   "cell_type": "markdown",
   "metadata": {},
   "source": [
    "# 7) Move all Zeros to the end of the array\n",
    "\n",
    "In this article we will learn how to solve the most asked coding interview problem: “Move all Zeros to the end of the array”\n",
    "\n",
    "Problem Statement: You are given an array of integers, your task is to move all the zeros in the array to the end of the array and move non-negative integers to the front by maintaining their order.\n",
    "\n",
    "Example 1:\n",
    "Input: 1 ,0 ,2 ,3 ,0 ,4 ,0 ,1\n",
    "Output: 1 ,2 ,3 ,4 ,1 ,0 ,0 ,0\n",
    "Explanation: All the zeros are moved to the end and non-negative integers are moved to front by maintaining order"
   ]
  },
  {
   "cell_type": "code",
   "execution_count": 159,
   "metadata": {},
   "outputs": [
    {
     "name": "stdout",
     "output_type": "stream",
     "text": [
      "[1, 2, 3, 4, 1, 0, 0, 0] asd\n"
     ]
    }
   ],
   "source": [
    "a = [1 ,0 ,2 ,3 ,0 ,4 ,0 ,1]\n",
    "for i in range(len(a)):\n",
    "    if a[i] == 0:\n",
    "        #print(a[i],i,a,\"----\")\n",
    "#         for j in in range(i,len(a)-1):\n",
    "        j=i\n",
    "        while j < len(a)-1:\n",
    "            #swap move adjacent to the left\n",
    "            temp = a[j]\n",
    "            a[j] = a[j+1]\n",
    "            a[j+1] = temp\n",
    "            \n",
    "            j += 1\n",
    "    #print(a)\n",
    "print(a,\"asd\")\n",
    "            "
   ]
  },
  {
   "cell_type": "code",
   "execution_count": null,
   "metadata": {},
   "outputs": [],
   "source": []
  },
  {
   "cell_type": "code",
   "execution_count": null,
   "metadata": {},
   "outputs": [],
   "source": []
  }
 ],
 "metadata": {
  "kernelspec": {
   "display_name": "Python 3",
   "language": "python",
   "name": "python3"
  },
  "language_info": {
   "codemirror_mode": {
    "name": "ipython",
    "version": 3
   },
   "file_extension": ".py",
   "mimetype": "text/x-python",
   "name": "python",
   "nbconvert_exporter": "python",
   "pygments_lexer": "ipython3",
   "version": "3.7.1"
  }
 },
 "nbformat": 4,
 "nbformat_minor": 2
}
