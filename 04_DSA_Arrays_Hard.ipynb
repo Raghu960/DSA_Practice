{
 "cells": [
  {
   "cell_type": "markdown",
   "metadata": {},
   "source": [
    "# Arrays Hard"
   ]
  },
  {
   "cell_type": "markdown",
   "metadata": {},
   "source": [
    "### 1) Program to generate Pascal’s Triangle\n",
    "\n",
    "Problem Statement: This problem has 3 variations. They are stated below:\n",
    "\n",
    "Variation 1: Given row number r and column number c. Print the element at position (r, c) in Pascal’s triangle.\n",
    "\n",
    "Variation 2: Given the row number n. Print the n-th row of Pascal’s triangle.\n",
    "\n",
    "Variation 3: Given the number of rows n. Print the first n rows of Pascal’s triangle."
   ]
  },
  {
   "cell_type": "raw",
   "metadata": {},
   "source": [
    "Example 1:\n",
    "Input Format: N = 5, r = 5, c = 3\n",
    "Result: 6 (for variation 1)\n",
    "1 4 6 4 1 (for variation 2)\n",
    "\n",
    "1 \n",
    "1 1 \n",
    "1 2 1 \n",
    "1 3 3 1 \n",
    "1 4 6 4 1    (for variation 3)\n",
    "\n",
    "Explanation: There are 5 rows in the output matrix. Each row is formed using the logic of Pascal’s triangle.\n",
    "\n",
    "Example 2:\n",
    "Input Format: N = 1, r = 1, c = 1\n",
    "Result: 1 (for variation 1)\n",
    "    1 (for variation 2)\n",
    "    1  (for variation 3)\n",
    "Explanation: The output matrix has only 1 row."
   ]
  },
  {
   "cell_type": "code",
   "execution_count": 49,
   "metadata": {},
   "outputs": [
    {
     "name": "stdout",
     "output_type": "stream",
     "text": [
      "None 0 ccc 4 1\n",
      "4 0 ccc 4 2\n",
      "4 0 ccc 4 3\n",
      "4 0 ccc 4 4\n",
      "4 "
     ]
    }
   ],
   "source": [
    "# def getpascal_value(n):\n",
    "#     # To get the value we have formula of NcR where N!/(r!*(n-r)!)\n",
    "#     # Where N is no. of rows and r is column at which we need the value of. We need 5th row 3rd column value\n",
    "    \n",
    "#     for i in range(1,n+1):\n",
    "#         res = 1\n",
    "#         row_values = []\n",
    "#         for j in range(i-1):\n",
    "#             res = res * (n - 1 - j)\n",
    "#             res = res // (j + 1)\n",
    "#             #print(res,end=\" \")\n",
    "#             row_values.append(res)\n",
    "#             #print(row_values,\"---\")\n",
    "#     return row_values\n",
    "\n",
    "\n",
    "def combination(n,r):\n",
    "    op = 1\n",
    "    \n",
    "    for j in range(r):\n",
    "        op = op * (n-j)\n",
    "        op = op // (j+1)\n",
    "        #print(j,\"ccc\",n,r)\n",
    "        return op\n",
    "    \n",
    "    \n",
    "def P_triangle(5):\n",
    "    for i in range(1,5+1):\n",
    "        \n",
    "        #print(n-1,i,i-1,\"**\")\n",
    "        \n",
    "        print(combination(5-1,i-1),end=\" \")\n",
    "        #print(output,end=' ')\n",
    "\n",
    "\n",
    "\n",
    "if __name__ == '__main__':\n",
    "    N = 5\n",
    "#     c = 3\n",
    "#     r = 5\n",
    "#     result = getpascal_value(N)\n",
    "    result = P_triangle(N)\n",
    "    #print(result)"
   ]
  },
  {
   "cell_type": "code",
   "execution_count": null,
   "metadata": {},
   "outputs": [],
   "source": []
  },
  {
   "cell_type": "code",
   "execution_count": 8,
   "metadata": {},
   "outputs": [
    {
     "name": "stdout",
     "output_type": "stream",
     "text": [
      "\n",
      "1 \n",
      "1 1 \n",
      "1 2 1 \n",
      "1 3 3 1 \n",
      "1 4 6 4 1 \n"
     ]
    }
   ],
   "source": [
    "\n",
    "import math\n",
    "\n",
    "def nCr(n, r):\n",
    "    res = 1\n",
    "    # calculating nCr:\n",
    "    for i in range(r):\n",
    "        res = res * (n - i)\n",
    "        res = res // (i + 1)\n",
    "        #print(i,\"ccc\",n,r)\n",
    "    return res\n",
    "\n",
    "def pascalTriangle(n):\n",
    "    # printing the entire row n:\n",
    "    for c in range(1, n+1):\n",
    "        print(nCr(n-1, c-1),end=\" \")\n",
    "        \n",
    "    print()\n",
    "\n",
    "if __name__ == \"__main__\":\n",
    "    n = 5\n",
    "    for rows in range(n+1):\n",
    "        pascalTriangle(rows)\n",
    "    \n",
    "# Time complexity O(n^2)\n",
    "# Space complextiy O(1)"
   ]
  },
  {
   "cell_type": "markdown",
   "metadata": {},
   "source": [
    "### 2) Majority Elements(>N/3 times) | Find the elements that appears more than N/3 times in the array\n",
    "\n",
    "Problem Statement: Given an array of N integers. Find the elements that appear more than N/3 times in the array. If no such element exists, return an empty vector."
   ]
  },
  {
   "cell_type": "raw",
   "metadata": {},
   "source": [
    "Example 1:\n",
    "Input Format: N = 5, array[] = {1,2,2,3,2}\n",
    "Result: 2\n",
    "Explanation: Here we can see that the Count(1) = 1, Count(2) = 3 and Count(3) = 1.Therefore, the count of 2 is greater than N/3 times. Hence, 2 is the answer.\n",
    "\n",
    "Example 2:\n",
    "Input Format:  N = 6, array[] = {11,33,33,11,33,11}\n",
    "Result: 11 33\n",
    "Explanation: Here we can see that the Count(11) = 3 and Count(33) = 3. Therefore, the count of both 11 and 33 is greater than N/3 times. Hence, 11 and 33 is the answer."
   ]
  },
  {
   "cell_type": "code",
   "execution_count": 9,
   "metadata": {},
   "outputs": [
    {
     "name": "stdout",
     "output_type": "stream",
     "text": [
      "2\n"
     ]
    }
   ],
   "source": [
    "arr = [1,2,2,3,2]\n",
    "arr_dict = dict.fromkeys(arr,0)\n",
    "for i,num in enumerate(arr):\n",
    "    if num in arr_dict:\n",
    "        arr_dict[num] += 1\n",
    "for key,value in arr_dict.items():\n",
    "    if value > len(arr)/3:\n",
    "        print(key)\n",
    "# Time complexity 0(N^2)\n",
    "# Space complexity 0(N)"
   ]
  },
  {
   "cell_type": "markdown",
   "metadata": {},
   "source": [
    "#### 3) 3-Sum : Find triplets that add up to a zero\n",
    "\n",
    "Problem Statement: Given an array of N integers, your task is to find unique triplets that add up to give a sum of zero. In short, you need to return an array of all the unique triplets [arr[a], arr[b], arr[c]] such that i!=j, j!=k, k!=i, and their sum is equal to zero."
   ]
  },
  {
   "cell_type": "code",
   "execution_count": null,
   "metadata": {},
   "outputs": [],
   "source": []
  }
 ],
 "metadata": {
  "kernelspec": {
   "display_name": "Python 3",
   "language": "python",
   "name": "python3"
  },
  "language_info": {
   "codemirror_mode": {
    "name": "ipython",
    "version": 3
   },
   "file_extension": ".py",
   "mimetype": "text/x-python",
   "name": "python",
   "nbconvert_exporter": "python",
   "pygments_lexer": "ipython3",
   "version": "3.7.1"
  }
 },
 "nbformat": 4,
 "nbformat_minor": 2
}
